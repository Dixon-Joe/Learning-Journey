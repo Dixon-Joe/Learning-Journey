{
  "cells": [
    {
      "cell_type": "markdown",
      "metadata": {},
      "source": [
        "<h2>Initial Data Analysis</h2>"
      ]
    },
    {
      "cell_type": "markdown",
      "metadata": {},
      "source": [
        "<h3>Importing Libraries</h3>"
      ]
    },
    {
      "cell_type": "code",
      "execution_count": 1,
      "metadata": {
        "gather": {
          "logged": 1703603006554
        }
      },
      "outputs": [
        {
          "name": "stderr",
          "output_type": "stream",
          "text": [
            "/anaconda/envs/workstation_env/lib/python3.8/site-packages/scipy/__init__.py:146: UserWarning: A NumPy version >=1.16.5 and <1.23.0 is required for this version of SciPy (detected version 1.24.3\n",
            "  warnings.warn(f\"A NumPy version >={np_minversion} and <{np_maxversion}\"\n"
          ]
        }
      ],
      "source": [
        "import numpy as np\n",
        "import pandas as pd\n",
        "import matplotlib.pyplot as plt\n",
        "import seaborn as sns\n",
        "from azure.ai.ml import MLClient\n",
        "from azure.identity import DefaultAzureCredential\n",
        "from azure.ai.ml.entities import Data\n",
        "from azure.ai.ml.constants import AssetTypes"
      ]
    },
    {
      "cell_type": "markdown",
      "metadata": {},
      "source": [
        "<h3>Reading Scraped Data</h3>"
      ]
    },
    {
      "cell_type": "code",
      "execution_count": 2,
      "metadata": {
        "gather": {
          "logged": 1703603019434
        }
      },
      "outputs": [],
      "source": [
        "# authenticate\n",
        "credential = DefaultAzureCredential()\n",
        "\n",
        "# Get a handle to the workspace\n",
        "ml_client = MLClient(\n",
        "    credential=credential,\n",
        "    subscription_id=\"###\",\n",
        "    resource_group_name=\"###\",\n",
        "    workspace_name=\"###\",\n",
        ")"
      ]
    },
    {
      "cell_type": "code",
      "execution_count": 3,
      "metadata": {
        "gather": {
          "logged": 1703603024426
        },
        "jupyter": {
          "outputs_hidden": false,
          "source_hidden": false
        },
        "nteract": {
          "transient": {
            "deleting": false
          }
        }
      },
      "outputs": [
        {
          "name": "stdout",
          "output_type": "stream",
          "text": [
            "Data asset URI: azureml://subscriptions/144c7089-5d3d-40fa-bfaf-6ffb69774b59/resourcegroups/AML-sdk-v2-RG1/workspaces/AML-sdk-v2-RG1-WS1/datastores/workspaceblobstore/paths/LocalUpload/38a8ca735227b6f486f243a31bb53bea/Cleaned_Data.csv\n"
          ]
        }
      ],
      "source": [
        "version = \"Cleaned_Data\"\n",
        "# get a handle of the data asset and print the URI\n",
        "data_asset = ml_client.data.get(name=\"Car-Data\", version=version)\n",
        "print(f\"Data asset URI: {data_asset.path}\")\n",
        "\n",
        "# read into pandas - note that you will see 2 headers in your data frame - that is ok, for now\n",
        "\n",
        "df = pd.read_csv(data_asset.path)"
      ]
    },
    {
      "cell_type": "markdown",
      "metadata": {},
      "source": [
        "<pre>1. What is the maximum Power (kW) for cars with more than 4 Valves per Cylinder?</pre>"
      ]
    },
    {
      "cell_type": "code",
      "execution_count": 7,
      "metadata": {
        "gather": {
          "logged": 1703603145300
        }
      },
      "outputs": [
        {
          "data": {
            "text/plain": [
              "331.0"
            ]
          },
          "execution_count": 7,
          "metadata": {},
          "output_type": "execute_result"
        }
      ],
      "source": [
        "df[df['Valves_Per_Cylinder'] > 4]['Power(kw)'].max()"
      ]
    },
    {
      "cell_type": "markdown",
      "metadata": {},
      "source": [
        "<pre>2. What is the average CO2 Emissions for cars with Diesel fuel system?</pre>"
      ]
    },
    {
      "cell_type": "code",
      "execution_count": 8,
      "metadata": {
        "gather": {
          "logged": 1703603147481
        }
      },
      "outputs": [
        {
          "data": {
            "text/plain": [
              "array(['multipoint injection', 'direct injection',\n",
              "       'singplepoint injection', 'common rail', 'multijet',\n",
              "       'indirect injection'], dtype=object)"
            ]
          },
          "execution_count": 8,
          "metadata": {},
          "output_type": "execute_result"
        }
      ],
      "source": [
        "df[\"Fuel_System\"].unique()"
      ]
    },
    {
      "cell_type": "code",
      "execution_count": 9,
      "metadata": {
        "gather": {
          "logged": 1703603149954
        }
      },
      "outputs": [
        {
          "data": {
            "text/plain": [
              "183.7797619047619"
            ]
          },
          "execution_count": 9,
          "metadata": {},
          "output_type": "execute_result"
        }
      ],
      "source": [
        "df[df['Fuel_System'] == 'common rail']['Co2_Emissions(g/km)'].mean()"
      ]
    },
    {
      "cell_type": "markdown",
      "metadata": {},
      "source": [
        "<pre>3. What is the average Engine Capacity for cars with more than 200 kW Power?</pre>"
      ]
    },
    {
      "cell_type": "code",
      "execution_count": 10,
      "metadata": {
        "gather": {
          "logged": 1703603152623
        }
      },
      "outputs": [
        {
          "data": {
            "text/plain": [
              "3923.4779586756285"
            ]
          },
          "execution_count": 10,
          "metadata": {},
          "output_type": "execute_result"
        }
      ],
      "source": [
        "df[df['Power(kw)'] > 200]['Engine_Capacity(cc)'].mean()"
      ]
    },
    {
      "cell_type": "markdown",
      "metadata": {},
      "source": [
        "<pre>4. What is the average Engine Capacity for each Fuel System?</pre>"
      ]
    },
    {
      "cell_type": "code",
      "execution_count": 11,
      "metadata": {
        "gather": {
          "logged": 1703603155609
        }
      },
      "outputs": [
        {
          "data": {
            "text/plain": [
              "Fuel_System\n",
              "common rail               2151.466690\n",
              "direct injection          2176.804210\n",
              "indirect injection        2494.200000\n",
              "multijet                  1850.625000\n",
              "multipoint injection      2061.938166\n",
              "singplepoint injection    1220.035714\n",
              "Name: Engine_Capacity(cc), dtype: float64"
            ]
          },
          "execution_count": 11,
          "metadata": {},
          "output_type": "execute_result"
        }
      ],
      "source": [
        "df.groupby('Fuel_System')['Engine_Capacity(cc)'].mean()"
      ]
    },
    {
      "cell_type": "code",
      "execution_count": 12,
      "metadata": {
        "gather": {
          "logged": 1703603160498
        }
      },
      "outputs": [
        {
          "data": {
            "text/plain": [
              "array([4.        , 2.        , 5.        , 3.        , 3.74708926])"
            ]
          },
          "execution_count": 12,
          "metadata": {},
          "output_type": "execute_result"
        }
      ],
      "source": [
        "df[\"Valves_Per_Cylinder\"].unique()"
      ]
    },
    {
      "cell_type": "markdown",
      "metadata": {},
      "source": [
        "<pre>5. What is the average Max Power RPM for cars with more than or equal to 4 Valves per Cylinder?</pre>"
      ]
    },
    {
      "cell_type": "code",
      "execution_count": 13,
      "metadata": {
        "gather": {
          "logged": 1703603165902
        }
      },
      "outputs": [
        {
          "data": {
            "text/plain": [
              "5575.527492072628"
            ]
          },
          "execution_count": 13,
          "metadata": {},
          "output_type": "execute_result"
        }
      ],
      "source": [
        "df[df['Valves_Per_Cylinder'] >= 4]['Max_Power_Rpm'].mean()"
      ]
    },
    {
      "cell_type": "markdown",
      "metadata": {},
      "source": [
        "<pre>6. Best Fuel System based on average Co2 Emissions?</pre>"
      ]
    },
    {
      "cell_type": "code",
      "execution_count": 14,
      "metadata": {
        "gather": {
          "logged": 1703603169468
        }
      },
      "outputs": [
        {
          "data": {
            "text/plain": [
              "Fuel_System\n",
              "singplepoint injection    154.678571\n",
              "multijet                  169.000000\n",
              "direct injection          169.122047\n",
              "common rail               183.779762\n",
              "multipoint injection      196.179815\n",
              "indirect injection        246.800000\n",
              "Name: Co2_Emissions(g/km), dtype: float64"
            ]
          },
          "execution_count": 14,
          "metadata": {},
          "output_type": "execute_result"
        }
      ],
      "source": [
        "df.groupby('Fuel_System')['Co2_Emissions(g/km)'].mean().sort_values()"
      ]
    },
    {
      "cell_type": "markdown",
      "metadata": {},
      "source": [
        "<pre>7. What is the average Engine Capacity for cars with Gasoline fuel type</pre>"
      ]
    },
    {
      "cell_type": "code",
      "execution_count": 15,
      "metadata": {
        "gather": {
          "logged": 1703603183295
        }
      },
      "outputs": [
        {
          "data": {
            "text/plain": [
              "2090.7510537748817"
            ]
          },
          "execution_count": 15,
          "metadata": {},
          "output_type": "execute_result"
        }
      ],
      "source": [
        "df[(df['Fuel_Type'] == 'gasoline')]['Engine_Capacity(cc)'].mean()"
      ]
    },
    {
      "cell_type": "markdown",
      "metadata": {},
      "source": [
        "<pre>8. Average Co2 Emissions released from each Fuel Type</pre>"
      ]
    },
    {
      "cell_type": "code",
      "execution_count": 16,
      "metadata": {
        "gather": {
          "logged": 1703603184910
        }
      },
      "outputs": [
        {
          "data": {
            "text/plain": [
              "Fuel_Type\n",
              "gasoline / bio ethanol    121.666667\n",
              "lpg / gasoline            141.000000\n",
              "gasoline                  186.182648\n",
              "diesel                    187.184783\n",
              "Name: Co2_Emissions(g/km), dtype: float64"
            ]
          },
          "execution_count": 16,
          "metadata": {},
          "output_type": "execute_result"
        }
      ],
      "source": [
        "df.groupby('Fuel_Type')['Co2_Emissions(g/km)'].mean().sort_values()"
      ]
    },
    {
      "cell_type": "markdown",
      "metadata": {},
      "source": [
        "<pre>9.  What is the average Engine Capacity for cars with Co2 Emissions less than 220?</pre>"
      ]
    },
    {
      "cell_type": "code",
      "execution_count": 17,
      "metadata": {
        "gather": {
          "logged": 1703603187299
        }
      },
      "outputs": [
        {
          "data": {
            "text/plain": [
              "1676.9892337597853"
            ]
          },
          "execution_count": 17,
          "metadata": {},
          "output_type": "execute_result"
        }
      ],
      "source": [
        "df[(df['Co2_Emissions(g/km)'] < 220)]['Engine_Capacity(cc)'].mean()"
      ]
    },
    {
      "cell_type": "markdown",
      "metadata": {},
      "source": [
        "<pre>10. How many cars have Co2 Emissions between 220 and 250 (inclusive) and Diesel fuel type?</pre>"
      ]
    },
    {
      "cell_type": "code",
      "execution_count": 18,
      "metadata": {
        "gather": {
          "logged": 1703603189344
        }
      },
      "outputs": [
        {
          "data": {
            "text/plain": [
              "16"
            ]
          },
          "execution_count": 18,
          "metadata": {},
          "output_type": "execute_result"
        }
      ],
      "source": [
        "df[(df['Co2_Emissions(g/km)'] >= 220) & (df['Co2_Emissions(g/km)'] <= 250) & (df['Fuel_Type'] == 'diesel')].shape[0]"
      ]
    }
  ],
  "metadata": {
    "kernel_info": {
      "name": "workstation_env"
    },
    "kernelspec": {
      "display_name": "C02_Emission_Prediction-env",
      "language": "python",
      "name": "workstation_env"
    },
    "language_info": {
      "codemirror_mode": {
        "name": "ipython",
        "version": 3
      },
      "file_extension": ".py",
      "mimetype": "text/x-python",
      "name": "python",
      "nbconvert_exporter": "python",
      "pygments_lexer": "ipython3",
      "version": "3.8.18"
    },
    "microsoft": {
      "ms_spell_check": {
        "ms_spell_check_language": "en"
      }
    },
    "nteract": {
      "version": "nteract-front-end@1.0.0"
    }
  },
  "nbformat": 4,
  "nbformat_minor": 2
}
