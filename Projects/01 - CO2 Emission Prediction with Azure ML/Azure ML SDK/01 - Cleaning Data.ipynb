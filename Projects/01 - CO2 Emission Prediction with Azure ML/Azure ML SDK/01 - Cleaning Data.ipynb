{
  "cells": [
    {
      "cell_type": "markdown",
      "metadata": {},
      "source": [
        "<h2>Data Cleaning</h2>"
      ]
    },
    {
      "cell_type": "markdown",
      "metadata": {},
      "source": [
        "<h3>Importing Libraries</h3>"
      ]
    },
    {
      "cell_type": "code",
      "execution_count": 2,
      "metadata": {
        "gather": {
          "logged": 1703581245210
        }
      },
      "outputs": [],
      "source": [
        "import numpy as np\n",
        "import pandas as pd\n",
        "import matplotlib.pyplot as plt \n",
        "import warnings\n",
        "%matplotlib inline\n",
        "warnings.filterwarnings(\"ignore\")\n",
        "from azure.ai.ml import MLClient\n",
        "from azure.identity import DefaultAzureCredential\n",
        "from azure.ai.ml.entities import Data\n",
        "from azure.ai.ml.constants import AssetTypes"
      ]
    },
    {
      "cell_type": "markdown",
      "metadata": {},
      "source": [
        "<h3>Reading Scraped Data</h3>"
      ]
    },
    {
      "cell_type": "code",
      "execution_count": 3,
      "metadata": {
        "gather": {
          "logged": 1703581245865
        },
        "jupyter": {
          "outputs_hidden": false,
          "source_hidden": false
        },
        "nteract": {
          "transient": {
            "deleting": false
          }
        }
      },
      "outputs": [],
      "source": [
        "from azure.ai.ml import MLClient\n",
        "from azure.identity import DefaultAzureCredential\n",
        "from azure.ai.ml.entities import Data\n",
        "from azure.ai.ml.constants import AssetTypes\n",
        "\n",
        "# authenticate\n",
        "credential = DefaultAzureCredential()\n",
        "\n",
        "# Get a handle to the workspace\n",
        "ml_client = MLClient(\n",
        "    credential=credential,\n",
        "    subscription_id=\"###\",\n",
        "    resource_group_name=\"###\",\n",
        "    workspace_name=\"###\",\n",
        ")"
      ]
    },
    {
      "cell_type": "code",
      "execution_count": 4,
      "metadata": {
        "gather": {
          "logged": 1703581249000
        }
      },
      "outputs": [
        {
          "name": "stdout",
          "output_type": "stream",
          "text": [
            "Data asset URI: azureml://subscriptions/144c7089-5d3d-40fa-bfaf-6ffb69774b59/resourcegroups/AML-sdk-v2-RG1/workspaces/AML-sdk-v2-RG1-WS1/datastores/workspaceblobstore/paths/LocalUpload/6b85ae647b8c19dd5044a706ba75099e/Scraped_Car_Data.csv\n"
          ]
        }
      ],
      "source": [
        "import pandas as pd\n",
        "version = \"Scraped_Car_Data_csv\"\n",
        "# get a handle of the data asset and print the URI\n",
        "data_asset = ml_client.data.get(name=\"Car-Data\", version=version)\n",
        "print(f\"Data asset URI: {data_asset.path}\")\n",
        "\n",
        "# read into pandas - note that you will see 2 headers in your data frame - that is ok, for now\n",
        "\n",
        "df = pd.read_csv(data_asset.path)"
      ]
    },
    {
      "cell_type": "code",
      "execution_count": 5,
      "metadata": {
        "gather": {
          "logged": 1703581249412
        }
      },
      "outputs": [
        {
          "data": {
            "text/html": [
              "<div>\n",
              "<style scoped>\n",
              "    .dataframe tbody tr th:only-of-type {\n",
              "        vertical-align: middle;\n",
              "    }\n",
              "\n",
              "    .dataframe tbody tr th {\n",
              "        vertical-align: top;\n",
              "    }\n",
              "\n",
              "    .dataframe thead th {\n",
              "        text-align: right;\n",
              "    }\n",
              "</style>\n",
              "<table border=\"1\" class=\"dataframe\">\n",
              "  <thead>\n",
              "    <tr style=\"text-align: right;\">\n",
              "      <th></th>\n",
              "      <th>Price</th>\n",
              "      <th>New_Price_Roadworthy</th>\n",
              "      <th>Road_Tax_3_Months</th>\n",
              "      <th>Body_Type</th>\n",
              "      <th>Transmission</th>\n",
              "      <th>Number_of_Seats</th>\n",
              "      <th>Segment</th>\n",
              "      <th>Introduction</th>\n",
              "      <th>End</th>\n",
              "      <th>Drive_Wheel</th>\n",
              "      <th>...</th>\n",
              "      <th>Third_Gear</th>\n",
              "      <th>Fourth_Gear</th>\n",
              "      <th>Fifth_Gear</th>\n",
              "      <th>Sixth_Gear</th>\n",
              "      <th>Seventh_Gear</th>\n",
              "      <th>Eighth_Gear</th>\n",
              "      <th>Ninth_Gear</th>\n",
              "      <th>Reverse_Gear</th>\n",
              "      <th>Final_Drive</th>\n",
              "      <th>Rpm_At_120_Km_h</th>\n",
              "    </tr>\n",
              "  </thead>\n",
              "  <tbody>\n",
              "    <tr>\n",
              "      <th>0</th>\n",
              "      <td>€ 23.200</td>\n",
              "      <td>NaN</td>\n",
              "      <td>€ 72 - € 80</td>\n",
              "      <td>3-doors, hatchback</td>\n",
              "      <td>5 speed manual transmission</td>\n",
              "      <td>4</td>\n",
              "      <td>a (mini)</td>\n",
              "      <td>july 2008</td>\n",
              "      <td>july 2012</td>\n",
              "      <td>front</td>\n",
              "      <td>...</td>\n",
              "      <td>1,52:1</td>\n",
              "      <td>1,16:1</td>\n",
              "      <td>0,87:1</td>\n",
              "      <td>NaN</td>\n",
              "      <td>NaN</td>\n",
              "      <td>NaN</td>\n",
              "      <td>NaN</td>\n",
              "      <td>3,91:1</td>\n",
              "      <td>3,35:1</td>\n",
              "      <td>3.200 tpm</td>\n",
              "    </tr>\n",
              "    <tr>\n",
              "      <th>1</th>\n",
              "      <td>€ 25.500</td>\n",
              "      <td>NaN</td>\n",
              "      <td>€ 115 - € 128</td>\n",
              "      <td>3-doors, convertible</td>\n",
              "      <td>5 speed manual transmission</td>\n",
              "      <td>4</td>\n",
              "      <td>b (small)</td>\n",
              "      <td>june 2011</td>\n",
              "      <td>july 2012</td>\n",
              "      <td>front</td>\n",
              "      <td>...</td>\n",
              "      <td>1,52:1</td>\n",
              "      <td>1,16:1</td>\n",
              "      <td>0,87:1</td>\n",
              "      <td>NaN</td>\n",
              "      <td>NaN</td>\n",
              "      <td>NaN</td>\n",
              "      <td>NaN</td>\n",
              "      <td>3,91:1</td>\n",
              "      <td>3,35:1</td>\n",
              "      <td>3.200 tpm</td>\n",
              "    </tr>\n",
              "  </tbody>\n",
              "</table>\n",
              "<p>2 rows × 73 columns</p>\n",
              "</div>"
            ],
            "text/plain": [
              "      Price New_Price_Roadworthy Road_Tax_3_Months             Body_Type  \\\n",
              "0  € 23.200                  NaN       € 72 - € 80    3-doors, hatchback   \n",
              "1  € 25.500                  NaN     € 115 - € 128  3-doors, convertible   \n",
              "\n",
              "                  Transmission Number_of_Seats    Segment Introduction  \\\n",
              "0  5 speed manual transmission               4   a (mini)    july 2008   \n",
              "1  5 speed manual transmission               4  b (small)    june 2011   \n",
              "\n",
              "         End Drive_Wheel  ... Third_Gear Fourth_Gear Fifth_Gear  Sixth_Gear  \\\n",
              "0  july 2012       front  ...     1,52:1      1,16:1     0,87:1         NaN   \n",
              "1  july 2012       front  ...     1,52:1      1,16:1     0,87:1         NaN   \n",
              "\n",
              "   Seventh_Gear Eighth_Gear Ninth_Gear Reverse_Gear Final_Drive  \\\n",
              "0           NaN         NaN        NaN       3,91:1      3,35:1   \n",
              "1           NaN         NaN        NaN       3,91:1      3,35:1   \n",
              "\n",
              "  Rpm_At_120_Km_h  \n",
              "0       3.200 tpm  \n",
              "1       3.200 tpm  \n",
              "\n",
              "[2 rows x 73 columns]"
            ]
          },
          "execution_count": 5,
          "metadata": {},
          "output_type": "execute_result"
        }
      ],
      "source": [
        "df.head(2)"
      ]
    },
    {
      "cell_type": "markdown",
      "metadata": {},
      "source": [
        "<h3>Feature Description</h3>\n"
      ]
    },
    {
      "cell_type": "markdown",
      "metadata": {},
      "source": [
        "<pre>\n",
        "1. **Price:** The cost of the vehicle in the market.\n",
        "2. **New_Price_Roadworthy:** The updated price of the vehicle after roadworthiness certification.\n",
        "3. **Road_Tax_3_Months:** The tax amount payable for a 3-month period to drive the vehicle on the road.\n",
        "4. **Body_Type:** The design classification of the vehicle, such as sedan, hatchback, etc.\n",
        "5. **Transmission:** The type of gearbox used, such as automatic or manual.\n",
        "6. **Number_of_Seats:** The total seating capacity of the vehicle.\n",
        "7. **Segment:** The market segment to which the vehicle belongs.\n",
        "8. **Introduction:** The date or period when the vehicle was first introduced.\n",
        "9. **End:** The date or period when the production of the vehicle ceased.\n",
        "10. **Drive_Wheel:** The wheel that receives power from the engine, determining if the vehicle is front, rear, or all-wheel drive.\n",
        "11. **Engine_motor_Type:** The classification of the engine, specifying its type.\n",
        "12. **Fuel_Type:** The type of fuel the vehicle uses.\n",
        "13. **Power:** The engine power in general.\n",
        "14. **Total_Max_Power_kW:** The maximum power output of the engine in kilowatts.\n",
        "15. **Total_Max_Power_hp:** The maximum power output of the engine in horsepower.\n",
        "16. **Max_Torque:** The maximum twisting force the engine can exert.\n",
        "17. **Cylinders:** The number of cylinders in the engine.\n",
        "18. **Valves_Per_Cylinder:** The number of valves in each engine cylinder.\n",
        "19. **Engine_Capacity:** The total volume of all cylinders in the engine.\n",
        "20. **Bore_X_Stroke:** The diameter and length of the engine cylinders.\n",
        "21. **Compression_Ratio:** The ratio of the maximum to minimum volume in the engine.\n",
        "22. **Max_Power:** The maximum power output of the engine.\n",
        "23. **Power_kW:** The power of the engine in kilowatts.\n",
        "24. **Power_hp:** The power of the engine in horsepower.\n",
        "25. **Max_Power_Rpm:** The revolutions per minute at which the engine produces its maximum power.\n",
        "26. **Max_Torque.1:** Another measure of the maximum twisting force the engine can exert.\n",
        "27. **Max_Torque_Rpm:** The revolutions per minute at which the engine produces its maximum torque.\n",
        "28. **Fuel_System:** The system responsible for supplying fuel to the engine.\n",
        "29. **Valve_Actuation:** The mechanism that controls the opening and closing of engine valves.\n",
        "30. **Turbo:** Indicates whether the vehicle has a turbocharger.\n",
        "31. **Catalyst:** The device used to reduce emissions.\n",
        "32. **Fuel_Tank_Capacity:** The volume of fuel the vehicle's tank can hold.\n",
        "33. **Top_Speed:** The maximum speed the vehicle can achieve.\n",
        "34. **Acceleration_0_100_Km_H:** The time it takes for the vehicle to accelerate from 0 to 100 kilometers per hour.\n",
        "35. **Practice_Consumption_Monitor:** Monitoring of practical fuel consumption.\n",
        "36. **Urban_Consumption:** Fuel consumption in urban driving conditions.\n",
        "37. **Extra_Urban_Consumption:** Fuel consumption in extra-urban driving conditions.\n",
        "38. **Combined_Consumption:** Overall combined fuel consumption.\n",
        "39. **Co2_Emissions:** The amount of carbon dioxide emitted by the vehicle.\n",
        "40. **Energy_Label:** The energy efficiency label assigned to the vehicle.\n",
        "41. **Power_Consumption:** The power consumption of electric vehicles.\n",
        "42. **Battery_Range:** The range the vehicle can travel on a single battery charge.\n",
        "43. **Low_Consumption:** Low-level energy consumption for electric vehicles.\n",
        "44. **Medium_Consumption:** Medium-level energy consumption for electric vehicles.\n",
        "45. **High_Consumption:** High-level energy consumption for electric vehicles.\n",
        "46. **Very_High_Consumption:** Very high-level energy consumption for electric vehicles.\n",
        "47. **Combined_Consumption.1:** Combined energy consumption for electric vehicles.\n",
        "48. **Co2_Emissions.1:** CO2 emissions for electric vehicles.\n",
        "49. **Battery_Range.1:** The range electric vehicles can travel on a single battery charge.\n",
        "50. **Power_Consumption.1:** The power consumption of electric vehicles.\n",
        "51. **Front_Suspension_1:** Details about the front suspension of the vehicle.\n",
        "52. **Rear_Suspension_1:** Details about the rear suspension of the vehicle.\n",
        "53. **Front_Suspension_2:** Additional details about the front suspension.\n",
        "54. **Rear_Suspension_2:** Additional details about the rear suspension.\n",
        "55. **Front_Stabilizer:** The stabilizer used in the front suspension.\n",
        "56. **Rear_Stabilizer:** The stabilizer used in the rear suspension.\n",
        "57. **Front_Brakes:** Details about the front brake system.\n",
        "58. **Rear_Brakes:** Details about the rear brake system.\n",
        "59. **Front_Tire_Size:** The size of the front tires.\n",
        "60. **Rear_Tire_Size:** The size of the rear tires.\n",
        "61. **Turning_Circle:** The minimum radius needed to make a U-turn.\n",
        "62. **First_Gear:** Details about the first gear of the transmission.\n",
        "63. **Second_Gear:** Details about the second gear of the transmission.\n",
        "64. **Third_Gear:** Details about the third gear of the transmission.\n",
        "65. **Fourth_Gear:** Details about the fourth gear of the transmission.\n",
        "66. **Fifth_Gear:** Details about the fifth gear of the transmission.\n",
        "67. **Sixth_Gear:** Details about the sixth gear of the transmission.\n",
        "68. **Seventh_Gear:** Details about the seventh gear of the transmission.\n",
        "69. **Eighth_Gear:** Details about the eighth gear of the transmission.\n",
        "70. **Ninth_Gear:** Details about the ninth gear of the transmission.\n",
        "71. **Reverse_Gear:** Details about the reverse gear of the transmission.\n",
        "72. **Final_Drive:** The final gear ratio in the vehicle's transmission.\n",
        "73. **Rpm_At_120_Km_h:** The engine's revolutions per minute at a speed of 120 kilometers per hour.\n",
        "</pre>"
      ]
    },
    {
      "cell_type": "markdown",
      "metadata": {},
      "source": [
        "<h3>Cleaning Data</h3>"
      ]
    },
    {
      "cell_type": "markdown",
      "metadata": {},
      "source": [
        "<h5>1. Dropping Irrelevant Features</h5>"
      ]
    },
    {
      "cell_type": "code",
      "execution_count": 6,
      "metadata": {
        "gather": {
          "logged": 1703581249967
        }
      },
      "outputs": [
        {
          "data": {
            "text/plain": [
              "Index(['Price', 'New_Price_Roadworthy', 'Road_Tax_3_Months', 'Body_Type',\n",
              "       'Transmission', 'Number_of_Seats', 'Segment', 'Introduction', 'End',\n",
              "       'Drive_Wheel', 'Engine_motor_Type', 'Fuel_Type', 'Power',\n",
              "       'Total_Max_Power_kW', 'Total_Max_Power_hp', 'Max_Torque', 'Cylinders',\n",
              "       'Valves_Per_Cylinder', 'Engine_Capacity', 'Bore_X_Stroke',\n",
              "       'Compression_Ratio', 'Max_Power', 'Power_kW', 'Power_hp',\n",
              "       'Max_Power_Rpm', 'Max_Torque.1', 'Max_Torque_Rpm', 'Fuel_System',\n",
              "       'Valve_Actuation', 'Turbo', 'Catalyst', 'Fuel_Tank_Capacity',\n",
              "       'Top_Speed', 'Acceleration_0_100_Km_H', 'Practice_Consumption_Monitor',\n",
              "       'Urban_Consumption', 'Extra_Urban_Consumption', 'Combined_Consumption',\n",
              "       'Co2_Emissions', 'Energy_Label', 'Power_Consumption', 'Battery_Range',\n",
              "       'Low_Consumption', 'Medium_Consumption', 'High_Consumption',\n",
              "       'Very_High_Consumption', 'Combined_Consumption.1', 'Co2_Emissions.1',\n",
              "       'Battery_Range.1', 'Power_Consumption.1', 'Front_Suspension_1',\n",
              "       'Rear_Suspension_1', 'Front_Suspension_2', 'Rear_Suspension_2',\n",
              "       'Front_Stabilizer', 'Rear_Stabilizer', 'Front_Brakes', 'Rear_Brakes',\n",
              "       'Front_Tire_Size', 'Rear_Tire_Size', 'Turning_Circle', 'First_Gear',\n",
              "       'Second_Gear', 'Third_Gear', 'Fourth_Gear', 'Fifth_Gear', 'Sixth_Gear',\n",
              "       'Seventh_Gear', 'Eighth_Gear', 'Ninth_Gear', 'Reverse_Gear',\n",
              "       'Final_Drive', 'Rpm_At_120_Km_h'],\n",
              "      dtype='object')"
            ]
          },
          "execution_count": 6,
          "metadata": {},
          "output_type": "execute_result"
        }
      ],
      "source": [
        "df.columns"
      ]
    },
    {
      "cell_type": "code",
      "execution_count": 7,
      "metadata": {
        "gather": {
          "logged": 1703581250474
        }
      },
      "outputs": [
        {
          "data": {
            "text/html": [
              "<div>\n",
              "<style scoped>\n",
              "    .dataframe tbody tr th:only-of-type {\n",
              "        vertical-align: middle;\n",
              "    }\n",
              "\n",
              "    .dataframe tbody tr th {\n",
              "        vertical-align: top;\n",
              "    }\n",
              "\n",
              "    .dataframe thead th {\n",
              "        text-align: right;\n",
              "    }\n",
              "</style>\n",
              "<table border=\"1\" class=\"dataframe\">\n",
              "  <thead>\n",
              "    <tr style=\"text-align: right;\">\n",
              "      <th></th>\n",
              "      <th>Max_Torque</th>\n",
              "      <th>Max_Torque.1</th>\n",
              "    </tr>\n",
              "  </thead>\n",
              "  <tbody>\n",
              "    <tr>\n",
              "      <th>0</th>\n",
              "      <td>206 nm</td>\n",
              "      <td>206 nm</td>\n",
              "    </tr>\n",
              "    <tr>\n",
              "      <th>1</th>\n",
              "      <td>206 nm</td>\n",
              "      <td>206 nm</td>\n",
              "    </tr>\n",
              "    <tr>\n",
              "      <th>2</th>\n",
              "      <td>201 nm</td>\n",
              "      <td>201 nm</td>\n",
              "    </tr>\n",
              "    <tr>\n",
              "      <th>3</th>\n",
              "      <td>250 nm</td>\n",
              "      <td>250 nm</td>\n",
              "    </tr>\n",
              "    <tr>\n",
              "      <th>4</th>\n",
              "      <td>206 nm</td>\n",
              "      <td>206 nm</td>\n",
              "    </tr>\n",
              "    <tr>\n",
              "      <th>5</th>\n",
              "      <td>124 nm</td>\n",
              "      <td>124 nm</td>\n",
              "    </tr>\n",
              "  </tbody>\n",
              "</table>\n",
              "</div>"
            ],
            "text/plain": [
              "  Max_Torque Max_Torque.1\n",
              "0     206 nm       206 nm\n",
              "1     206 nm       206 nm\n",
              "2     201 nm       201 nm\n",
              "3     250 nm       250 nm\n",
              "4     206 nm       206 nm\n",
              "5     124 nm       124 nm"
            ]
          },
          "execution_count": 7,
          "metadata": {},
          "output_type": "execute_result"
        }
      ],
      "source": [
        "df[[\"Max_Torque\",\"Max_Torque.1\"]].head(6)"
      ]
    },
    {
      "cell_type": "markdown",
      "metadata": {},
      "source": [
        "<pre>The features Max_Torque.1 and Max_Torque are the same, so we can remove any one of them safely.</pre>"
      ]
    },
    {
      "cell_type": "markdown",
      "metadata": {},
      "source": [
        "<pre>\n",
        "The features :\n",
        "['Urban_Consumption', 'Extra_Urban_Consumption', 'Combined_Consumption',\n",
        " 'Co2_Emissions', 'Energy_Label', 'Power_Consumption', 'Battery_Range']\n",
        "belong to NEDC.\n",
        "NEDC: The NEDC was an older testing procedure used for many years. It consisted of a laboratory-based\n",
        "test cycle that did not fully represent real-world driving conditions.\n",
        "</pre>"
      ]
    },
    {
      "cell_type": "markdown",
      "metadata": {},
      "source": [
        "<pre>\n",
        "The features :\n",
        "['Low_Consumption', 'Medium_Consumption', 'High_Consumption','Very_High_Consumption', \n",
        "'Combined_Consumption.1', 'Co2_Emissions.1', 'Battery_Range.1', 'Power_Consumption.1']\n",
        "belong to WLTP.\n",
        "WLTP: The WLTP is a more recent and updated testing procedure designed to better reflect \n",
        "real-world driving conditions. It includes a more dynamic and longer test cycle compared to NEDC.\n",
        "</pre>"
      ]
    },
    {
      "cell_type": "markdown",
      "metadata": {},
      "source": [
        "<pre>\n",
        "Since both NEDC and WLTP consist of  Combined Consumption, Co2 Emissions, Battery Range and Power Consumption, \n",
        "we will choose WLTP since it is the updated testing procedure. If there is no data for the particular feature in WLTP, \n",
        "then we will choose NEDC. If there is no data in both WLTP and NEDC we will keep it null.\n",
        "We will create functions to create these new features.\n",
        "</pre>"
      ]
    },
    {
      "cell_type": "code",
      "execution_count": 8,
      "metadata": {
        "gather": {
          "logged": 1703581250920
        }
      },
      "outputs": [
        {
          "data": {
            "text/html": [
              "<div>\n",
              "<style scoped>\n",
              "    .dataframe tbody tr th:only-of-type {\n",
              "        vertical-align: middle;\n",
              "    }\n",
              "\n",
              "    .dataframe tbody tr th {\n",
              "        vertical-align: top;\n",
              "    }\n",
              "\n",
              "    .dataframe thead th {\n",
              "        text-align: right;\n",
              "    }\n",
              "</style>\n",
              "<table border=\"1\" class=\"dataframe\">\n",
              "  <thead>\n",
              "    <tr style=\"text-align: right;\">\n",
              "      <th></th>\n",
              "      <th>Power_Consumption</th>\n",
              "      <th>Power_Consumption.1</th>\n",
              "    </tr>\n",
              "  </thead>\n",
              "  <tbody>\n",
              "    <tr>\n",
              "      <th>0</th>\n",
              "      <td>NaN</td>\n",
              "      <td>NaN</td>\n",
              "    </tr>\n",
              "    <tr>\n",
              "      <th>1</th>\n",
              "      <td>NaN</td>\n",
              "      <td>NaN</td>\n",
              "    </tr>\n",
              "    <tr>\n",
              "      <th>2</th>\n",
              "      <td>NaN</td>\n",
              "      <td>NaN</td>\n",
              "    </tr>\n",
              "    <tr>\n",
              "      <th>3</th>\n",
              "      <td>NaN</td>\n",
              "      <td>NaN</td>\n",
              "    </tr>\n",
              "    <tr>\n",
              "      <th>4</th>\n",
              "      <td>NaN</td>\n",
              "      <td>NaN</td>\n",
              "    </tr>\n",
              "    <tr>\n",
              "      <th>...</th>\n",
              "      <td>...</td>\n",
              "      <td>...</td>\n",
              "    </tr>\n",
              "    <tr>\n",
              "      <th>4632</th>\n",
              "      <td>NaN</td>\n",
              "      <td>NaN</td>\n",
              "    </tr>\n",
              "    <tr>\n",
              "      <th>4633</th>\n",
              "      <td>NaN</td>\n",
              "      <td>NaN</td>\n",
              "    </tr>\n",
              "    <tr>\n",
              "      <th>4634</th>\n",
              "      <td>- kwh/100km</td>\n",
              "      <td>11,0 kwh/100km</td>\n",
              "    </tr>\n",
              "    <tr>\n",
              "      <th>4635</th>\n",
              "      <td>NaN</td>\n",
              "      <td>NaN</td>\n",
              "    </tr>\n",
              "    <tr>\n",
              "      <th>4636</th>\n",
              "      <td>13,8 kwh/100km</td>\n",
              "      <td>16,6 kwh/100km</td>\n",
              "    </tr>\n",
              "  </tbody>\n",
              "</table>\n",
              "<p>4637 rows × 2 columns</p>\n",
              "</div>"
            ],
            "text/plain": [
              "     Power_Consumption Power_Consumption.1\n",
              "0                  NaN                 NaN\n",
              "1                  NaN                 NaN\n",
              "2                  NaN                 NaN\n",
              "3                  NaN                 NaN\n",
              "4                  NaN                 NaN\n",
              "...                ...                 ...\n",
              "4632               NaN                 NaN\n",
              "4633               NaN                 NaN\n",
              "4634       - kwh/100km      11,0 kwh/100km\n",
              "4635               NaN                 NaN\n",
              "4636    13,8 kwh/100km      16,6 kwh/100km\n",
              "\n",
              "[4637 rows x 2 columns]"
            ]
          },
          "execution_count": 8,
          "metadata": {},
          "output_type": "execute_result"
        }
      ],
      "source": [
        "df[[\"Power_Consumption\", \"Power_Consumption.1\"]]"
      ]
    },
    {
      "cell_type": "code",
      "execution_count": 9,
      "metadata": {
        "gather": {
          "logged": 1703581251322
        }
      },
      "outputs": [],
      "source": [
        "def Combined_Consumption_func(Combined_Consumption_NEDC, Combined_Consumption_WLTP):\n",
        "    if type(Combined_Consumption_WLTP) == float and type(Combined_Consumption_NEDC) ==  float:\n",
        "        return np.nan\n",
        "    elif  type(Combined_Consumption_WLTP) == str:\n",
        "        return Combined_Consumption_WLTP\n",
        "    else:\n",
        "        return Combined_Consumption_NEDC\n",
        "    \n",
        "\n",
        "def Co2_Emissions_func(Co2_Emissions_NEDC, Co2_Emissions_WLTP):\n",
        "    if type(Co2_Emissions_WLTP) == float and type(Co2_Emissions_NEDC) ==  float:\n",
        "        return np.nan\n",
        "    elif  type(Co2_Emissions_WLTP) == str:\n",
        "        return Co2_Emissions_WLTP\n",
        "    else:\n",
        "        return Co2_Emissions_NEDC\n",
        "   \n",
        "\n",
        "def Battery_Range_func(Battery_Range_NEDC, Battery_Range_WLTP):\n",
        "    if type(Battery_Range_WLTP) == float and type(Battery_Range_NEDC) ==  float:\n",
        "        return np.nan\n",
        "    elif  type(Battery_Range_WLTP) == str:\n",
        "        return Battery_Range_WLTP\n",
        "    else:\n",
        "        return Battery_Range_NEDC\n",
        "   \n",
        "\n",
        "def Power_Consumption_func(Power_Consumption_NEDC, Power_Consumption_WLTP):\n",
        "    if type(Power_Consumption_WLTP) == float and type(Power_Consumption_NEDC) ==  float:\n",
        "        return np.nan\n",
        "    elif  type(Power_Consumption_WLTP) == str:\n",
        "        return Power_Consumption_WLTP\n",
        "    else:\n",
        "        return Power_Consumption_NEDC\n",
        "   \n"
      ]
    },
    {
      "cell_type": "code",
      "execution_count": 10,
      "metadata": {
        "gather": {
          "logged": 1703581251670
        }
      },
      "outputs": [],
      "source": [
        "df['New_Combined_Consumption'] = df[['Combined_Consumption','Combined_Consumption.1']].apply(lambda df: Combined_Consumption_func(df['Combined_Consumption'],df['Combined_Consumption.1']),axis=1)\n",
        "df['New_Battery_Range'] = df[['Battery_Range','Battery_Range.1']].apply(lambda df: Battery_Range_func(df['Battery_Range'],df['Battery_Range.1']),axis=1)\n",
        "df['New_Power_Consumption'] = df[['Power_Consumption','Power_Consumption.1']].apply(lambda df: Power_Consumption_func(df['Power_Consumption'],df['Power_Consumption.1']),axis=1)\n",
        "df['New_Co2_Emissions'] = df[['Co2_Emissions','Co2_Emissions.1']].apply(lambda df: Co2_Emissions_func(df['Co2_Emissions'],df['Co2_Emissions.1']),axis=1)"
      ]
    },
    {
      "cell_type": "code",
      "execution_count": 11,
      "metadata": {
        "gather": {
          "logged": 1703581252045
        }
      },
      "outputs": [
        {
          "data": {
            "text/html": [
              "<div>\n",
              "<style scoped>\n",
              "    .dataframe tbody tr th:only-of-type {\n",
              "        vertical-align: middle;\n",
              "    }\n",
              "\n",
              "    .dataframe tbody tr th {\n",
              "        vertical-align: top;\n",
              "    }\n",
              "\n",
              "    .dataframe thead th {\n",
              "        text-align: right;\n",
              "    }\n",
              "</style>\n",
              "<table border=\"1\" class=\"dataframe\">\n",
              "  <thead>\n",
              "    <tr style=\"text-align: right;\">\n",
              "      <th></th>\n",
              "      <th>Price</th>\n",
              "      <th>New_Price_Roadworthy</th>\n",
              "      <th>Road_Tax_3_Months</th>\n",
              "      <th>Body_Type</th>\n",
              "      <th>Transmission</th>\n",
              "      <th>Number_of_Seats</th>\n",
              "      <th>Segment</th>\n",
              "      <th>Introduction</th>\n",
              "      <th>End</th>\n",
              "      <th>Drive_Wheel</th>\n",
              "      <th>...</th>\n",
              "      <th>Seventh_Gear</th>\n",
              "      <th>Eighth_Gear</th>\n",
              "      <th>Ninth_Gear</th>\n",
              "      <th>Reverse_Gear</th>\n",
              "      <th>Final_Drive</th>\n",
              "      <th>Rpm_At_120_Km_h</th>\n",
              "      <th>New_Combined_Consumption</th>\n",
              "      <th>New_Battery_Range</th>\n",
              "      <th>New_Power_Consumption</th>\n",
              "      <th>New_Co2_Emissions</th>\n",
              "    </tr>\n",
              "  </thead>\n",
              "  <tbody>\n",
              "    <tr>\n",
              "      <th>0</th>\n",
              "      <td>€ 23.200</td>\n",
              "      <td>NaN</td>\n",
              "      <td>€ 72 - € 80</td>\n",
              "      <td>3-doors, hatchback</td>\n",
              "      <td>5 speed manual transmission</td>\n",
              "      <td>4</td>\n",
              "      <td>a (mini)</td>\n",
              "      <td>july 2008</td>\n",
              "      <td>july 2012</td>\n",
              "      <td>front</td>\n",
              "      <td>...</td>\n",
              "      <td>NaN</td>\n",
              "      <td>NaN</td>\n",
              "      <td>NaN</td>\n",
              "      <td>3,91:1</td>\n",
              "      <td>3,35:1</td>\n",
              "      <td>3.200 tpm</td>\n",
              "      <td>6,5 l/100km</td>\n",
              "      <td>NaN</td>\n",
              "      <td>NaN</td>\n",
              "      <td>155 g/km</td>\n",
              "    </tr>\n",
              "    <tr>\n",
              "      <th>1</th>\n",
              "      <td>€ 25.500</td>\n",
              "      <td>NaN</td>\n",
              "      <td>€ 115 - € 128</td>\n",
              "      <td>3-doors, convertible</td>\n",
              "      <td>5 speed manual transmission</td>\n",
              "      <td>4</td>\n",
              "      <td>b (small)</td>\n",
              "      <td>june 2011</td>\n",
              "      <td>july 2012</td>\n",
              "      <td>front</td>\n",
              "      <td>...</td>\n",
              "      <td>NaN</td>\n",
              "      <td>NaN</td>\n",
              "      <td>NaN</td>\n",
              "      <td>3,91:1</td>\n",
              "      <td>3,35:1</td>\n",
              "      <td>3.200 tpm</td>\n",
              "      <td>6,5 l/100km</td>\n",
              "      <td>NaN</td>\n",
              "      <td>NaN</td>\n",
              "      <td>155 g/km</td>\n",
              "    </tr>\n",
              "    <tr>\n",
              "      <th>2</th>\n",
              "      <td>€ 21.990</td>\n",
              "      <td>NaN</td>\n",
              "      <td>€ 115 - € 128</td>\n",
              "      <td>3-doors, hatchback</td>\n",
              "      <td>6 speed manual transmission</td>\n",
              "      <td>4</td>\n",
              "      <td>b (small)</td>\n",
              "      <td>august 2008</td>\n",
              "      <td>june 2010</td>\n",
              "      <td>front</td>\n",
              "      <td>...</td>\n",
              "      <td>NaN</td>\n",
              "      <td>NaN</td>\n",
              "      <td>NaN</td>\n",
              "      <td>4,00:1</td>\n",
              "      <td>4,18:1</td>\n",
              "      <td>3.250 tpm</td>\n",
              "      <td>6,9 l/100km</td>\n",
              "      <td>NaN</td>\n",
              "      <td>NaN</td>\n",
              "      <td>162 g/km</td>\n",
              "    </tr>\n",
              "    <tr>\n",
              "      <th>3</th>\n",
              "      <td>€ 24.545</td>\n",
              "      <td>NaN</td>\n",
              "      <td>€ 136 - € 152</td>\n",
              "      <td>3-doors, hatchback</td>\n",
              "      <td>6 speed manual transmission</td>\n",
              "      <td>4</td>\n",
              "      <td>b (small)</td>\n",
              "      <td>june 2010</td>\n",
              "      <td>january 2013</td>\n",
              "      <td>front</td>\n",
              "      <td>...</td>\n",
              "      <td>NaN</td>\n",
              "      <td>NaN</td>\n",
              "      <td>NaN</td>\n",
              "      <td>4,00:1</td>\n",
              "      <td>4,18:1</td>\n",
              "      <td>3.250 tpm</td>\n",
              "      <td>6,0 l/100km</td>\n",
              "      <td>NaN</td>\n",
              "      <td>NaN</td>\n",
              "      <td>142 g/km</td>\n",
              "    </tr>\n",
              "    <tr>\n",
              "      <th>4</th>\n",
              "      <td>€ 30.000</td>\n",
              "      <td>NaN</td>\n",
              "      <td>€ 157 - € 176</td>\n",
              "      <td>5-doors, station wagon</td>\n",
              "      <td>5 speed manual transmission</td>\n",
              "      <td>5</td>\n",
              "      <td>d (mid-size)</td>\n",
              "      <td>march 2002</td>\n",
              "      <td>july 2003</td>\n",
              "      <td>front</td>\n",
              "      <td>...</td>\n",
              "      <td>NaN</td>\n",
              "      <td>NaN</td>\n",
              "      <td>NaN</td>\n",
              "      <td>3,91:1</td>\n",
              "      <td>3,56:1</td>\n",
              "      <td>3.450 tpm</td>\n",
              "      <td>8,9 l/100km</td>\n",
              "      <td>NaN</td>\n",
              "      <td>NaN</td>\n",
              "      <td>212 g/km</td>\n",
              "    </tr>\n",
              "  </tbody>\n",
              "</table>\n",
              "<p>5 rows × 77 columns</p>\n",
              "</div>"
            ],
            "text/plain": [
              "      Price New_Price_Roadworthy Road_Tax_3_Months               Body_Type  \\\n",
              "0  € 23.200                  NaN       € 72 - € 80      3-doors, hatchback   \n",
              "1  € 25.500                  NaN     € 115 - € 128    3-doors, convertible   \n",
              "2  € 21.990                  NaN     € 115 - € 128      3-doors, hatchback   \n",
              "3  € 24.545                  NaN     € 136 - € 152      3-doors, hatchback   \n",
              "4  € 30.000                  NaN     € 157 - € 176  5-doors, station wagon   \n",
              "\n",
              "                  Transmission Number_of_Seats       Segment Introduction  \\\n",
              "0  5 speed manual transmission               4      a (mini)    july 2008   \n",
              "1  5 speed manual transmission               4     b (small)    june 2011   \n",
              "2  6 speed manual transmission               4     b (small)  august 2008   \n",
              "3  6 speed manual transmission               4     b (small)    june 2010   \n",
              "4  5 speed manual transmission               5  d (mid-size)   march 2002   \n",
              "\n",
              "            End Drive_Wheel  ... Seventh_Gear Eighth_Gear Ninth_Gear  \\\n",
              "0     july 2012       front  ...          NaN         NaN        NaN   \n",
              "1     july 2012       front  ...          NaN         NaN        NaN   \n",
              "2     june 2010       front  ...          NaN         NaN        NaN   \n",
              "3  january 2013       front  ...          NaN         NaN        NaN   \n",
              "4     july 2003       front  ...          NaN         NaN        NaN   \n",
              "\n",
              "   Reverse_Gear  Final_Drive Rpm_At_120_Km_h New_Combined_Consumption  \\\n",
              "0        3,91:1       3,35:1       3.200 tpm              6,5 l/100km   \n",
              "1        3,91:1       3,35:1       3.200 tpm              6,5 l/100km   \n",
              "2        4,00:1       4,18:1       3.250 tpm              6,9 l/100km   \n",
              "3        4,00:1       4,18:1       3.250 tpm              6,0 l/100km   \n",
              "4        3,91:1       3,56:1       3.450 tpm              8,9 l/100km   \n",
              "\n",
              "  New_Battery_Range New_Power_Consumption New_Co2_Emissions  \n",
              "0               NaN                   NaN          155 g/km  \n",
              "1               NaN                   NaN          155 g/km  \n",
              "2               NaN                   NaN          162 g/km  \n",
              "3               NaN                   NaN          142 g/km  \n",
              "4               NaN                   NaN          212 g/km  \n",
              "\n",
              "[5 rows x 77 columns]"
            ]
          },
          "execution_count": 11,
          "metadata": {},
          "output_type": "execute_result"
        }
      ],
      "source": [
        "df.head(5)"
      ]
    },
    {
      "cell_type": "markdown",
      "metadata": {},
      "source": [
        "<pre>\n",
        "Now we will remove the columns\n",
        "</pre>"
      ]
    },
    {
      "cell_type": "code",
      "execution_count": 12,
      "metadata": {
        "gather": {
          "logged": 1703581252473
        }
      },
      "outputs": [
        {
          "data": {
            "text/html": [
              "<div>\n",
              "<style scoped>\n",
              "    .dataframe tbody tr th:only-of-type {\n",
              "        vertical-align: middle;\n",
              "    }\n",
              "\n",
              "    .dataframe tbody tr th {\n",
              "        vertical-align: top;\n",
              "    }\n",
              "\n",
              "    .dataframe thead th {\n",
              "        text-align: right;\n",
              "    }\n",
              "</style>\n",
              "<table border=\"1\" class=\"dataframe\">\n",
              "  <thead>\n",
              "    <tr style=\"text-align: right;\">\n",
              "      <th></th>\n",
              "      <th>Price</th>\n",
              "      <th>New_Price_Roadworthy</th>\n",
              "      <th>Road_Tax_3_Months</th>\n",
              "      <th>Body_Type</th>\n",
              "      <th>Transmission</th>\n",
              "      <th>Number_of_Seats</th>\n",
              "      <th>Segment</th>\n",
              "      <th>Introduction</th>\n",
              "      <th>End</th>\n",
              "      <th>Drive_Wheel</th>\n",
              "      <th>...</th>\n",
              "      <th>Seventh_Gear</th>\n",
              "      <th>Eighth_Gear</th>\n",
              "      <th>Ninth_Gear</th>\n",
              "      <th>Reverse_Gear</th>\n",
              "      <th>Final_Drive</th>\n",
              "      <th>Rpm_At_120_Km_h</th>\n",
              "      <th>New_Combined_Consumption</th>\n",
              "      <th>New_Battery_Range</th>\n",
              "      <th>New_Power_Consumption</th>\n",
              "      <th>New_Co2_Emissions</th>\n",
              "    </tr>\n",
              "  </thead>\n",
              "  <tbody>\n",
              "    <tr>\n",
              "      <th>0</th>\n",
              "      <td>€ 23.200</td>\n",
              "      <td>NaN</td>\n",
              "      <td>€ 72 - € 80</td>\n",
              "      <td>3-doors, hatchback</td>\n",
              "      <td>5 speed manual transmission</td>\n",
              "      <td>4</td>\n",
              "      <td>a (mini)</td>\n",
              "      <td>july 2008</td>\n",
              "      <td>july 2012</td>\n",
              "      <td>front</td>\n",
              "      <td>...</td>\n",
              "      <td>NaN</td>\n",
              "      <td>NaN</td>\n",
              "      <td>NaN</td>\n",
              "      <td>3,91:1</td>\n",
              "      <td>3,35:1</td>\n",
              "      <td>3.200 tpm</td>\n",
              "      <td>6,5 l/100km</td>\n",
              "      <td>NaN</td>\n",
              "      <td>NaN</td>\n",
              "      <td>155 g/km</td>\n",
              "    </tr>\n",
              "    <tr>\n",
              "      <th>1</th>\n",
              "      <td>€ 25.500</td>\n",
              "      <td>NaN</td>\n",
              "      <td>€ 115 - € 128</td>\n",
              "      <td>3-doors, convertible</td>\n",
              "      <td>5 speed manual transmission</td>\n",
              "      <td>4</td>\n",
              "      <td>b (small)</td>\n",
              "      <td>june 2011</td>\n",
              "      <td>july 2012</td>\n",
              "      <td>front</td>\n",
              "      <td>...</td>\n",
              "      <td>NaN</td>\n",
              "      <td>NaN</td>\n",
              "      <td>NaN</td>\n",
              "      <td>3,91:1</td>\n",
              "      <td>3,35:1</td>\n",
              "      <td>3.200 tpm</td>\n",
              "      <td>6,5 l/100km</td>\n",
              "      <td>NaN</td>\n",
              "      <td>NaN</td>\n",
              "      <td>155 g/km</td>\n",
              "    </tr>\n",
              "  </tbody>\n",
              "</table>\n",
              "<p>2 rows × 68 columns</p>\n",
              "</div>"
            ],
            "text/plain": [
              "      Price New_Price_Roadworthy Road_Tax_3_Months             Body_Type  \\\n",
              "0  € 23.200                  NaN       € 72 - € 80    3-doors, hatchback   \n",
              "1  € 25.500                  NaN     € 115 - € 128  3-doors, convertible   \n",
              "\n",
              "                  Transmission Number_of_Seats    Segment Introduction  \\\n",
              "0  5 speed manual transmission               4   a (mini)    july 2008   \n",
              "1  5 speed manual transmission               4  b (small)    june 2011   \n",
              "\n",
              "         End Drive_Wheel  ... Seventh_Gear Eighth_Gear Ninth_Gear  \\\n",
              "0  july 2012       front  ...          NaN         NaN        NaN   \n",
              "1  july 2012       front  ...          NaN         NaN        NaN   \n",
              "\n",
              "   Reverse_Gear  Final_Drive Rpm_At_120_Km_h New_Combined_Consumption  \\\n",
              "0        3,91:1       3,35:1       3.200 tpm              6,5 l/100km   \n",
              "1        3,91:1       3,35:1       3.200 tpm              6,5 l/100km   \n",
              "\n",
              "  New_Battery_Range New_Power_Consumption New_Co2_Emissions  \n",
              "0               NaN                   NaN          155 g/km  \n",
              "1               NaN                   NaN          155 g/km  \n",
              "\n",
              "[2 rows x 68 columns]"
            ]
          },
          "execution_count": 12,
          "metadata": {},
          "output_type": "execute_result"
        }
      ],
      "source": [
        "Removable_Columns = [\"Combined_Consumption\", \"Combined_Consumption.1\", \"Co2_Emissions\", \"Co2_Emissions.1\",\n",
        "                     \"Battery_Range\", \"Battery_Range.1\", \"Power_Consumption\", \"Power_Consumption.1\", \"Max_Torque.1\"]\n",
        "                \n",
        "df = df.drop(columns=Removable_Columns, axis =1)\n",
        "df.head(2)\n"
      ]
    },
    {
      "cell_type": "markdown",
      "metadata": {},
      "source": [
        "<h5>2. Renaming Columns</h5>"
      ]
    },
    {
      "cell_type": "code",
      "execution_count": 13,
      "metadata": {
        "gather": {
          "logged": 1703581253005
        }
      },
      "outputs": [
        {
          "data": {
            "text/plain": [
              "Index(['Price', 'New_Price_Roadworthy', 'Road_Tax_3_Months', 'Body_Type',\n",
              "       'Transmission', 'Number_of_Seats', 'Segment', 'Introduction', 'End',\n",
              "       'Drive_Wheel', 'Engine_motor_Type', 'Fuel_Type', 'Power',\n",
              "       'Total_Max_Power_kW', 'Total_Max_Power_hp', 'Max_Torque', 'Cylinders',\n",
              "       'Valves_Per_Cylinder', 'Engine_Capacity', 'Bore_X_Stroke',\n",
              "       'Compression_Ratio', 'Max_Power', 'Power_kW', 'Power_hp',\n",
              "       'Max_Power_Rpm', 'Max_Torque_Rpm', 'Fuel_System', 'Valve_Actuation',\n",
              "       'Turbo', 'Catalyst', 'Fuel_Tank_Capacity', 'Top_Speed',\n",
              "       'Acceleration_0_100_Km_H', 'Practice_Consumption_Monitor',\n",
              "       'Urban_Consumption', 'Extra_Urban_Consumption', 'Energy_Label',\n",
              "       'Low_Consumption', 'Medium_Consumption', 'High_Consumption',\n",
              "       'Very_High_Consumption', 'Front_Suspension_1', 'Rear_Suspension_1',\n",
              "       'Front_Suspension_2', 'Rear_Suspension_2', 'Front_Stabilizer',\n",
              "       'Rear_Stabilizer', 'Front_Brakes', 'Rear_Brakes', 'Front_Tire_Size',\n",
              "       'Rear_Tire_Size', 'Turning_Circle', 'First_Gear', 'Second_Gear',\n",
              "       'Third_Gear', 'Fourth_Gear', 'Fifth_Gear', 'Sixth_Gear', 'Seventh_Gear',\n",
              "       'Eighth_Gear', 'Ninth_Gear', 'Reverse_Gear', 'Final_Drive',\n",
              "       'Rpm_At_120_Km_h', 'Combined_Consumption', 'Battery_Range',\n",
              "       'Power_Consumption', 'Co2_Emissions'],\n",
              "      dtype='object')"
            ]
          },
          "execution_count": 13,
          "metadata": {},
          "output_type": "execute_result"
        }
      ],
      "source": [
        "df = df.rename(columns={\"New_Combined_Consumption\":\"Combined_Consumption\", \n",
        "                        \"New_Co2_Emissions\":\"Co2_Emissions\",\n",
        "                        \"New_Battery_Range\":\"Battery_Range\",\n",
        "                        \"New_Power_Consumption\":\"Power_Consumption\"\n",
        "                        })\n",
        "df.columns"
      ]
    },
    {
      "cell_type": "markdown",
      "metadata": {},
      "source": [
        "<h5>3. Selecting Features </h5>"
      ]
    },
    {
      "cell_type": "markdown",
      "metadata": {},
      "source": [
        "<pre>Since our business problem is to predict Co2 emission from vehicles, \n",
        "we will choose features which are relevant for our business problem.</pre>"
      ]
    },
    {
      "cell_type": "markdown",
      "metadata": {},
      "source": [
        "<pre>The features that are likely to contribute to CO2 emissions from cars are those related \n",
        "to the engine and fuel efficiency. Here are the features that are associated with CO2 emissions:\n",
        " [\n",
        "    'Fuel_Type',\n",
        "    'Total_Max_Power_kW',\n",
        "    'Total_Max_Power_hp',\n",
        "    'Max_Torque',\n",
        "    'Cylinders',\n",
        "    'Valves_Per_Cylinder',\n",
        "    'Engine_Capacity',\n",
        "    'Bore_X_Stroke',\n",
        "    'Compression_Ratio',\n",
        "    'Max_Power_Rpm',\n",
        "    'Max_Torque_Rpm',\n",
        "    'Turbo',\n",
        "    'Fuel_System',\n",
        "    'Co2_Emissions'\n",
        "]\n",
        "</pre>"
      ]
    },
    {
      "cell_type": "markdown",
      "metadata": {},
      "source": [
        "<pre>\n",
        "Fuel_Type:\n",
        "\n",
        "The type of fuel used by the car, such as gasoline, diesel, hybrid, or electric, significantly \n",
        "affects CO2 emissions.\n",
        "\n",
        "Total_Max_Power_kW and Total_Max_Power_hp:\n",
        "\n",
        "The total maximum power output of the engine in kilowatts and horsepower can impact fuel \n",
        "consumption and emissions.\n",
        "\n",
        "Max_Torque:\n",
        "\n",
        "The maximum torque produced by the engine, as torque and power are related, and engine \n",
        "efficiency affects emissions.\n",
        "\n",
        "Cylinders:\n",
        "\n",
        "The number of cylinders in the engine can influence fuel efficiency and emissions.\n",
        "\n",
        "Valves_Per_Cylinder:\n",
        "\n",
        "The number of valves per cylinder is another engine-related factor that can impact \n",
        "combustion efficiency and emissions.\n",
        "\n",
        "Engine_Capacity:\n",
        "\n",
        "The total engine displacement or capacity is a key factor in determining fuel \n",
        "consumption and emissions.\n",
        "Bore_X_Stroke:\n",
        "\n",
        "The dimensions of the cylinders (bore and stroke) affect the engine's performance and emissions.\n",
        "\n",
        "Compression_Ratio:\n",
        "\n",
        "The compression ratio is the ratio of the maximum to minimum volume in the combustion chamber \n",
        "and influences engine efficiency and emissions.\n",
        "\n",
        "Max_Power_Rpm and Max_Torque_Rpm:\n",
        "\n",
        "The engine speed at which maximum power and torque are achieved can impact fuel consumption \n",
        "and emissions.\n",
        "\n",
        "Turbo:\n",
        "\n",
        "The presence of a turbocharger affects engine efficiency and emissions.\n",
        "\n",
        "Fuel_System:\n",
        "\n",
        "The type of fuel injection or carburetion system can impact combustion efficiency\n",
        "and emissions.\n",
        "\n",
        "Co2_Emissions:\n",
        "\n",
        "The target variable itself, CO2 emissions, is an important feature when studying its \n",
        "relationship with other parameters.\n",
        "</pre>"
      ]
    },
    {
      "cell_type": "code",
      "execution_count": 14,
      "metadata": {
        "gather": {
          "logged": 1703581253401
        }
      },
      "outputs": [],
      "source": [
        "Features_related_to_Co2_emissions = [\n",
        "    'Fuel_Type',\n",
        "    \"Power\",\n",
        "    'Max_Torque',\n",
        "    'Cylinders',\n",
        "    'Valves_Per_Cylinder',\n",
        "    'Engine_Capacity',\n",
        "    'Bore_X_Stroke',\n",
        "    'Compression_Ratio',\n",
        "    'Max_Power_Rpm',\n",
        "    'Max_Torque_Rpm',\n",
        "    'Fuel_System',\n",
        "    'Turbo',\n",
        "    'Co2_Emissions'\n",
        "]"
      ]
    },
    {
      "cell_type": "code",
      "execution_count": 15,
      "metadata": {
        "gather": {
          "logged": 1703581253754
        }
      },
      "outputs": [],
      "source": [
        "df = df[Features_related_to_Co2_emissions]"
      ]
    },
    {
      "cell_type": "markdown",
      "metadata": {},
      "source": [
        "<h5>4. Data Type Correction</h5>"
      ]
    },
    {
      "cell_type": "markdown",
      "metadata": {},
      "source": [
        "<p>1. Fuel Type</p>"
      ]
    },
    {
      "cell_type": "code",
      "execution_count": 16,
      "metadata": {
        "gather": {
          "logged": 1703581254130
        }
      },
      "outputs": [
        {
          "data": {
            "text/plain": [
              "0       gasoline\n",
              "1       gasoline\n",
              "2       gasoline\n",
              "3       gasoline\n",
              "4       gasoline\n",
              "          ...   \n",
              "4632    gasoline\n",
              "4633    gasoline\n",
              "4634         NaN\n",
              "4635    gasoline\n",
              "4636         NaN\n",
              "Name: Fuel_Type, Length: 4637, dtype: object"
            ]
          },
          "execution_count": 16,
          "metadata": {},
          "output_type": "execute_result"
        }
      ],
      "source": [
        "df[\"Fuel_Type\"]"
      ]
    },
    {
      "cell_type": "code",
      "execution_count": 17,
      "metadata": {
        "gather": {
          "logged": 1703581254551
        }
      },
      "outputs": [
        {
          "data": {
            "text/plain": [
              "array(['gasoline', 'diesel', 'gasoline / bio ethanol', nan,\n",
              "       'lpg / gasoline'], dtype=object)"
            ]
          },
          "execution_count": 17,
          "metadata": {},
          "output_type": "execute_result"
        }
      ],
      "source": [
        "df[\"Fuel_Type\"].unique()"
      ]
    },
    {
      "cell_type": "markdown",
      "metadata": {},
      "source": [
        "<p>2. Power</p>"
      ]
    },
    {
      "cell_type": "code",
      "execution_count": 18,
      "metadata": {
        "gather": {
          "logged": 1703581255023
        }
      },
      "outputs": [
        {
          "data": {
            "text/plain": [
              "0        99 kw (135 hp)\n",
              "1        99 kw (135 hp)\n",
              "2       114 kw (155 hp)\n",
              "3       121 kw (165 hp)\n",
              "4       121 kw (165 hp)\n",
              "             ...       \n",
              "4632    103 kw (140 hp)\n",
              "4633    103 kw (140 hp)\n",
              "4634    239 kw (325 hp)\n",
              "4635     81 kw (110 hp)\n",
              "4636    150 kw (204 hp)\n",
              "Name: Power, Length: 4637, dtype: object"
            ]
          },
          "execution_count": 18,
          "metadata": {},
          "output_type": "execute_result"
        }
      ],
      "source": [
        "df[\"Power\"]"
      ]
    },
    {
      "cell_type": "markdown",
      "metadata": {},
      "source": [
        "<pre>\n",
        "Since Power is a numerical (int) type feature. We will convert it. \n",
        "We will choose Kilowatts for creating new feature.\n",
        "There are some values missing in kw, so we'll use hp with formula\n",
        "Power (kW)=Power (hp)×0.7457\n",
        "to determine kW\n",
        "</pre>"
      ]
    },
    {
      "cell_type": "code",
      "execution_count": 19,
      "metadata": {
        "gather": {
          "logged": 1703581255477
        }
      },
      "outputs": [],
      "source": [
        "def Power_func(power):\n",
        "    if type(power) == str:\n",
        "        kw_power = power.split()[0]\n",
        "        if kw_power == \"-\":\n",
        "            hp_power = power.split()[2]\n",
        "            hp_power = hp_power.split(\"(\")[1]\n",
        "            if hp_power == \"-\":\n",
        "                return np.nan\n",
        "            else:\n",
        "                kw_power = float(hp_power) * 0.7457\n",
        "                return str(kw_power)\n",
        "        else:\n",
        "            return kw_power\n",
        "    else:\n",
        "        return power"
      ]
    },
    {
      "cell_type": "code",
      "execution_count": 20,
      "metadata": {
        "gather": {
          "logged": 1703581255828
        }
      },
      "outputs": [],
      "source": [
        "df['Power(kw)'] = df[\"Power\"].apply(Power_func)\n",
        "df = df.drop(\"Power\", axis = 1)"
      ]
    },
    {
      "cell_type": "code",
      "execution_count": 21,
      "metadata": {
        "gather": {
          "logged": 1703581256205
        }
      },
      "outputs": [
        {
          "data": {
            "text/plain": [
              "0        99.0\n",
              "1        99.0\n",
              "2       114.0\n",
              "3       121.0\n",
              "4       121.0\n",
              "        ...  \n",
              "4632    103.0\n",
              "4633    103.0\n",
              "4634    239.0\n",
              "4635     81.0\n",
              "4636    150.0\n",
              "Name: Power(kw), Length: 4637, dtype: float64"
            ]
          },
          "execution_count": 21,
          "metadata": {},
          "output_type": "execute_result"
        }
      ],
      "source": [
        "df['Power(kw)'] = df['Power(kw)'].astype(float)\n",
        "df['Power(kw)']"
      ]
    },
    {
      "cell_type": "markdown",
      "metadata": {},
      "source": [
        "<p>3. Max_Torque</p>"
      ]
    },
    {
      "cell_type": "code",
      "execution_count": 22,
      "metadata": {
        "gather": {
          "logged": 1703581256630
        }
      },
      "outputs": [
        {
          "data": {
            "text/plain": [
              "0       206 nm\n",
              "1       206 nm\n",
              "2       201 nm\n",
              "3       250 nm\n",
              "4       206 nm\n",
              "         ...  \n",
              "4632    260 nm\n",
              "4633    260 nm\n",
              "4634    420 nm\n",
              "4635    200 nm\n",
              "4636    310 nm\n",
              "Name: Max_Torque, Length: 4637, dtype: object"
            ]
          },
          "execution_count": 22,
          "metadata": {},
          "output_type": "execute_result"
        }
      ],
      "source": [
        "df[\"Max_Torque\"]"
      ]
    },
    {
      "cell_type": "code",
      "execution_count": 23,
      "metadata": {
        "gather": {
          "logged": 1703581257017
        }
      },
      "outputs": [],
      "source": [
        "def Max_Torque_func(torque):\n",
        "    if type(torque) == str:\n",
        "        torque = torque.split()[0]\n",
        "        if torque == \"-\":\n",
        "            return np.nan\n",
        "        else:\n",
        "            return torque\n",
        "    else:\n",
        "        return torque"
      ]
    },
    {
      "cell_type": "code",
      "execution_count": 24,
      "metadata": {
        "gather": {
          "logged": 1703581257619
        }
      },
      "outputs": [],
      "source": [
        "df['Max_Torque(nm)'] = df[\"Max_Torque\"].apply(Max_Torque_func)\n",
        "df = df.drop(\"Max_Torque\", axis = 1)"
      ]
    },
    {
      "cell_type": "code",
      "execution_count": 25,
      "metadata": {
        "gather": {
          "logged": 1703581258191
        }
      },
      "outputs": [
        {
          "data": {
            "text/plain": [
              "0       206.0\n",
              "1       206.0\n",
              "2       201.0\n",
              "3       250.0\n",
              "4       206.0\n",
              "        ...  \n",
              "4632    260.0\n",
              "4633    260.0\n",
              "4634    420.0\n",
              "4635    200.0\n",
              "4636    310.0\n",
              "Name: Max_Torque(nm), Length: 4637, dtype: float64"
            ]
          },
          "execution_count": 25,
          "metadata": {},
          "output_type": "execute_result"
        }
      ],
      "source": [
        "df['Max_Torque(nm)'] = df['Max_Torque(nm)'].astype(float)\n",
        "df['Max_Torque(nm)']"
      ]
    },
    {
      "cell_type": "markdown",
      "metadata": {},
      "source": [
        "<p>4. Cylinders</p>"
      ]
    },
    {
      "cell_type": "code",
      "execution_count": 26,
      "metadata": {
        "gather": {
          "logged": 1703581258774
        }
      },
      "outputs": [
        {
          "data": {
            "text/plain": [
              "0       4, in line\n",
              "1       4, in line\n",
              "2       4, in line\n",
              "3       4, in line\n",
              "4       4, in line\n",
              "           ...    \n",
              "4632    4, in line\n",
              "4633    4, in line\n",
              "4634           NaN\n",
              "4635    3, in line\n",
              "4636           NaN\n",
              "Name: Cylinders, Length: 4637, dtype: object"
            ]
          },
          "execution_count": 26,
          "metadata": {},
          "output_type": "execute_result"
        }
      ],
      "source": [
        "df[\"Cylinders\"]"
      ]
    },
    {
      "cell_type": "code",
      "execution_count": 27,
      "metadata": {
        "gather": {
          "logged": 1703581259339
        }
      },
      "outputs": [
        {
          "data": {
            "text/plain": [
              "array(['4, in line', '4, boxer', '8, v engine', '12, v engine',\n",
              "       '5, in line', '6, v engine', '10, v engine', '8, in line',\n",
              "       '12, w engine', '6, in line', '16, w engine', '3, in line', '4',\n",
              "       '2, boxer', nan, '2, in line', '3', '4, v engine', '6', '6, boxer',\n",
              "       '2', 'n.b.', '0, in line', '8', '2, v engine', '8, w engine'],\n",
              "      dtype=object)"
            ]
          },
          "execution_count": 27,
          "metadata": {},
          "output_type": "execute_result"
        }
      ],
      "source": [
        "df[\"Cylinders\"].unique()"
      ]
    },
    {
      "cell_type": "code",
      "execution_count": 28,
      "metadata": {
        "gather": {
          "logged": 1703581259966
        }
      },
      "outputs": [],
      "source": [
        "def Cylinders_func(c):\n",
        "    if type(c) == str:\n",
        "        if c == \"n.b.\":\n",
        "            return np.nan \n",
        "        else:\n",
        "            return c"
      ]
    },
    {
      "cell_type": "code",
      "execution_count": 29,
      "metadata": {
        "gather": {
          "logged": 1703581260465
        }
      },
      "outputs": [],
      "source": [
        "df['New_Cylinders'] = df[\"Cylinders\"].apply(Cylinders_func)\n",
        "df = df.drop(\"Cylinders\", axis = 1)\n",
        "df = df.rename(columns={\"New_Cylinders\":\"Cylinders\"\n",
        "                        })"
      ]
    },
    {
      "cell_type": "code",
      "execution_count": 30,
      "metadata": {
        "gather": {
          "logged": 1703581261048
        }
      },
      "outputs": [
        {
          "data": {
            "text/plain": [
              "array(['4, in line', '4, boxer', '8, v engine', '12, v engine',\n",
              "       '5, in line', '6, v engine', '10, v engine', '8, in line',\n",
              "       '12, w engine', '6, in line', '16, w engine', '3, in line', '4',\n",
              "       '2, boxer', None, '2, in line', '3', '4, v engine', '6',\n",
              "       '6, boxer', '2', nan, '0, in line', '8', '2, v engine',\n",
              "       '8, w engine'], dtype=object)"
            ]
          },
          "execution_count": 30,
          "metadata": {},
          "output_type": "execute_result"
        }
      ],
      "source": [
        "df[\"Cylinders\"].unique()"
      ]
    },
    {
      "cell_type": "markdown",
      "metadata": {},
      "source": [
        "<p>5. Valves_Per_Cylinder</p>"
      ]
    },
    {
      "cell_type": "code",
      "execution_count": 31,
      "metadata": {
        "gather": {
          "logged": 1703581261624
        }
      },
      "outputs": [
        {
          "data": {
            "text/plain": [
              "0         4\n",
              "1         4\n",
              "2         4\n",
              "3         4\n",
              "4         4\n",
              "       ... \n",
              "4632      4\n",
              "4633      4\n",
              "4634    NaN\n",
              "4635      4\n",
              "4636    NaN\n",
              "Name: Valves_Per_Cylinder, Length: 4637, dtype: object"
            ]
          },
          "execution_count": 31,
          "metadata": {},
          "output_type": "execute_result"
        }
      ],
      "source": [
        "df[\"Valves_Per_Cylinder\"]"
      ]
    },
    {
      "cell_type": "code",
      "execution_count": 32,
      "metadata": {
        "gather": {
          "logged": 1703581262287
        }
      },
      "outputs": [
        {
          "data": {
            "text/plain": [
              "array(['4', '2', '5', '3', nan, 'n.b.', '0'], dtype=object)"
            ]
          },
          "execution_count": 32,
          "metadata": {},
          "output_type": "execute_result"
        }
      ],
      "source": [
        "df[\"Valves_Per_Cylinder\"].unique()"
      ]
    },
    {
      "cell_type": "code",
      "execution_count": 33,
      "metadata": {
        "gather": {
          "logged": 1703581262825
        }
      },
      "outputs": [],
      "source": [
        "def Valves_Per_Cylinder_func(valves):\n",
        "    if valves == 'n.b.':\n",
        "        return np.nan\n",
        "    else:\n",
        "        return valves"
      ]
    },
    {
      "cell_type": "code",
      "execution_count": 34,
      "metadata": {
        "gather": {
          "logged": 1703581263328
        }
      },
      "outputs": [],
      "source": [
        "df['New_Valves_Per_Cylinder'] = df[\"Valves_Per_Cylinder\"].apply(Valves_Per_Cylinder_func)\n",
        "df = df.drop(\"Valves_Per_Cylinder\", axis = 1)\n",
        "df = df.rename(columns={\"New_Valves_Per_Cylinder\":\"Valves_Per_Cylinder\"\n",
        "                        })"
      ]
    },
    {
      "cell_type": "code",
      "execution_count": 35,
      "metadata": {
        "gather": {
          "logged": 1703581263864
        }
      },
      "outputs": [
        {
          "data": {
            "text/plain": [
              "0       4.0\n",
              "1       4.0\n",
              "2       4.0\n",
              "3       4.0\n",
              "4       4.0\n",
              "       ... \n",
              "4632    4.0\n",
              "4633    4.0\n",
              "4634    NaN\n",
              "4635    4.0\n",
              "4636    NaN\n",
              "Name: Valves_Per_Cylinder, Length: 4637, dtype: float64"
            ]
          },
          "execution_count": 35,
          "metadata": {},
          "output_type": "execute_result"
        }
      ],
      "source": [
        "df['Valves_Per_Cylinder'] = df['Valves_Per_Cylinder'].astype(float)\n",
        "df['Valves_Per_Cylinder']"
      ]
    },
    {
      "cell_type": "code",
      "execution_count": 36,
      "metadata": {
        "gather": {
          "logged": 1703581264440
        }
      },
      "outputs": [
        {
          "data": {
            "text/plain": [
              "array([ 4.,  2.,  5.,  3., nan,  0.])"
            ]
          },
          "execution_count": 36,
          "metadata": {},
          "output_type": "execute_result"
        }
      ],
      "source": [
        "df[\"Valves_Per_Cylinder\"].unique()"
      ]
    },
    {
      "cell_type": "markdown",
      "metadata": {},
      "source": [
        "<p>6. Engine_Capacity</p>"
      ]
    },
    {
      "cell_type": "code",
      "execution_count": 37,
      "metadata": {
        "gather": {
          "logged": 1703581265098
        }
      },
      "outputs": [
        {
          "data": {
            "text/plain": [
              "0       1368 cc\n",
              "1       1368 cc\n",
              "2       1368 cc\n",
              "3       1368 cc\n",
              "4       1970 cc\n",
              "         ...   \n",
              "4632    1333 cc\n",
              "4633    1333 cc\n",
              "4634        NaN\n",
              "4635     999 cc\n",
              "4636        NaN\n",
              "Name: Engine_Capacity, Length: 4637, dtype: object"
            ]
          },
          "execution_count": 37,
          "metadata": {},
          "output_type": "execute_result"
        }
      ],
      "source": [
        "df[\"Engine_Capacity\"]"
      ]
    },
    {
      "cell_type": "code",
      "execution_count": 38,
      "metadata": {
        "gather": {
          "logged": 1703581265658
        }
      },
      "outputs": [],
      "source": [
        "def Engine_Capacity_func(capacity):\n",
        "    if type(capacity) == str:\n",
        "        if capacity == \"n.b.\":\n",
        "            return np.nan\n",
        "        else:\n",
        "            capacity = capacity.split()[0]\n",
        "            return capacity\n",
        "    else:\n",
        "        return capacity"
      ]
    },
    {
      "cell_type": "code",
      "execution_count": 39,
      "metadata": {
        "gather": {
          "logged": 1703581266186
        }
      },
      "outputs": [],
      "source": [
        "df['Engine_Capacity(cc)'] = df[\"Engine_Capacity\"].apply(Engine_Capacity_func)\n",
        "df = df.drop(\"Engine_Capacity\", axis = 1)"
      ]
    },
    {
      "cell_type": "code",
      "execution_count": 40,
      "metadata": {
        "gather": {
          "logged": 1703581266726
        }
      },
      "outputs": [
        {
          "data": {
            "text/plain": [
              "0       1368.0\n",
              "1       1368.0\n",
              "2       1368.0\n",
              "3       1368.0\n",
              "4       1970.0\n",
              "         ...  \n",
              "4632    1333.0\n",
              "4633    1333.0\n",
              "4634       NaN\n",
              "4635     999.0\n",
              "4636       NaN\n",
              "Name: Engine_Capacity(cc), Length: 4637, dtype: float64"
            ]
          },
          "execution_count": 40,
          "metadata": {},
          "output_type": "execute_result"
        }
      ],
      "source": [
        "df['Engine_Capacity(cc)'] = df['Engine_Capacity(cc)'].astype(float)\n",
        "df['Engine_Capacity(cc)']"
      ]
    },
    {
      "cell_type": "markdown",
      "metadata": {},
      "source": [
        "<p>7. Bore_X_Stroke</p>"
      ]
    },
    {
      "cell_type": "code",
      "execution_count": 41,
      "metadata": {
        "gather": {
          "logged": 1703581267392
        }
      },
      "outputs": [
        {
          "data": {
            "text/plain": [
              "0       72,0 x 84,0 mm\n",
              "1       72,0 x 84,0 mm\n",
              "2       72,0 x 84,0 mm\n",
              "3       72,0 x 84,0 mm\n",
              "4       83,0 x 91,0 mm\n",
              "             ...      \n",
              "4632              n.b.\n",
              "4633              n.b.\n",
              "4634               NaN\n",
              "4635              n.b.\n",
              "4636               NaN\n",
              "Name: Bore_X_Stroke, Length: 4637, dtype: object"
            ]
          },
          "execution_count": 41,
          "metadata": {},
          "output_type": "execute_result"
        }
      ],
      "source": [
        "df[\"Bore_X_Stroke\"] "
      ]
    },
    {
      "cell_type": "markdown",
      "metadata": {},
      "source": [
        "<pre>Since Bore_X_Stroke represents the diameter and length of the engine cylinders and Engine capacity \n",
        "represents total volume of all cylinder. We can remove \"Bore_X_Stroke\" feature.</pre>"
      ]
    },
    {
      "cell_type": "code",
      "execution_count": 42,
      "metadata": {
        "gather": {
          "logged": 1703581267975
        }
      },
      "outputs": [],
      "source": [
        "df = df.drop(\"Bore_X_Stroke\", axis = 1)"
      ]
    },
    {
      "cell_type": "markdown",
      "metadata": {},
      "source": [
        "<p>8. Compression_Ratio</p>"
      ]
    },
    {
      "cell_type": "code",
      "execution_count": 43,
      "metadata": {
        "gather": {
          "logged": 1703581268504
        }
      },
      "outputs": [
        {
          "data": {
            "text/plain": [
              "0       10,8 :1\n",
              "1       10,8 :1\n",
              "2        9,8 :1\n",
              "3        9,8 :1\n",
              "4       11,3 :1\n",
              "         ...   \n",
              "4632       n.b.\n",
              "4633       n.b.\n",
              "4634        NaN\n",
              "4635       n.b.\n",
              "4636        NaN\n",
              "Name: Compression_Ratio, Length: 4637, dtype: object"
            ]
          },
          "execution_count": 43,
          "metadata": {},
          "output_type": "execute_result"
        }
      ],
      "source": [
        "df[\"Compression_Ratio\"]"
      ]
    },
    {
      "cell_type": "code",
      "execution_count": 44,
      "metadata": {
        "gather": {
          "logged": 1703581269064
        }
      },
      "outputs": [
        {
          "data": {
            "text/plain": [
              "array(['10,8 :1', '9,8 :1', '11,3 :1', '10,5 :1', '9,5 :1', '10,3 :1',\n",
              "       '10,0 :1', '18,4 :1', '9,0 :1', 'n.b.', '11,5 :1', '11,0 :1',\n",
              "       '8,3 :1', '10,9 :1', '9,3 :1', '8,2 :1', '8,75 :1', '9,2 :1',\n",
              "       '8,25 :1', '8,9 :1', '10,7 :1', '9,6 :1', '12,5 :1', '12,3 :1',\n",
              "       '10,1 :1', '12,0 :1', '10,6 :1', '11,6 :1', '10,4 :1', '8,5 :1',\n",
              "       '8,0 :1', '7,8 :1', '10,2 :1', '9,7 :1', '8,8 :1', '11,7 :1',\n",
              "       '9,1 :1', '9,4 :1', '9,9 :1', '8,86 :1', nan, '9,25 :1', '17,6 :1',\n",
              "       '8,6 :1', '21,2 :1', '11,2 :1', '13,5 :1', '12,2 :1', '11,1 :1',\n",
              "       '9,85 :1', '16,5 :1', '17,5 :1', '18,0 :1', '18,5 :1', '9,33 :1',\n",
              "       '8,4 :1', '8,7 :1', '12,6 :1', '21,0 :1', '9,13 :1', '11,8 :1',\n",
              "       '17,1 :1', '9,35 :1', '19,5 :1', '15,5 :1', '8,13 :1', '9,34 :1',\n",
              "       '10,75 :1', '13,0 :1', '11,25 :1', '7,4 :1', '22,0 :1', '14,0 :1',\n",
              "       '17,0 :1', '15,0 :1', '21,8 :1', '17,9 :1', '21,9 :1', '15,6 :1',\n",
              "       '9,75 :1', '9,65 :1', '11,4 :1', '20,7 :1', '16,0 :1', '7,75 :1',\n",
              "       '9,45 :1', '7,6 :1', '12,7 :1', '11,65 :1', '7,9 :1', '7,5 :1',\n",
              "       '7,0 :1', '7,7 :1', '18,8 :1', '8,65 :1', '20,0 :1', '16,8 :1',\n",
              "       '16,7 :1', '15,4 :1', '15,7 :1', '15,3 :1', '16,4 :1', '15,1 :1',\n",
              "       '14,4 :1'], dtype=object)"
            ]
          },
          "execution_count": 44,
          "metadata": {},
          "output_type": "execute_result"
        }
      ],
      "source": [
        "df[\"Compression_Ratio\"].unique()"
      ]
    },
    {
      "cell_type": "code",
      "execution_count": 45,
      "metadata": {
        "gather": {
          "logged": 1703581269705
        }
      },
      "outputs": [],
      "source": [
        "def Compression_Ratio_func(e):\n",
        "    if type(e) == str:\n",
        "        if e == \"n.b.\":\n",
        "            return np.nan\n",
        "        else:\n",
        "            e = e.split()[0]\n",
        "            e = e.replace(\",\",\".\")\n",
        "            return e\n",
        "    else:\n",
        "        return e"
      ]
    },
    {
      "cell_type": "code",
      "execution_count": 46,
      "metadata": {
        "gather": {
          "logged": 1703581270254
        }
      },
      "outputs": [
        {
          "data": {
            "text/plain": [
              "0       10.8\n",
              "1       10.8\n",
              "2        9.8\n",
              "3        9.8\n",
              "4       11.3\n",
              "        ... \n",
              "4632     NaN\n",
              "4633     NaN\n",
              "4634     NaN\n",
              "4635     NaN\n",
              "4636     NaN\n",
              "Name: Compression_Ratio, Length: 4637, dtype: float64"
            ]
          },
          "execution_count": 46,
          "metadata": {},
          "output_type": "execute_result"
        }
      ],
      "source": [
        "df['New_Compression_Ratio'] = df[\"Compression_Ratio\"].apply(Compression_Ratio_func)\n",
        "df = df.drop(\"Compression_Ratio\", axis = 1)\n",
        "df = df.rename(columns={\"New_Compression_Ratio\":\"Compression_Ratio\"\n",
        "                        })\n",
        "df['Compression_Ratio'] = df['Compression_Ratio'].astype(float)\n",
        "df[\"Compression_Ratio\"]"
      ]
    },
    {
      "cell_type": "markdown",
      "metadata": {},
      "source": [
        "<p>9. Max_Power_Rpm</p>"
      ]
    },
    {
      "cell_type": "code",
      "execution_count": 47,
      "metadata": {
        "gather": {
          "logged": 1703581270842
        }
      },
      "outputs": [
        {
          "data": {
            "text/plain": [
              "0       5500 tpm\n",
              "1       5500 tpm\n",
              "2       5750 tpm\n",
              "3       5500 tpm\n",
              "4       6400 tpm\n",
              "          ...   \n",
              "4632    4500 tpm\n",
              "4633    4500 tpm\n",
              "4634         NaN\n",
              "4635        n.b.\n",
              "4636         NaN\n",
              "Name: Max_Power_Rpm, Length: 4637, dtype: object"
            ]
          },
          "execution_count": 47,
          "metadata": {},
          "output_type": "execute_result"
        }
      ],
      "source": [
        "df[\"Max_Power_Rpm\"]"
      ]
    },
    {
      "cell_type": "code",
      "execution_count": 48,
      "metadata": {
        "gather": {
          "logged": 1703581271393
        }
      },
      "outputs": [],
      "source": [
        "def Max_Power_Rpm_func(rpm):\n",
        "    if type(rpm) == str:\n",
        "        if rpm == \"n.b.\":\n",
        "            return np.nan\n",
        "        else:\n",
        "            rpm = rpm.split()[0]\n",
        "            return rpm\n",
        "    else:\n",
        "        return rpm"
      ]
    },
    {
      "cell_type": "code",
      "execution_count": 49,
      "metadata": {
        "gather": {
          "logged": 1703581272050
        }
      },
      "outputs": [
        {
          "data": {
            "text/plain": [
              "0       5500.0\n",
              "1       5500.0\n",
              "2       5750.0\n",
              "3       5500.0\n",
              "4       6400.0\n",
              "         ...  \n",
              "4632    4500.0\n",
              "4633    4500.0\n",
              "4634       NaN\n",
              "4635       NaN\n",
              "4636       NaN\n",
              "Name: Max_Power_Rpm, Length: 4637, dtype: float64"
            ]
          },
          "execution_count": 49,
          "metadata": {},
          "output_type": "execute_result"
        }
      ],
      "source": [
        "df['New_Max_Power_Rpm'] = df[\"Max_Power_Rpm\"].apply(Max_Power_Rpm_func)\n",
        "df['New_Max_Power_Rpm'] = df['New_Max_Power_Rpm'].astype(float)\n",
        "df = df.drop(\"Max_Power_Rpm\", axis = 1)\n",
        "df = df.rename(columns={\"New_Max_Power_Rpm\":\"Max_Power_Rpm\"\n",
        "                        })\n",
        "df['Max_Power_Rpm']"
      ]
    },
    {
      "cell_type": "markdown",
      "metadata": {},
      "source": [
        "<p>10. Max_Torque_Rpm</p>"
      ]
    },
    {
      "cell_type": "code",
      "execution_count": 50,
      "metadata": {
        "gather": {
          "logged": 1703581272601
        }
      },
      "outputs": [
        {
          "data": {
            "text/plain": [
              "0       3000 tpm\n",
              "1       3000 tpm\n",
              "2       3000 tpm\n",
              "3       2250 tpm\n",
              "4       3250 tpm\n",
              "          ...   \n",
              "4632    1750 tpm\n",
              "4633    1750 tpm\n",
              "4634         NaN\n",
              "4635    2000 tpm\n",
              "4636         NaN\n",
              "Name: Max_Torque_Rpm, Length: 4637, dtype: object"
            ]
          },
          "execution_count": 50,
          "metadata": {},
          "output_type": "execute_result"
        }
      ],
      "source": [
        "df[\"Max_Torque_Rpm\"]"
      ]
    },
    {
      "cell_type": "code",
      "execution_count": 51,
      "metadata": {
        "gather": {
          "logged": 1703581273139
        }
      },
      "outputs": [],
      "source": [
        "def Max_Torque_Rpm_func(rpm):\n",
        "    if type(rpm) == str:\n",
        "        if rpm == \"n.b.\":\n",
        "            return np.nan\n",
        "        else:\n",
        "            rpm = rpm.split()[0]\n",
        "            return rpm\n",
        "    else:\n",
        "        return rpm"
      ]
    },
    {
      "cell_type": "code",
      "execution_count": 52,
      "metadata": {
        "gather": {
          "logged": 1703581273680
        }
      },
      "outputs": [
        {
          "data": {
            "text/plain": [
              "0       3000.0\n",
              "1       3000.0\n",
              "2       3000.0\n",
              "3       2250.0\n",
              "4       3250.0\n",
              "         ...  \n",
              "4632    1750.0\n",
              "4633    1750.0\n",
              "4634       NaN\n",
              "4635    2000.0\n",
              "4636       NaN\n",
              "Name: Max_Torque_Rpm, Length: 4637, dtype: float64"
            ]
          },
          "execution_count": 52,
          "metadata": {},
          "output_type": "execute_result"
        }
      ],
      "source": [
        "df['New_Max_Torque_Rpm'] = df[\"Max_Torque_Rpm\"].apply(Max_Torque_Rpm_func)\n",
        "df['New_Max_Torque_Rpm'] = df['New_Max_Torque_Rpm'].astype(float)\n",
        "df = df.drop(\"Max_Torque_Rpm\", axis = 1)\n",
        "df = df.rename(columns={\"New_Max_Torque_Rpm\":\"Max_Torque_Rpm\"\n",
        "                        })\n",
        "df['Max_Torque_Rpm']"
      ]
    },
    {
      "cell_type": "markdown",
      "metadata": {},
      "source": [
        "<p>11. Fuel_System</p>"
      ]
    },
    {
      "cell_type": "code",
      "execution_count": 53,
      "metadata": {
        "gather": {
          "logged": 1703581274337
        }
      },
      "outputs": [
        {
          "data": {
            "text/plain": [
              "0       multipoint injection\n",
              "1       multipoint injection\n",
              "2       multipoint injection\n",
              "3       multipoint injection\n",
              "4           direct injection\n",
              "                ...         \n",
              "4632        direct injection\n",
              "4633        direct injection\n",
              "4634                     NaN\n",
              "4635        direct injection\n",
              "4636                     NaN\n",
              "Name: Fuel_System, Length: 4637, dtype: object"
            ]
          },
          "execution_count": 53,
          "metadata": {},
          "output_type": "execute_result"
        }
      ],
      "source": [
        "df[\"Fuel_System\"]"
      ]
    },
    {
      "cell_type": "code",
      "execution_count": 54,
      "metadata": {
        "gather": {
          "logged": 1703581274914
        }
      },
      "outputs": [
        {
          "data": {
            "text/plain": [
              "array(['multipoint injection', 'direct injection', 'common rail',\n",
              "       'carburettor', 'singplepoint injection', ' carburettor',\n",
              "       'injection', 'indirect injection', nan, 'multijet', 'n.b.'],\n",
              "      dtype=object)"
            ]
          },
          "execution_count": 54,
          "metadata": {},
          "output_type": "execute_result"
        }
      ],
      "source": [
        "df[\"Fuel_System\"].unique()"
      ]
    },
    {
      "cell_type": "code",
      "execution_count": 55,
      "metadata": {
        "gather": {
          "logged": 1703581275455
        }
      },
      "outputs": [],
      "source": [
        "def Fuel_System_func(fuel_sys):\n",
        "    if type(fuel_sys) == str:\n",
        "        if fuel_sys == \"n.b.\":\n",
        "            return np.nan\n",
        "        elif fuel_sys == ' carburettor':\n",
        "            return 'carburettor'\n",
        "        else:\n",
        "            return fuel_sys\n",
        "    else:\n",
        "        return fuel_sys"
      ]
    },
    {
      "cell_type": "code",
      "execution_count": 56,
      "metadata": {
        "gather": {
          "logged": 1703581276028
        }
      },
      "outputs": [
        {
          "data": {
            "text/plain": [
              "array(['multipoint injection', 'direct injection', 'common rail',\n",
              "       'carburettor', 'singplepoint injection', 'injection',\n",
              "       'indirect injection', nan, 'multijet'], dtype=object)"
            ]
          },
          "execution_count": 56,
          "metadata": {},
          "output_type": "execute_result"
        }
      ],
      "source": [
        "df['New_Fuel_System'] = df[\"Fuel_System\"].apply(Fuel_System_func)\n",
        "df = df.drop(\"Fuel_System\", axis = 1)\n",
        "df = df.rename(columns={\"New_Fuel_System\":\"Fuel_System\"\n",
        "                        })\n",
        "df[\"Fuel_System\"].unique()\n"
      ]
    },
    {
      "cell_type": "markdown",
      "metadata": {},
      "source": [
        "<p>12. Turbo</p>"
      ]
    },
    {
      "cell_type": "code",
      "execution_count": 57,
      "metadata": {
        "gather": {
          "logged": 1703581276650
        }
      },
      "outputs": [
        {
          "data": {
            "text/plain": [
              "0       yes, with intercooler\n",
              "1       yes, with intercooler\n",
              "2       yes, with intercooler\n",
              "3       yes, with intercooler\n",
              "4                          no\n",
              "                ...          \n",
              "4632    yes, with intercooler\n",
              "4633    yes, with intercooler\n",
              "4634                      NaN\n",
              "4635    yes, with intercooler\n",
              "4636                      NaN\n",
              "Name: Turbo, Length: 4637, dtype: object"
            ]
          },
          "execution_count": 57,
          "metadata": {},
          "output_type": "execute_result"
        }
      ],
      "source": [
        "df[\"Turbo\"]"
      ]
    },
    {
      "cell_type": "code",
      "execution_count": 58,
      "metadata": {
        "gather": {
          "logged": 1703581277285
        }
      },
      "outputs": [
        {
          "data": {
            "text/plain": [
              "array(['yes, with intercooler', 'no', 'mechanical compressor', 'yes',\n",
              "       'yes, two', nan, 'n.b.'], dtype=object)"
            ]
          },
          "execution_count": 58,
          "metadata": {},
          "output_type": "execute_result"
        }
      ],
      "source": [
        "df[\"Turbo\"].unique()"
      ]
    },
    {
      "cell_type": "code",
      "execution_count": 59,
      "metadata": {
        "gather": {
          "logged": 1703581277828
        }
      },
      "outputs": [],
      "source": [
        "def Turbo_func(t):\n",
        "    if type(t) == str:\n",
        "        if t == \"n.b.\":\n",
        "            return np.nan\n",
        "        else:\n",
        "            return t\n",
        "\n",
        "    else:\n",
        "        return t"
      ]
    },
    {
      "cell_type": "code",
      "execution_count": 60,
      "metadata": {
        "gather": {
          "logged": 1703581278360
        }
      },
      "outputs": [
        {
          "data": {
            "text/plain": [
              "array(['yes, with intercooler', 'no', 'mechanical compressor', 'yes',\n",
              "       'yes, two', nan], dtype=object)"
            ]
          },
          "execution_count": 60,
          "metadata": {},
          "output_type": "execute_result"
        }
      ],
      "source": [
        "df[\"New_Turbo\"] = df[\"Turbo\"].apply(Turbo_func)\n",
        "df = df.drop(\"Turbo\", axis = 1)\n",
        "\n",
        "df = df.rename(columns={\"New_Turbo\":\"Turbo\"\n",
        "                        })\n",
        "df[\"Turbo\"].unique()"
      ]
    },
    {
      "cell_type": "markdown",
      "metadata": {},
      "source": [
        "<p>13. Co2_Emissions</p>"
      ]
    },
    {
      "cell_type": "code",
      "execution_count": 61,
      "metadata": {
        "gather": {
          "logged": 1703581278922
        }
      },
      "outputs": [
        {
          "data": {
            "text/plain": [
              "0       155 g/km\n",
              "1       155 g/km\n",
              "2       162 g/km\n",
              "3       142 g/km\n",
              "4       212 g/km\n",
              "          ...   \n",
              "4632    134 g/km\n",
              "4633    138 g/km\n",
              "4634      0 g/km\n",
              "4635    126 g/km\n",
              "4636      0 g/km\n",
              "Name: Co2_Emissions, Length: 4637, dtype: object"
            ]
          },
          "execution_count": 61,
          "metadata": {},
          "output_type": "execute_result"
        }
      ],
      "source": [
        "df[\"Co2_Emissions\"]"
      ]
    },
    {
      "cell_type": "code",
      "execution_count": 62,
      "metadata": {
        "gather": {
          "logged": 1703581279565
        }
      },
      "outputs": [],
      "source": [
        "def Co2_Emissions_func(c):\n",
        "    if type(c) == str:\n",
        "        c = c.split()[0]\n",
        "        if c == \"-\":\n",
        "            return np.nan\n",
        "        else:\n",
        "            return c \n",
        "    else:\n",
        "        return c"
      ]
    },
    {
      "cell_type": "code",
      "execution_count": 63,
      "metadata": {
        "gather": {
          "logged": 1703581280094
        }
      },
      "outputs": [
        {
          "data": {
            "text/plain": [
              "0       155.0\n",
              "1       155.0\n",
              "2       162.0\n",
              "3       142.0\n",
              "4       212.0\n",
              "        ...  \n",
              "4632    134.0\n",
              "4633    138.0\n",
              "4634      0.0\n",
              "4635    126.0\n",
              "4636      0.0\n",
              "Name: Co2_Emissions(g/km), Length: 4637, dtype: float64"
            ]
          },
          "execution_count": 63,
          "metadata": {},
          "output_type": "execute_result"
        }
      ],
      "source": [
        "df['Co2_Emissions(g/km)'] = df[\"Co2_Emissions\"].apply(Co2_Emissions_func)\n",
        "df = df.drop(\"Co2_Emissions\", axis = 1)\n",
        "\n",
        "df['Co2_Emissions(g/km)'] = df['Co2_Emissions(g/km)'].astype(float)\n",
        "df['Co2_Emissions(g/km)']"
      ]
    },
    {
      "cell_type": "markdown",
      "metadata": {},
      "source": [
        "<h5>5. Dealing with Missing Data</h5>"
      ]
    },
    {
      "cell_type": "code",
      "execution_count": 64,
      "metadata": {
        "gather": {
          "logged": 1703581280652
        }
      },
      "outputs": [
        {
          "data": {
            "text/plain": [
              "Co2_Emissions(g/km)    1466\n",
              "Compression_Ratio       300\n",
              "Max_Power_Rpm           118\n",
              "Max_Torque_Rpm          106\n",
              "Engine_Capacity(cc)      94\n",
              "Valves_Per_Cylinder      92\n",
              "Cylinders                87\n",
              "Fuel_Type                81\n",
              "Fuel_System              80\n",
              "Turbo                    79\n",
              "Max_Torque(nm)           39\n",
              "Power(kw)                13\n",
              "dtype: int64"
            ]
          },
          "execution_count": 64,
          "metadata": {},
          "output_type": "execute_result"
        }
      ],
      "source": [
        "df.isnull().sum().sort_values(ascending = False)"
      ]
    },
    {
      "cell_type": "markdown",
      "metadata": {},
      "source": [
        "<p>Co2_Emissions (g/km)</p>"
      ]
    },
    {
      "cell_type": "markdown",
      "metadata": {},
      "source": [
        "<pre>When Scraping data we also collected data from EV vehicles, which does not produce any Co2 Emission. \n",
        "So we can remove those rows.</pre>"
      ]
    },
    {
      "cell_type": "code",
      "execution_count": 65,
      "metadata": {
        "gather": {
          "logged": 1703581281220
        }
      },
      "outputs": [],
      "source": [
        "df = df.dropna(subset=[\"Co2_Emissions(g/km)\"])"
      ]
    },
    {
      "cell_type": "code",
      "execution_count": 66,
      "metadata": {
        "gather": {
          "logged": 1703581281848
        }
      },
      "outputs": [
        {
          "data": {
            "text/plain": [
              "Compression_Ratio      266\n",
              "Max_Power_Rpm           99\n",
              "Max_Torque_Rpm          87\n",
              "Engine_Capacity(cc)     81\n",
              "Valves_Per_Cylinder     79\n",
              "Fuel_System             78\n",
              "Cylinders               78\n",
              "Fuel_Type               78\n",
              "Turbo                   77\n",
              "Max_Torque(nm)          23\n",
              "Co2_Emissions(g/km)      0\n",
              "Power(kw)                0\n",
              "dtype: int64"
            ]
          },
          "execution_count": 66,
          "metadata": {},
          "output_type": "execute_result"
        }
      ],
      "source": [
        "df.isnull().sum().sort_values(ascending = False)"
      ]
    },
    {
      "cell_type": "markdown",
      "metadata": {},
      "source": [
        "<p>Fuel_Type</p>"
      ]
    },
    {
      "cell_type": "code",
      "execution_count": 67,
      "metadata": {
        "gather": {
          "logged": 1703581282415
        }
      },
      "outputs": [
        {
          "data": {
            "text/plain": [
              "array(['gasoline', 'gasoline / bio ethanol', nan, 'diesel',\n",
              "       'lpg / gasoline'], dtype=object)"
            ]
          },
          "execution_count": 67,
          "metadata": {},
          "output_type": "execute_result"
        }
      ],
      "source": [
        "df[\"Fuel_Type\"].unique()"
      ]
    },
    {
      "cell_type": "code",
      "execution_count": 68,
      "metadata": {
        "gather": {
          "logged": 1703581282960
        }
      },
      "outputs": [],
      "source": [
        "df.dropna(subset=[\"Fuel_Type\"], inplace= True)"
      ]
    },
    {
      "cell_type": "code",
      "execution_count": 69,
      "metadata": {
        "gather": {
          "logged": 1703581283487
        }
      },
      "outputs": [
        {
          "data": {
            "text/plain": [
              "Compression_Ratio      188\n",
              "Max_Torque(nm)          23\n",
              "Max_Power_Rpm           21\n",
              "Max_Torque_Rpm           9\n",
              "Engine_Capacity(cc)      3\n",
              "Turbo                    1\n",
              "Valves_Per_Cylinder      1\n",
              "Co2_Emissions(g/km)      0\n",
              "Fuel_System              0\n",
              "Cylinders                0\n",
              "Power(kw)                0\n",
              "Fuel_Type                0\n",
              "dtype: int64"
            ]
          },
          "execution_count": 69,
          "metadata": {},
          "output_type": "execute_result"
        }
      ],
      "source": [
        "df.isnull().sum().sort_values(ascending = False)"
      ]
    },
    {
      "cell_type": "markdown",
      "metadata": {},
      "source": [
        "<p>Compression ratio</p>"
      ]
    },
    {
      "cell_type": "code",
      "execution_count": 70,
      "metadata": {
        "gather": {
          "logged": 1703581284194
        }
      },
      "outputs": [
        {
          "data": {
            "text/plain": [
              "array([10.8 ,  9.8 , 11.3 , 10.5 , 10.3 , 10.  ,   nan, 11.5 , 11.  ,\n",
              "        8.3 , 10.9 , 10.7 ,  9.5 ,  9.  ,  9.6 , 12.5 ,  9.3 , 12.3 ,\n",
              "       10.1 , 12.  , 10.6 ,  8.5 ,  8.  ,  7.8 , 10.2 ,  9.7 , 11.7 ,\n",
              "        9.2 , 10.4 ,  9.4 ,  9.9 ,  9.25, 17.6 ,  8.2 , 11.2 , 13.5 ,\n",
              "       12.2 , 11.1 , 16.5 , 17.5 ,  8.8 , 18.  , 18.5 ,  9.13,  8.7 ,\n",
              "        9.1 ,  8.6 , 11.8 , 17.1 , 15.5 , 19.5 ,  9.35, 10.75, 13.  ,\n",
              "       11.25,  7.4 , 14.  , 17.  ,  8.9 , 15.  , 21.8 , 17.9 , 21.9 ,\n",
              "       15.6 ,  9.65, 22.  , 11.4 , 16.  ,  8.4 , 12.7 , 11.65,  9.75,\n",
              "       18.8 , 16.8 ,  9.45, 16.7 , 15.4 , 15.7 , 15.3 , 16.4 , 15.1 ,\n",
              "       14.4 ])"
            ]
          },
          "execution_count": 70,
          "metadata": {},
          "output_type": "execute_result"
        }
      ],
      "source": [
        "df[\"Compression_Ratio\"].unique()"
      ]
    },
    {
      "cell_type": "markdown",
      "metadata": {},
      "source": [
        "<pre>The compression ratio depends up on the type of engines. We'll use the average of those \n",
        "to fill the missing values.</pre>"
      ]
    },
    {
      "cell_type": "code",
      "execution_count": 71,
      "metadata": {
        "gather": {
          "logged": 1703581284752
        }
      },
      "outputs": [
        {
          "data": {
            "text/plain": [
              "array(['gasoline', 'gasoline / bio ethanol', 'diesel', 'lpg / gasoline'],\n",
              "      dtype=object)"
            ]
          },
          "execution_count": 71,
          "metadata": {},
          "output_type": "execute_result"
        }
      ],
      "source": [
        "df[\"Fuel_Type\"].unique()"
      ]
    },
    {
      "cell_type": "markdown",
      "metadata": {},
      "source": [
        "<pre>The average compression ratio for these engines are:</pre>"
      ]
    },
    {
      "cell_type": "code",
      "execution_count": 72,
      "metadata": {
        "gather": {
          "logged": 1703581285285
        }
      },
      "outputs": [],
      "source": [
        "average_ratios = {\n",
        "    'Gasoline_Engine': 9.0,\n",
        "    'Diesel_Engine': 17.5,\n",
        "    'gasoline_bio_ethanol': 12.0,\n",
        "    'lpg_gasoline': 10.0\n",
        "}\n",
        "\n",
        "def Compression_Ratio_func(Compression_Ratio,Fuel_Type):\n",
        "    if pd.isnull(Compression_Ratio):\n",
        "        if Fuel_Type == \"gasoline\":\n",
        "            return 9.0\n",
        "        elif Fuel_Type == \"gasoline / bio ethanol\":\n",
        "            return 12.0\n",
        "        elif Fuel_Type == \"diesel\":\n",
        "            return 17.5\n",
        "        elif Fuel_Type == \"lpg / gasoline\":\n",
        "            return 10.0\n",
        "    else:\n",
        "        return Compression_Ratio"
      ]
    },
    {
      "cell_type": "code",
      "execution_count": 73,
      "metadata": {
        "gather": {
          "logged": 1703581285811
        }
      },
      "outputs": [],
      "source": [
        "df['New_Compression_Ratio'] = np.vectorize(Compression_Ratio_func)(df['Compression_Ratio'], df['Fuel_Type'])\n",
        "df = df.drop(\"Compression_Ratio\", axis = 1)\n",
        "df[\"New_Compression_Ratio\"] \n",
        "df = df.rename(columns={\"New_Compression_Ratio\":\"Compression_Ratio\"\n",
        "                        })\n"
      ]
    },
    {
      "cell_type": "code",
      "execution_count": 74,
      "metadata": {
        "gather": {
          "logged": 1703581286444
        }
      },
      "outputs": [
        {
          "data": {
            "text/plain": [
              "array([10.8 ,  9.8 , 11.3 , 10.5 , 10.3 , 10.  ,  9.  , 11.5 , 11.  ,\n",
              "        8.3 , 10.9 , 10.7 ,  9.5 ,  9.6 , 12.5 ,  9.3 , 12.3 , 10.1 ,\n",
              "       12.  , 10.6 ,  8.5 ,  8.  ,  7.8 , 10.2 ,  9.7 , 11.7 ,  9.2 ,\n",
              "       10.4 ,  9.4 ,  9.9 ,  9.25, 17.5 , 17.6 ,  8.2 , 11.2 , 13.5 ,\n",
              "       12.2 , 11.1 , 16.5 ,  8.8 , 18.  , 18.5 ,  9.13,  8.7 ,  9.1 ,\n",
              "        8.6 , 11.8 , 17.1 , 15.5 , 19.5 ,  9.35, 10.75, 13.  , 11.25,\n",
              "        7.4 , 14.  , 17.  ,  8.9 , 15.  , 21.8 , 17.9 , 21.9 , 15.6 ,\n",
              "        9.65, 22.  , 11.4 , 16.  ,  8.4 , 12.7 , 11.65,  9.75, 18.8 ,\n",
              "       16.8 ,  9.45, 16.7 , 15.4 , 15.7 , 15.3 , 16.4 , 15.1 , 14.4 ])"
            ]
          },
          "execution_count": 74,
          "metadata": {},
          "output_type": "execute_result"
        }
      ],
      "source": [
        "df[\"Compression_Ratio\"].unique()"
      ]
    },
    {
      "cell_type": "code",
      "execution_count": 75,
      "metadata": {
        "gather": {
          "logged": 1703581287024
        }
      },
      "outputs": [
        {
          "data": {
            "text/plain": [
              "Max_Torque(nm)         23\n",
              "Max_Power_Rpm          21\n",
              "Max_Torque_Rpm          9\n",
              "Engine_Capacity(cc)     3\n",
              "Turbo                   1\n",
              "Valves_Per_Cylinder     1\n",
              "Compression_Ratio       0\n",
              "Co2_Emissions(g/km)     0\n",
              "Fuel_System             0\n",
              "Cylinders               0\n",
              "Power(kw)               0\n",
              "Fuel_Type               0\n",
              "dtype: int64"
            ]
          },
          "execution_count": 75,
          "metadata": {},
          "output_type": "execute_result"
        }
      ],
      "source": [
        "df.isnull().sum().sort_values(ascending = False)"
      ]
    },
    {
      "cell_type": "markdown",
      "metadata": {},
      "source": [
        "<p>Max_Power_Rpm</p>"
      ]
    },
    {
      "cell_type": "code",
      "execution_count": 76,
      "metadata": {
        "gather": {
          "logged": 1703581287593
        }
      },
      "outputs": [
        {
          "data": {
            "text/plain": [
              "array([5500., 5750., 6400., 6300., 5600., 6200., 6500., 5000., 6000.,\n",
              "       7300., 4800., 5800., 5400., 5300., 3650., 7800., 7000., 4300.,\n",
              "       8250., 5700., 4500., 3700., 3800., 4000., 6250., 6800., 5250.,\n",
              "       4850., 4750., 7900., 4200., 6700., 4350., 5900., 6100., 6600.,\n",
              "       6650., 5200., 5100., 6950., 6450.,   nan, 5850., 3500., 3250.,\n",
              "       9000., 7600., 7750., 8500., 8000., 8300., 5450., 6350., 4600.,\n",
              "       5550., 7100., 4700., 6150., 3600., 4900., 5875., 5650., 7400.,\n",
              "       7200., 5350., 5470., 3400., 2750., 7250., 4250., 6750., 4100.,\n",
              "       7500., 8600., 4400., 3750., 3900., 8400., 2700., 3850., 3000.])"
            ]
          },
          "execution_count": 76,
          "metadata": {},
          "output_type": "execute_result"
        }
      ],
      "source": [
        "df[\"Max_Power_Rpm\"].unique()"
      ]
    },
    {
      "cell_type": "markdown",
      "metadata": {},
      "source": [
        "<pre>We will use mean to fill the missing values.</pre>"
      ]
    },
    {
      "cell_type": "code",
      "execution_count": 77,
      "metadata": {
        "gather": {
          "logged": 1703581288123
        }
      },
      "outputs": [],
      "source": [
        "mean_value = df['Max_Power_Rpm'].mean()\n",
        "df['Max_Power_Rpm'].fillna(mean_value, inplace=True)"
      ]
    },
    {
      "cell_type": "code",
      "execution_count": 78,
      "metadata": {
        "gather": {
          "logged": 1703581288658
        }
      },
      "outputs": [
        {
          "data": {
            "text/plain": [
              "Max_Torque(nm)         23\n",
              "Max_Torque_Rpm          9\n",
              "Engine_Capacity(cc)     3\n",
              "Turbo                   1\n",
              "Valves_Per_Cylinder     1\n",
              "Compression_Ratio       0\n",
              "Co2_Emissions(g/km)     0\n",
              "Fuel_System             0\n",
              "Max_Power_Rpm           0\n",
              "Cylinders               0\n",
              "Power(kw)               0\n",
              "Fuel_Type               0\n",
              "dtype: int64"
            ]
          },
          "execution_count": 78,
          "metadata": {},
          "output_type": "execute_result"
        }
      ],
      "source": [
        "df.isnull().sum().sort_values(ascending = False)"
      ]
    },
    {
      "cell_type": "markdown",
      "metadata": {},
      "source": [
        "<p>Max_Torque_Rpm</p>"
      ]
    },
    {
      "cell_type": "code",
      "execution_count": 79,
      "metadata": {
        "gather": {
          "logged": 1703581289327
        }
      },
      "outputs": [
        {
          "data": {
            "text/plain": [
              "array([3000., 2250., 3250., 4600., 4200., 4500., 3800., 2800., 2000.,\n",
              "       1750., 3900., 3500., 4400., 5000., 5750., 1500., 1400., 2100.,\n",
              "       2500., 1600., 1550., 5500., 1850., 2900., 4000., 3300., 1950.,\n",
              "       1300., 1800., 3400., 3200., 1700., 3950., 4250., 1100., 4300.,\n",
              "       3750., 1350., 1200., 1250., 2750., 3600., 2200., 5700., 4900.,\n",
              "       4100., 5100., 3050., 4800., 4950., 4550., 4350., 2600., 3700.,\n",
              "       5200., 6000., 5600., 5250., 2300., 5300., 7500., 4700., 2850.,\n",
              "       3100., 1900., 4850., 3450., 2400.,   nan, 4650., 6800., 4750.,\n",
              "       2700., 4150., 2650., 6400., 6500., 1650., 1380., 2150., 1625.,\n",
              "       1370., 1340., 6750., 7300., 1960., 1480., 1450., 7000., 1375.,\n",
              "       1460., 2050., 2950., 1560.])"
            ]
          },
          "execution_count": 79,
          "metadata": {},
          "output_type": "execute_result"
        }
      ],
      "source": [
        "df[\"Max_Torque_Rpm\"].unique()"
      ]
    },
    {
      "cell_type": "markdown",
      "metadata": {},
      "source": [
        "<pre>We will use mean to fill the missing values.</pre>"
      ]
    },
    {
      "cell_type": "code",
      "execution_count": 80,
      "metadata": {
        "gather": {
          "logged": 1703581289867
        }
      },
      "outputs": [],
      "source": [
        "mean_value = df['Max_Torque_Rpm'].mean()\n",
        "df['Max_Torque_Rpm'].fillna(mean_value, inplace=True)"
      ]
    },
    {
      "cell_type": "code",
      "execution_count": 81,
      "metadata": {
        "gather": {
          "logged": 1703581290405
        }
      },
      "outputs": [
        {
          "data": {
            "text/plain": [
              "Max_Torque(nm)         23\n",
              "Engine_Capacity(cc)     3\n",
              "Turbo                   1\n",
              "Valves_Per_Cylinder     1\n",
              "Compression_Ratio       0\n",
              "Co2_Emissions(g/km)     0\n",
              "Fuel_System             0\n",
              "Max_Torque_Rpm          0\n",
              "Max_Power_Rpm           0\n",
              "Cylinders               0\n",
              "Power(kw)               0\n",
              "Fuel_Type               0\n",
              "dtype: int64"
            ]
          },
          "execution_count": 81,
          "metadata": {},
          "output_type": "execute_result"
        }
      ],
      "source": [
        "df.isnull().sum().sort_values(ascending = False)"
      ]
    },
    {
      "cell_type": "markdown",
      "metadata": {},
      "source": [
        "<p>Engine Capacity</p>"
      ]
    },
    {
      "cell_type": "code",
      "execution_count": 82,
      "metadata": {
        "gather": {
          "logged": 1703581291023
        }
      },
      "outputs": [
        {
          "data": {
            "text/plain": [
              "0       1368.0\n",
              "1       1368.0\n",
              "2       1368.0\n",
              "3       1368.0\n",
              "4       1970.0\n",
              "         ...  \n",
              "4628    1395.0\n",
              "4629    1395.0\n",
              "4632    1333.0\n",
              "4633    1333.0\n",
              "4635     999.0\n",
              "Name: Engine_Capacity(cc), Length: 3093, dtype: float64"
            ]
          },
          "execution_count": 82,
          "metadata": {},
          "output_type": "execute_result"
        }
      ],
      "source": [
        "df[\"Engine_Capacity(cc)\"]"
      ]
    },
    {
      "cell_type": "markdown",
      "metadata": {},
      "source": [
        "<pre>We will use mean to fill the missing values.</pre>"
      ]
    },
    {
      "cell_type": "code",
      "execution_count": 83,
      "metadata": {
        "gather": {
          "logged": 1703581291733
        }
      },
      "outputs": [],
      "source": [
        "mean_value = df['Engine_Capacity(cc)'].mean()\n",
        "df['Engine_Capacity(cc)'].fillna(mean_value, inplace=True)"
      ]
    },
    {
      "cell_type": "code",
      "execution_count": 84,
      "metadata": {
        "gather": {
          "logged": 1703581292294
        }
      },
      "outputs": [
        {
          "data": {
            "text/plain": [
              "Max_Torque(nm)         23\n",
              "Turbo                   1\n",
              "Valves_Per_Cylinder     1\n",
              "Compression_Ratio       0\n",
              "Co2_Emissions(g/km)     0\n",
              "Fuel_System             0\n",
              "Max_Torque_Rpm          0\n",
              "Max_Power_Rpm           0\n",
              "Engine_Capacity(cc)     0\n",
              "Cylinders               0\n",
              "Power(kw)               0\n",
              "Fuel_Type               0\n",
              "dtype: int64"
            ]
          },
          "execution_count": 84,
          "metadata": {},
          "output_type": "execute_result"
        }
      ],
      "source": [
        "df.isnull().sum().sort_values(ascending = False)"
      ]
    },
    {
      "cell_type": "markdown",
      "metadata": {},
      "source": [
        "<p>Valves_Per_Cylinder</p>"
      ]
    },
    {
      "cell_type": "code",
      "execution_count": 85,
      "metadata": {
        "gather": {
          "logged": 1703581292885
        }
      },
      "outputs": [
        {
          "data": {
            "text/plain": [
              "0       4.0\n",
              "1       4.0\n",
              "2       4.0\n",
              "3       4.0\n",
              "4       4.0\n",
              "       ... \n",
              "4628    4.0\n",
              "4629    4.0\n",
              "4632    4.0\n",
              "4633    4.0\n",
              "4635    4.0\n",
              "Name: Valves_Per_Cylinder, Length: 3093, dtype: float64"
            ]
          },
          "execution_count": 85,
          "metadata": {},
          "output_type": "execute_result"
        }
      ],
      "source": [
        "df['Valves_Per_Cylinder']"
      ]
    },
    {
      "cell_type": "code",
      "execution_count": 86,
      "metadata": {
        "gather": {
          "logged": 1703581293450
        }
      },
      "outputs": [
        {
          "data": {
            "text/plain": [
              "array([ 4.,  2.,  5.,  3., nan])"
            ]
          },
          "execution_count": 86,
          "metadata": {},
          "output_type": "execute_result"
        }
      ],
      "source": [
        "df[\"Valves_Per_Cylinder\"].unique()"
      ]
    },
    {
      "cell_type": "markdown",
      "metadata": {},
      "source": [
        "<pre>We will use mean to fill the missing values.</pre>"
      ]
    },
    {
      "cell_type": "code",
      "execution_count": 87,
      "metadata": {
        "gather": {
          "logged": 1703581294094
        }
      },
      "outputs": [],
      "source": [
        "mean_value = df['Valves_Per_Cylinder'].mean()\n",
        "df['Valves_Per_Cylinder'].fillna(mean_value, inplace=True)"
      ]
    },
    {
      "cell_type": "code",
      "execution_count": 88,
      "metadata": {
        "gather": {
          "logged": 1703581294651
        }
      },
      "outputs": [
        {
          "data": {
            "text/plain": [
              "Max_Torque(nm)         23\n",
              "Turbo                   1\n",
              "Compression_Ratio       0\n",
              "Co2_Emissions(g/km)     0\n",
              "Fuel_System             0\n",
              "Max_Torque_Rpm          0\n",
              "Max_Power_Rpm           0\n",
              "Engine_Capacity(cc)     0\n",
              "Valves_Per_Cylinder     0\n",
              "Cylinders               0\n",
              "Power(kw)               0\n",
              "Fuel_Type               0\n",
              "dtype: int64"
            ]
          },
          "execution_count": 88,
          "metadata": {},
          "output_type": "execute_result"
        }
      ],
      "source": [
        "df.isnull().sum().sort_values(ascending = False)"
      ]
    },
    {
      "cell_type": "markdown",
      "metadata": {},
      "source": [
        "<p>Max_Torque(nm)</p>"
      ]
    },
    {
      "cell_type": "code",
      "execution_count": 89,
      "metadata": {
        "gather": {
          "logged": 1703581295217
        }
      },
      "outputs": [
        {
          "data": {
            "text/plain": [
              "0       206.0\n",
              "1       206.0\n",
              "2       201.0\n",
              "3       250.0\n",
              "4       206.0\n",
              "        ...  \n",
              "4628    400.0\n",
              "4629    400.0\n",
              "4632    260.0\n",
              "4633    260.0\n",
              "4635    200.0\n",
              "Name: Max_Torque(nm), Length: 3093, dtype: float64"
            ]
          },
          "execution_count": 89,
          "metadata": {},
          "output_type": "execute_result"
        }
      ],
      "source": [
        "df[\"Max_Torque(nm)\"]"
      ]
    },
    {
      "cell_type": "markdown",
      "metadata": {},
      "source": [
        "<pre>We will use mean to fill the missing values.</pre>"
      ]
    },
    {
      "cell_type": "code",
      "execution_count": 90,
      "metadata": {
        "gather": {
          "logged": 1703581295795
        }
      },
      "outputs": [],
      "source": [
        "mean_value = df[\"Max_Torque(nm)\"].mean()\n",
        "df[\"Max_Torque(nm)\"].fillna(mean_value, inplace=True)"
      ]
    },
    {
      "cell_type": "code",
      "execution_count": 91,
      "metadata": {
        "gather": {
          "logged": 1703581296460
        }
      },
      "outputs": [
        {
          "data": {
            "text/plain": [
              "Turbo                  1\n",
              "Compression_Ratio      0\n",
              "Co2_Emissions(g/km)    0\n",
              "Fuel_System            0\n",
              "Max_Torque_Rpm         0\n",
              "Max_Power_Rpm          0\n",
              "Engine_Capacity(cc)    0\n",
              "Valves_Per_Cylinder    0\n",
              "Cylinders              0\n",
              "Max_Torque(nm)         0\n",
              "Power(kw)              0\n",
              "Fuel_Type              0\n",
              "dtype: int64"
            ]
          },
          "execution_count": 91,
          "metadata": {},
          "output_type": "execute_result"
        }
      ],
      "source": [
        "df.isnull().sum().sort_values(ascending = False)"
      ]
    },
    {
      "cell_type": "markdown",
      "metadata": {},
      "source": [
        "<p>Turbo</p>"
      ]
    },
    {
      "cell_type": "markdown",
      "metadata": {},
      "source": [
        "<pre>We'll drop the row since only one row is missing</pre>"
      ]
    },
    {
      "cell_type": "code",
      "execution_count": 92,
      "metadata": {
        "gather": {
          "logged": 1703581297013
        }
      },
      "outputs": [],
      "source": [
        "df.dropna(subset = [\"Turbo\"], inplace = True)"
      ]
    },
    {
      "cell_type": "code",
      "execution_count": 93,
      "metadata": {
        "gather": {
          "logged": 1703581297596
        }
      },
      "outputs": [
        {
          "data": {
            "text/plain": [
              "Compression_Ratio      0\n",
              "Co2_Emissions(g/km)    0\n",
              "Turbo                  0\n",
              "Fuel_System            0\n",
              "Max_Torque_Rpm         0\n",
              "Max_Power_Rpm          0\n",
              "Engine_Capacity(cc)    0\n",
              "Valves_Per_Cylinder    0\n",
              "Cylinders              0\n",
              "Max_Torque(nm)         0\n",
              "Power(kw)              0\n",
              "Fuel_Type              0\n",
              "dtype: int64"
            ]
          },
          "execution_count": 93,
          "metadata": {},
          "output_type": "execute_result"
        }
      ],
      "source": [
        "df.isnull().sum().sort_values(ascending = False)"
      ]
    },
    {
      "cell_type": "markdown",
      "metadata": {},
      "source": [
        "<h5>6. Dropping Duplicate Rows</h5>"
      ]
    },
    {
      "cell_type": "code",
      "execution_count": 94,
      "metadata": {
        "gather": {
          "logged": 1703581298173
        }
      },
      "outputs": [
        {
          "data": {
            "text/plain": [
              "0       False\n",
              "1        True\n",
              "2       False\n",
              "3       False\n",
              "4       False\n",
              "        ...  \n",
              "4628    False\n",
              "4629    False\n",
              "4632    False\n",
              "4633    False\n",
              "4635    False\n",
              "Length: 3092, dtype: bool"
            ]
          },
          "execution_count": 94,
          "metadata": {},
          "output_type": "execute_result"
        }
      ],
      "source": [
        "df.duplicated()"
      ]
    },
    {
      "cell_type": "code",
      "execution_count": 95,
      "metadata": {
        "gather": {
          "logged": 1703581298860
        }
      },
      "outputs": [
        {
          "data": {
            "text/plain": [
              "array([False,  True])"
            ]
          },
          "execution_count": 95,
          "metadata": {},
          "output_type": "execute_result"
        }
      ],
      "source": [
        "df.duplicated().unique()"
      ]
    },
    {
      "cell_type": "code",
      "execution_count": 96,
      "metadata": {
        "gather": {
          "logged": 1703581299424
        }
      },
      "outputs": [],
      "source": [
        "df = df.drop_duplicates()"
      ]
    },
    {
      "cell_type": "code",
      "execution_count": 97,
      "metadata": {
        "gather": {
          "logged": 1703581299976
        }
      },
      "outputs": [
        {
          "data": {
            "text/plain": [
              "0       False\n",
              "2       False\n",
              "3       False\n",
              "4       False\n",
              "5       False\n",
              "        ...  \n",
              "4628    False\n",
              "4629    False\n",
              "4632    False\n",
              "4633    False\n",
              "4635    False\n",
              "Length: 2378, dtype: bool"
            ]
          },
          "execution_count": 97,
          "metadata": {},
          "output_type": "execute_result"
        }
      ],
      "source": [
        "df.duplicated()"
      ]
    },
    {
      "cell_type": "code",
      "execution_count": 98,
      "metadata": {
        "gather": {
          "logged": 1703581300553
        }
      },
      "outputs": [
        {
          "data": {
            "text/plain": [
              "array([False])"
            ]
          },
          "execution_count": 98,
          "metadata": {},
          "output_type": "execute_result"
        }
      ],
      "source": [
        "df.duplicated().unique()"
      ]
    },
    {
      "cell_type": "markdown",
      "metadata": {},
      "source": [
        "<h5>7. Describing the Dataset</h5>"
      ]
    },
    {
      "cell_type": "code",
      "execution_count": 99,
      "metadata": {
        "gather": {
          "logged": 1703581301222
        }
      },
      "outputs": [
        {
          "data": {
            "text/html": [
              "<div>\n",
              "<style scoped>\n",
              "    .dataframe tbody tr th:only-of-type {\n",
              "        vertical-align: middle;\n",
              "    }\n",
              "\n",
              "    .dataframe tbody tr th {\n",
              "        vertical-align: top;\n",
              "    }\n",
              "\n",
              "    .dataframe thead th {\n",
              "        text-align: right;\n",
              "    }\n",
              "</style>\n",
              "<table border=\"1\" class=\"dataframe\">\n",
              "  <thead>\n",
              "    <tr style=\"text-align: right;\">\n",
              "      <th></th>\n",
              "      <th>Fuel_Type</th>\n",
              "      <th>Power(kw)</th>\n",
              "      <th>Max_Torque(nm)</th>\n",
              "      <th>Cylinders</th>\n",
              "      <th>Valves_Per_Cylinder</th>\n",
              "      <th>Engine_Capacity(cc)</th>\n",
              "      <th>Max_Power_Rpm</th>\n",
              "      <th>Max_Torque_Rpm</th>\n",
              "      <th>Fuel_System</th>\n",
              "      <th>Turbo</th>\n",
              "      <th>Co2_Emissions(g/km)</th>\n",
              "      <th>Compression_Ratio</th>\n",
              "    </tr>\n",
              "  </thead>\n",
              "  <tbody>\n",
              "    <tr>\n",
              "      <th>0</th>\n",
              "      <td>gasoline</td>\n",
              "      <td>99.0</td>\n",
              "      <td>206.0</td>\n",
              "      <td>4, in line</td>\n",
              "      <td>4.0</td>\n",
              "      <td>1368.0</td>\n",
              "      <td>5500.0</td>\n",
              "      <td>3000.0</td>\n",
              "      <td>multipoint injection</td>\n",
              "      <td>yes, with intercooler</td>\n",
              "      <td>155.0</td>\n",
              "      <td>10.8</td>\n",
              "    </tr>\n",
              "    <tr>\n",
              "      <th>2</th>\n",
              "      <td>gasoline</td>\n",
              "      <td>114.0</td>\n",
              "      <td>201.0</td>\n",
              "      <td>4, in line</td>\n",
              "      <td>4.0</td>\n",
              "      <td>1368.0</td>\n",
              "      <td>5750.0</td>\n",
              "      <td>3000.0</td>\n",
              "      <td>multipoint injection</td>\n",
              "      <td>yes, with intercooler</td>\n",
              "      <td>162.0</td>\n",
              "      <td>9.8</td>\n",
              "    </tr>\n",
              "    <tr>\n",
              "      <th>3</th>\n",
              "      <td>gasoline</td>\n",
              "      <td>121.0</td>\n",
              "      <td>250.0</td>\n",
              "      <td>4, in line</td>\n",
              "      <td>4.0</td>\n",
              "      <td>1368.0</td>\n",
              "      <td>5500.0</td>\n",
              "      <td>2250.0</td>\n",
              "      <td>multipoint injection</td>\n",
              "      <td>yes, with intercooler</td>\n",
              "      <td>142.0</td>\n",
              "      <td>9.8</td>\n",
              "    </tr>\n",
              "  </tbody>\n",
              "</table>\n",
              "</div>"
            ],
            "text/plain": [
              "  Fuel_Type  Power(kw)  Max_Torque(nm)   Cylinders  Valves_Per_Cylinder  \\\n",
              "0  gasoline       99.0           206.0  4, in line                  4.0   \n",
              "2  gasoline      114.0           201.0  4, in line                  4.0   \n",
              "3  gasoline      121.0           250.0  4, in line                  4.0   \n",
              "\n",
              "   Engine_Capacity(cc)  Max_Power_Rpm  Max_Torque_Rpm           Fuel_System  \\\n",
              "0               1368.0         5500.0          3000.0  multipoint injection   \n",
              "2               1368.0         5750.0          3000.0  multipoint injection   \n",
              "3               1368.0         5500.0          2250.0  multipoint injection   \n",
              "\n",
              "                   Turbo  Co2_Emissions(g/km)  Compression_Ratio  \n",
              "0  yes, with intercooler                155.0               10.8  \n",
              "2  yes, with intercooler                162.0                9.8  \n",
              "3  yes, with intercooler                142.0                9.8  "
            ]
          },
          "execution_count": 99,
          "metadata": {},
          "output_type": "execute_result"
        }
      ],
      "source": [
        "df.head(3)"
      ]
    },
    {
      "cell_type": "code",
      "execution_count": 100,
      "metadata": {
        "gather": {
          "logged": 1703581301871
        }
      },
      "outputs": [
        {
          "data": {
            "text/html": [
              "<div>\n",
              "<style scoped>\n",
              "    .dataframe tbody tr th:only-of-type {\n",
              "        vertical-align: middle;\n",
              "    }\n",
              "\n",
              "    .dataframe tbody tr th {\n",
              "        vertical-align: top;\n",
              "    }\n",
              "\n",
              "    .dataframe thead th {\n",
              "        text-align: right;\n",
              "    }\n",
              "</style>\n",
              "<table border=\"1\" class=\"dataframe\">\n",
              "  <thead>\n",
              "    <tr style=\"text-align: right;\">\n",
              "      <th></th>\n",
              "      <th>Fuel_Type</th>\n",
              "      <th>Power(kw)</th>\n",
              "      <th>Max_Torque(nm)</th>\n",
              "      <th>Cylinders</th>\n",
              "      <th>Valves_Per_Cylinder</th>\n",
              "      <th>Engine_Capacity(cc)</th>\n",
              "      <th>Max_Power_Rpm</th>\n",
              "      <th>Max_Torque_Rpm</th>\n",
              "      <th>Fuel_System</th>\n",
              "      <th>Turbo</th>\n",
              "      <th>Co2_Emissions(g/km)</th>\n",
              "      <th>Compression_Ratio</th>\n",
              "    </tr>\n",
              "  </thead>\n",
              "  <tbody>\n",
              "    <tr>\n",
              "      <th>4633</th>\n",
              "      <td>gasoline</td>\n",
              "      <td>103.0</td>\n",
              "      <td>260.0</td>\n",
              "      <td>4, in line</td>\n",
              "      <td>4.0</td>\n",
              "      <td>1333.0</td>\n",
              "      <td>4500.000000</td>\n",
              "      <td>1750.0</td>\n",
              "      <td>direct injection</td>\n",
              "      <td>yes, with intercooler</td>\n",
              "      <td>138.0</td>\n",
              "      <td>9.0</td>\n",
              "    </tr>\n",
              "    <tr>\n",
              "      <th>4635</th>\n",
              "      <td>gasoline</td>\n",
              "      <td>81.0</td>\n",
              "      <td>200.0</td>\n",
              "      <td>3, in line</td>\n",
              "      <td>4.0</td>\n",
              "      <td>999.0</td>\n",
              "      <td>5539.410807</td>\n",
              "      <td>2000.0</td>\n",
              "      <td>direct injection</td>\n",
              "      <td>yes, with intercooler</td>\n",
              "      <td>126.0</td>\n",
              "      <td>9.0</td>\n",
              "    </tr>\n",
              "  </tbody>\n",
              "</table>\n",
              "</div>"
            ],
            "text/plain": [
              "     Fuel_Type  Power(kw)  Max_Torque(nm)   Cylinders  Valves_Per_Cylinder  \\\n",
              "4633  gasoline      103.0           260.0  4, in line                  4.0   \n",
              "4635  gasoline       81.0           200.0  3, in line                  4.0   \n",
              "\n",
              "      Engine_Capacity(cc)  Max_Power_Rpm  Max_Torque_Rpm       Fuel_System  \\\n",
              "4633               1333.0    4500.000000          1750.0  direct injection   \n",
              "4635                999.0    5539.410807          2000.0  direct injection   \n",
              "\n",
              "                      Turbo  Co2_Emissions(g/km)  Compression_Ratio  \n",
              "4633  yes, with intercooler                138.0                9.0  \n",
              "4635  yes, with intercooler                126.0                9.0  "
            ]
          },
          "execution_count": 100,
          "metadata": {},
          "output_type": "execute_result"
        }
      ],
      "source": [
        "df.tail(2)"
      ]
    },
    {
      "cell_type": "code",
      "execution_count": 101,
      "metadata": {
        "gather": {
          "logged": 1703581302510
        }
      },
      "outputs": [
        {
          "data": {
            "text/plain": [
              "(2378, 12)"
            ]
          },
          "execution_count": 101,
          "metadata": {},
          "output_type": "execute_result"
        }
      ],
      "source": [
        "df.shape"
      ]
    },
    {
      "cell_type": "code",
      "execution_count": 102,
      "metadata": {
        "gather": {
          "logged": 1703581303071
        }
      },
      "outputs": [
        {
          "name": "stdout",
          "output_type": "stream",
          "text": [
            "There are totally 2378 instances or rows and 12 features or columns.\n"
          ]
        }
      ],
      "source": [
        "print(f\"There are totally {df.shape[0]} instances or rows and {df.shape[1]} features or columns.\")"
      ]
    },
    {
      "cell_type": "code",
      "execution_count": 103,
      "metadata": {
        "gather": {
          "logged": 1703581303578
        }
      },
      "outputs": [
        {
          "name": "stdout",
          "output_type": "stream",
          "text": [
            "The features present in this dataset are:\n",
            "Fuel_Type\n",
            "Power(kw)\n",
            "Max_Torque(nm)\n",
            "Cylinders\n",
            "Valves_Per_Cylinder\n",
            "Engine_Capacity(cc)\n",
            "Max_Power_Rpm\n",
            "Max_Torque_Rpm\n",
            "Fuel_System\n",
            "Turbo\n",
            "Co2_Emissions(g/km)\n",
            "Compression_Ratio\n"
          ]
        }
      ],
      "source": [
        "print(\"The features present in this dataset are:\")\n",
        "for column in df.columns:\n",
        "    print(column)"
      ]
    },
    {
      "cell_type": "code",
      "execution_count": 104,
      "metadata": {
        "gather": {
          "logged": 1703581304084
        }
      },
      "outputs": [
        {
          "name": "stdout",
          "output_type": "stream",
          "text": [
            "The information about the dataset:\n",
            "<class 'pandas.core.frame.DataFrame'>\n",
            "Int64Index: 2378 entries, 0 to 4635\n",
            "Data columns (total 12 columns):\n",
            " #   Column               Non-Null Count  Dtype  \n",
            "---  ------               --------------  -----  \n",
            " 0   Fuel_Type            2378 non-null   object \n",
            " 1   Power(kw)            2378 non-null   float64\n",
            " 2   Max_Torque(nm)       2378 non-null   float64\n",
            " 3   Cylinders            2378 non-null   object \n",
            " 4   Valves_Per_Cylinder  2378 non-null   float64\n",
            " 5   Engine_Capacity(cc)  2378 non-null   float64\n",
            " 6   Max_Power_Rpm        2378 non-null   float64\n",
            " 7   Max_Torque_Rpm       2378 non-null   float64\n",
            " 8   Fuel_System          2378 non-null   object \n",
            " 9   Turbo                2378 non-null   object \n",
            " 10  Co2_Emissions(g/km)  2378 non-null   float64\n",
            " 11  Compression_Ratio    2378 non-null   float64\n",
            "dtypes: float64(8), object(4)\n",
            "memory usage: 241.5+ KB\n"
          ]
        }
      ],
      "source": [
        "print(\"The information about the dataset:\")\n",
        "df.info()"
      ]
    },
    {
      "cell_type": "code",
      "execution_count": 105,
      "metadata": {
        "gather": {
          "logged": 1703581320275
        }
      },
      "outputs": [
        {
          "name": "stdout",
          "output_type": "stream",
          "text": [
            "Summary Statistics:\n"
          ]
        },
        {
          "data": {
            "text/html": [
              "<div>\n",
              "<style scoped>\n",
              "    .dataframe tbody tr th:only-of-type {\n",
              "        vertical-align: middle;\n",
              "    }\n",
              "\n",
              "    .dataframe tbody tr th {\n",
              "        vertical-align: top;\n",
              "    }\n",
              "\n",
              "    .dataframe thead th {\n",
              "        text-align: right;\n",
              "    }\n",
              "</style>\n",
              "<table border=\"1\" class=\"dataframe\">\n",
              "  <thead>\n",
              "    <tr style=\"text-align: right;\">\n",
              "      <th></th>\n",
              "      <th>Power(kw)</th>\n",
              "      <th>Max_Torque(nm)</th>\n",
              "      <th>Valves_Per_Cylinder</th>\n",
              "      <th>Engine_Capacity(cc)</th>\n",
              "      <th>Max_Power_Rpm</th>\n",
              "      <th>Max_Torque_Rpm</th>\n",
              "      <th>Co2_Emissions(g/km)</th>\n",
              "      <th>Compression_Ratio</th>\n",
              "    </tr>\n",
              "  </thead>\n",
              "  <tbody>\n",
              "    <tr>\n",
              "      <th>count</th>\n",
              "      <td>2378.000000</td>\n",
              "      <td>2378.000000</td>\n",
              "      <td>2378.000000</td>\n",
              "      <td>2378.000000</td>\n",
              "      <td>2378.000000</td>\n",
              "      <td>2378.000000</td>\n",
              "      <td>2378.000000</td>\n",
              "      <td>2378.000000</td>\n",
              "    </tr>\n",
              "    <tr>\n",
              "      <th>mean</th>\n",
              "      <td>128.325904</td>\n",
              "      <td>252.203068</td>\n",
              "      <td>3.761458</td>\n",
              "      <td>2095.355430</td>\n",
              "      <td>5527.263758</td>\n",
              "      <td>3054.938619</td>\n",
              "      <td>186.159798</td>\n",
              "      <td>10.835021</td>\n",
              "    </tr>\n",
              "    <tr>\n",
              "      <th>std</th>\n",
              "      <td>90.433254</td>\n",
              "      <td>153.452807</td>\n",
              "      <td>0.667079</td>\n",
              "      <td>1102.526982</td>\n",
              "      <td>866.302253</td>\n",
              "      <td>1235.747787</td>\n",
              "      <td>68.547700</td>\n",
              "      <td>2.000496</td>\n",
              "    </tr>\n",
              "    <tr>\n",
              "      <th>min</th>\n",
              "      <td>29.000000</td>\n",
              "      <td>53.000000</td>\n",
              "      <td>2.000000</td>\n",
              "      <td>599.000000</td>\n",
              "      <td>2700.000000</td>\n",
              "      <td>1100.000000</td>\n",
              "      <td>19.000000</td>\n",
              "      <td>7.400000</td>\n",
              "    </tr>\n",
              "    <tr>\n",
              "      <th>25%</th>\n",
              "      <td>74.000000</td>\n",
              "      <td>148.000000</td>\n",
              "      <td>4.000000</td>\n",
              "      <td>1390.000000</td>\n",
              "      <td>5000.000000</td>\n",
              "      <td>1750.000000</td>\n",
              "      <td>141.000000</td>\n",
              "      <td>9.800000</td>\n",
              "    </tr>\n",
              "    <tr>\n",
              "      <th>50%</th>\n",
              "      <td>97.000000</td>\n",
              "      <td>200.000000</td>\n",
              "      <td>4.000000</td>\n",
              "      <td>1796.000000</td>\n",
              "      <td>5600.000000</td>\n",
              "      <td>3138.226329</td>\n",
              "      <td>172.000000</td>\n",
              "      <td>10.500000</td>\n",
              "    </tr>\n",
              "    <tr>\n",
              "      <th>75%</th>\n",
              "      <td>147.000000</td>\n",
              "      <td>319.750000</td>\n",
              "      <td>4.000000</td>\n",
              "      <td>2359.000000</td>\n",
              "      <td>6000.000000</td>\n",
              "      <td>4000.000000</td>\n",
              "      <td>215.000000</td>\n",
              "      <td>11.000000</td>\n",
              "    </tr>\n",
              "    <tr>\n",
              "      <th>max</th>\n",
              "      <td>736.000000</td>\n",
              "      <td>1300.000000</td>\n",
              "      <td>5.000000</td>\n",
              "      <td>8277.000000</td>\n",
              "      <td>9000.000000</td>\n",
              "      <td>7500.000000</td>\n",
              "      <td>595.000000</td>\n",
              "      <td>22.000000</td>\n",
              "    </tr>\n",
              "  </tbody>\n",
              "</table>\n",
              "</div>"
            ],
            "text/plain": [
              "         Power(kw)  Max_Torque(nm)  Valves_Per_Cylinder  Engine_Capacity(cc)  \\\n",
              "count  2378.000000     2378.000000          2378.000000          2378.000000   \n",
              "mean    128.325904      252.203068             3.761458          2095.355430   \n",
              "std      90.433254      153.452807             0.667079          1102.526982   \n",
              "min      29.000000       53.000000             2.000000           599.000000   \n",
              "25%      74.000000      148.000000             4.000000          1390.000000   \n",
              "50%      97.000000      200.000000             4.000000          1796.000000   \n",
              "75%     147.000000      319.750000             4.000000          2359.000000   \n",
              "max     736.000000     1300.000000             5.000000          8277.000000   \n",
              "\n",
              "       Max_Power_Rpm  Max_Torque_Rpm  Co2_Emissions(g/km)  Compression_Ratio  \n",
              "count    2378.000000     2378.000000          2378.000000        2378.000000  \n",
              "mean     5527.263758     3054.938619           186.159798          10.835021  \n",
              "std       866.302253     1235.747787            68.547700           2.000496  \n",
              "min      2700.000000     1100.000000            19.000000           7.400000  \n",
              "25%      5000.000000     1750.000000           141.000000           9.800000  \n",
              "50%      5600.000000     3138.226329           172.000000          10.500000  \n",
              "75%      6000.000000     4000.000000           215.000000          11.000000  \n",
              "max      9000.000000     7500.000000           595.000000          22.000000  "
            ]
          },
          "execution_count": 105,
          "metadata": {},
          "output_type": "execute_result"
        }
      ],
      "source": [
        "print(\"Summary Statistics:\")\n",
        "df.describe()"
      ]
    },
    {
      "cell_type": "markdown",
      "metadata": {
        "nteract": {
          "transient": {
            "deleting": false
          }
        }
      },
      "source": [
        "#### Save Data"
      ]
    },
    {
      "cell_type": "code",
      "execution_count": 107,
      "metadata": {
        "gather": {
          "logged": 1703579800047
        }
      },
      "outputs": [],
      "source": [
        "df.to_csv(\"../Data/Cleaned_Data.csv\")"
      ]
    },
    {
      "cell_type": "markdown",
      "metadata": {
        "nteract": {
          "transient": {
            "deleting": false
          }
        }
      },
      "source": [
        "#### Upload data to cloud storage"
      ]
    },
    {
      "cell_type": "code",
      "execution_count": 106,
      "metadata": {
        "gather": {
          "logged": 1703581416201
        },
        "jupyter": {
          "outputs_hidden": false,
          "source_hidden": false
        },
        "nteract": {
          "transient": {
            "deleting": false
          }
        }
      },
      "outputs": [
        {
          "name": "stderr",
          "output_type": "stream",
          "text": [
            "\r\u001b[32mUploading Cleaned_Data.csv\u001b[32m (< 1 MB): 0.00B [00:00, ?B/s]\r\u001b[32mUploading Cleaned_Data.csv\u001b[32m (< 1 MB): 100%|██████████| 248k/248k [00:00<00:00, 14.6MB/s]\n",
            "\u001b[39m\n",
            "\n"
          ]
        },
        {
          "name": "stdout",
          "output_type": "stream",
          "text": [
            "Data asset created. Name: Car-Data, version: Cleaned_Data\n"
          ]
        }
      ],
      "source": [
        "# update the 'my_path' variable to match the location of where you downloaded the data on your\n",
        "# local filesystem\n",
        "\n",
        "my_path = \"../Data/Cleaned_Data.csv\"\n",
        "# set the version number of the data asset\n",
        "version = \"Cleaned_Data\"\n",
        "\n",
        "my_data = Data(\n",
        "    name=\"Car-Data\",\n",
        "    version=version,\n",
        "    description=\"Co2 Emissions Prediction - Car Data\",\n",
        "    path=my_path,\n",
        "    type=AssetTypes.URI_FILE,\n",
        ")\n",
        "\n",
        "## create data asset if it doesn't already exist:\n",
        "ml_client.data.create_or_update(my_data)\n",
        "print(f\"Data asset created. Name: {my_data.name}, version: {my_data.version}\")"
      ]
    }
  ],
  "metadata": {
    "kernel_info": {
      "name": "workstation_env"
    },
    "kernelspec": {
      "display_name": "C02_Emission_Prediction-env",
      "language": "python",
      "name": "workstation_env"
    },
    "language_info": {
      "codemirror_mode": {
        "name": "ipython",
        "version": 3
      },
      "file_extension": ".py",
      "mimetype": "text/x-python",
      "name": "python",
      "nbconvert_exporter": "python",
      "pygments_lexer": "ipython3",
      "version": "3.8.18"
    },
    "microsoft": {
      "host": {
        "AzureML": {
          "notebookHasBeenCompleted": true
        }
      },
      "ms_spell_check": {
        "ms_spell_check_language": "en"
      }
    },
    "nteract": {
      "version": "nteract-front-end@1.0.0"
    }
  },
  "nbformat": 4,
  "nbformat_minor": 2
}
