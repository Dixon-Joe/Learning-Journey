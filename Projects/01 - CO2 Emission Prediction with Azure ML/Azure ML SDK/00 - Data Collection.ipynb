{
  "cells": [
    {
      "cell_type": "markdown",
      "metadata": {},
      "source": [
        "<center><h1>Co2 Emission Prediction</h1></center>"
      ]
    },
    {
      "cell_type": "markdown",
      "metadata": {},
      "source": [
        "<center>\n",
        "<img src = \"https://us.123rf.com/450wm/dariabulgakova/dariabulgakova2309/dariabulgakova230900382/214134199-highway-surrounded-by-heavy-car-traffic-with-exhaust-fumes-around-the-issue-of-mass-usage-of.jpg?ver=6\">\n",
        "</center>"
      ]
    },
    {
      "cell_type": "markdown",
      "metadata": {},
      "source": [
        "<h2>Data Collection</h2>"
      ]
    },
    {
      "cell_type": "markdown",
      "metadata": {},
      "source": [
        "<h5>I want to express my sincere thanks for granting permission to scrape data from the website, \n",
        "<a  href = \"https://www.cars-data.com/#\"> Cars-Data</a>.<br>Your generosity in providing access to this valuable information is instrumental for the project's success.</h5>"
      ]
    },
    {
      "cell_type": "markdown",
      "metadata": {},
      "source": [
        "<h4>Web Scraping</h4>"
      ]
    },
    {
      "cell_type": "markdown",
      "metadata": {},
      "source": [
        "<h5>Utilizing Selenium, we're automating data collection from Cars-Data, streamlining the process for comprehensive and real-time automotive information retrieval.</h5>\n",
        "<h5>\n",
        "Leveraging openpyxl, the data was saved efficiently into Excel files, ensuring a structured and organized format for further analysis and seamless data management. </h5>"
      ]
    },
    {
      "cell_type": "markdown",
      "metadata": {
        "nteract": {
          "transient": {
            "deleting": false
          }
        }
      },
      "source": [
        "#### Create handle to workspace"
      ]
    },
    {
      "cell_type": "code",
      "execution_count": 1,
      "metadata": {
        "gather": {
          "logged": 1703575723923
        },
        "jupyter": {
          "outputs_hidden": false,
          "source_hidden": false
        },
        "nteract": {
          "transient": {
            "deleting": false
          }
        }
      },
      "outputs": [],
      "source": [
        "from azure.ai.ml import MLClient\n",
        "from azure.identity import DefaultAzureCredential\n",
        "from azure.ai.ml.entities import Data\n",
        "from azure.ai.ml.constants import AssetTypes\n",
        "\n",
        "# authenticate\n",
        "credential = DefaultAzureCredential()\n",
        "\n",
        "# Get a handle to the workspace\n",
        "ml_client = MLClient(\n",
        "    credential=credential,\n",
        "    subscription_id=\"###\",\n",
        "    resource_group_name=\"###\",\n",
        "    workspace_name=\"###\",\n",
        ")"
      ]
    },
    {
      "cell_type": "markdown",
      "metadata": {
        "nteract": {
          "transient": {
            "deleting": false
          }
        }
      },
      "source": [
        "#### Upload Scraped data to cloud storage"
      ]
    },
    {
      "cell_type": "code",
      "execution_count": 3,
      "metadata": {
        "gather": {
          "logged": 1703575771515
        },
        "jupyter": {
          "outputs_hidden": false,
          "source_hidden": false
        },
        "nteract": {
          "transient": {
            "deleting": false
          }
        }
      },
      "outputs": [
        {
          "name": "stdout",
          "output_type": "stream",
          "text": [
            "Data asset created. Name: Car-Data, version: Scraped_Car_Data_csv\n"
          ]
        }
      ],
      "source": [
        "# update the 'my_path' variable to match the location of where you downloaded the data on your\n",
        "# local filesystem\n",
        "\n",
        "my_path = \"../Data/Scraped_Car_Data.csv\"\n",
        "# set the version number of the data asset\n",
        "version = \"Scraped_Car_Data_csv\"\n",
        "\n",
        "my_data = Data(\n",
        "    name=\"Car-Data\",\n",
        "    version=version,\n",
        "    description=\"Co2 Emissions Prediction - Car Data\",\n",
        "    path=my_path,\n",
        "    type=AssetTypes.URI_FILE,\n",
        ")\n",
        "\n",
        "## create data asset if it doesn't already exist:\n",
        "ml_client.data.create_or_update(my_data)\n",
        "print(f\"Data asset created. Name: {my_data.name}, version: {my_data.version}\")"
      ]
    }
  ],
  "metadata": {
    "kernel_info": {
      "name": "workstation_env"
    },
    "kernelspec": {
      "display_name": "C02_Emission_Prediction-env",
      "language": "python",
      "name": "workstation_env"
    },
    "language_info": {
      "codemirror_mode": {
        "name": "ipython",
        "version": 3
      },
      "file_extension": ".py",
      "mimetype": "text/x-python",
      "name": "python",
      "nbconvert_exporter": "python",
      "pygments_lexer": "ipython3",
      "version": "3.8.18"
    },
    "microsoft": {
      "host": {
        "AzureML": {
          "notebookHasBeenCompleted": true
        }
      },
      "ms_spell_check": {
        "ms_spell_check_language": "en"
      }
    },
    "nteract": {
      "version": "nteract-front-end@1.0.0"
    }
  },
  "nbformat": 4,
  "nbformat_minor": 2
}
