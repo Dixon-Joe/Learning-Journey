{
  "cells": [
    {
      "cell_type": "markdown",
      "metadata": {
        "nteract": {
          "transient": {
            "deleting": false
          }
        }
      },
      "source": [
        "<h3>Feature Engineering & Model Selection</h3>"
      ]
    },
    {
      "cell_type": "markdown",
      "metadata": {
        "nteract": {
          "transient": {
            "deleting": false
          }
        }
      },
      "source": [
        "<h3>Importing Libraries</h3>"
      ]
    },
    {
      "cell_type": "code",
      "execution_count": 276,
      "metadata": {
        "gather": {
          "logged": 1703709327541
        },
        "jupyter": {
          "outputs_hidden": false,
          "source_hidden": false
        },
        "nteract": {
          "transient": {
            "deleting": false
          }
        }
      },
      "outputs": [],
      "source": [
        "import numpy as np\n",
        "import pandas as pd\n",
        "import matplotlib.pyplot as plt\n",
        "import seaborn as sns\n",
        "import warnings\n",
        "%matplotlib inline\n",
        "warnings.filterwarnings(\"ignore\")\n",
        "from azure.ai.ml import MLClient\n",
        "from azure.identity import DefaultAzureCredential\n",
        "from azure.ai.ml.entities import Data\n",
        "from azure.ai.ml.constants import AssetTypes\n",
        "import statistics\n",
        "from scipy.stats import pearsonr, shapiro\n",
        "import mlflow\n",
        "import mlflow.sklearn\n",
        "from sklearn.model_selection import train_test_split\n",
        "from sklearn.preprocessing import StandardScaler\n",
        "from sklearn.metrics import mean_absolute_error, mean_squared_error\n",
        "from sklearn.linear_model import LinearRegression\n",
        "from sklearn.preprocessing import PolynomialFeatures\n",
        "from sklearn.svm import SVR\n",
        "from sklearn.model_selection import GridSearchCV\n",
        "from sklearn.neighbors import KNeighborsRegressor\n",
        "from sklearn.tree import DecisionTreeRegressor\n",
        "from sklearn.ensemble import RandomForestRegressor\n"
      ]
    },
    {
      "cell_type": "markdown",
      "metadata": {
        "nteract": {
          "transient": {
            "deleting": false
          }
        }
      },
      "source": [
        "<h3>Reading Data</h3>"
      ]
    },
    {
      "cell_type": "code",
      "execution_count": 277,
      "metadata": {
        "gather": {
          "logged": 1703709327906
        },
        "jupyter": {
          "outputs_hidden": false,
          "source_hidden": false
        },
        "nteract": {
          "transient": {
            "deleting": false
          }
        }
      },
      "outputs": [],
      "source": [
        "# authenticate\n",
        "credential = DefaultAzureCredential()\n",
        "\n",
        "# Get a handle to the workspace\n",
        "ml_client = MLClient(\n",
        "    credential=credential,\n",
        "    subscription_id=\"###\",\n",
        "    resource_group_name=\"###\",\n",
        "    workspace_name=\"###\",\n",
        ")"
      ]
    },
    {
      "cell_type": "code",
      "execution_count": 278,
      "metadata": {
        "gather": {
          "logged": 1703709328381
        },
        "jupyter": {
          "outputs_hidden": false,
          "source_hidden": false
        },
        "nteract": {
          "transient": {
            "deleting": false
          }
        }
      },
      "outputs": [
        {
          "name": "stdout",
          "output_type": "stream",
          "text": [
            "Data asset URI: azureml://subscriptions/144c7089-5d3d-40fa-bfaf-6ffb69774b59/resourcegroups/AML-sdk-v2-RG1/workspaces/AML-sdk-v2-RG1-WS1/datastores/workspaceblobstore/paths/LocalUpload/802a5ab2104c25cf07f29c2b30cd0c9e/Feature_Selected_Data.csv\n"
          ]
        }
      ],
      "source": [
        "version = \"Feature_Selected_Data\"\n",
        "# get a handle of the data asset and print the URI\n",
        "data_asset = ml_client.data.get(name=\"Car-Data\", version=version)\n",
        "print(f\"Data asset URI: {data_asset.path}\")\n",
        "\n",
        "# read into pandas - note that you will see 2 headers in your data frame - that is ok, for now\n",
        "\n",
        "df = pd.read_csv(data_asset.path)"
      ]
    },
    {
      "cell_type": "markdown",
      "metadata": {
        "nteract": {
          "transient": {
            "deleting": false
          }
        }
      },
      "source": [
        "<h3>Feature Transformation </h3>"
      ]
    },
    {
      "cell_type": "code",
      "execution_count": 279,
      "metadata": {
        "gather": {
          "logged": 1703709328679
        }
      },
      "outputs": [
        {
          "data": {
            "text/plain": [
              "Index(['Unnamed: 0', 'Fuel_Type', 'Power(kw)', 'Max_Torque(nm)', 'Cylinders',\n",
              "       'Engine_Capacity(cc)', 'Max_Power_Rpm', 'Max_Torque_Rpm', 'Fuel_System',\n",
              "       'Turbo', 'Co2_Emissions(g/km)'],\n",
              "      dtype='object')"
            ]
          },
          "execution_count": 279,
          "metadata": {},
          "output_type": "execute_result"
        }
      ],
      "source": [
        "df.columns"
      ]
    },
    {
      "cell_type": "code",
      "execution_count": 280,
      "metadata": {
        "gather": {
          "logged": 1703709329099
        },
        "jupyter": {
          "outputs_hidden": false,
          "source_hidden": false
        },
        "nteract": {
          "transient": {
            "deleting": false
          }
        }
      },
      "outputs": [],
      "source": [
        "df = df.drop(\"Unnamed: 0\", axis = 1)"
      ]
    },
    {
      "cell_type": "code",
      "execution_count": 281,
      "metadata": {
        "gather": {
          "logged": 1703709329535
        },
        "jupyter": {
          "outputs_hidden": false,
          "source_hidden": false
        },
        "nteract": {
          "transient": {
            "deleting": false
          }
        }
      },
      "outputs": [
        {
          "name": "stdout",
          "output_type": "stream",
          "text": [
            "<class 'pandas.core.frame.DataFrame'>\n",
            "RangeIndex: 2377 entries, 0 to 2376\n",
            "Data columns (total 10 columns):\n",
            " #   Column               Non-Null Count  Dtype  \n",
            "---  ------               --------------  -----  \n",
            " 0   Fuel_Type            2377 non-null   object \n",
            " 1   Power(kw)            2377 non-null   float64\n",
            " 2   Max_Torque(nm)       2377 non-null   float64\n",
            " 3   Cylinders            2377 non-null   object \n",
            " 4   Engine_Capacity(cc)  2377 non-null   float64\n",
            " 5   Max_Power_Rpm        2377 non-null   float64\n",
            " 6   Max_Torque_Rpm       2377 non-null   float64\n",
            " 7   Fuel_System          2377 non-null   object \n",
            " 8   Turbo                2377 non-null   object \n",
            " 9   Co2_Emissions(g/km)  2377 non-null   float64\n",
            "dtypes: float64(6), object(4)\n",
            "memory usage: 185.8+ KB\n"
          ]
        }
      ],
      "source": [
        "df.info()"
      ]
    },
    {
      "cell_type": "markdown",
      "metadata": {
        "nteract": {
          "transient": {
            "deleting": false
          }
        }
      },
      "source": [
        "##### <pre>One-Hot Encoding - Categorical Features</pre>"
      ]
    },
    {
      "cell_type": "code",
      "execution_count": 282,
      "metadata": {
        "gather": {
          "logged": 1703709329985
        },
        "jupyter": {
          "outputs_hidden": false,
          "source_hidden": false
        },
        "nteract": {
          "transient": {
            "deleting": false
          }
        }
      },
      "outputs": [],
      "source": [
        "Categorical_df = df.select_dtypes(include=['object'])\n",
        "Numerical_df = df.select_dtypes(include=['int', 'float'])"
      ]
    },
    {
      "cell_type": "code",
      "execution_count": 283,
      "metadata": {
        "gather": {
          "logged": 1703709330436
        },
        "jupyter": {
          "outputs_hidden": false,
          "source_hidden": false
        },
        "nteract": {
          "transient": {
            "deleting": false
          }
        }
      },
      "outputs": [
        {
          "data": {
            "text/html": [
              "<div>\n",
              "<style scoped>\n",
              "    .dataframe tbody tr th:only-of-type {\n",
              "        vertical-align: middle;\n",
              "    }\n",
              "\n",
              "    .dataframe tbody tr th {\n",
              "        vertical-align: top;\n",
              "    }\n",
              "\n",
              "    .dataframe thead th {\n",
              "        text-align: right;\n",
              "    }\n",
              "</style>\n",
              "<table border=\"1\" class=\"dataframe\">\n",
              "  <thead>\n",
              "    <tr style=\"text-align: right;\">\n",
              "      <th></th>\n",
              "      <th>Power(kw)</th>\n",
              "      <th>Max_Torque(nm)</th>\n",
              "      <th>Engine_Capacity(cc)</th>\n",
              "      <th>Max_Power_Rpm</th>\n",
              "      <th>Max_Torque_Rpm</th>\n",
              "      <th>Co2_Emissions(g/km)</th>\n",
              "    </tr>\n",
              "  </thead>\n",
              "  <tbody>\n",
              "    <tr>\n",
              "      <th>0</th>\n",
              "      <td>99.0</td>\n",
              "      <td>206.0</td>\n",
              "      <td>1368.0</td>\n",
              "      <td>5500.000000</td>\n",
              "      <td>3000.0</td>\n",
              "      <td>155.0</td>\n",
              "    </tr>\n",
              "    <tr>\n",
              "      <th>1</th>\n",
              "      <td>114.0</td>\n",
              "      <td>201.0</td>\n",
              "      <td>1368.0</td>\n",
              "      <td>5750.000000</td>\n",
              "      <td>3000.0</td>\n",
              "      <td>162.0</td>\n",
              "    </tr>\n",
              "    <tr>\n",
              "      <th>2</th>\n",
              "      <td>121.0</td>\n",
              "      <td>250.0</td>\n",
              "      <td>1368.0</td>\n",
              "      <td>5500.000000</td>\n",
              "      <td>2250.0</td>\n",
              "      <td>142.0</td>\n",
              "    </tr>\n",
              "    <tr>\n",
              "      <th>3</th>\n",
              "      <td>121.0</td>\n",
              "      <td>206.0</td>\n",
              "      <td>1970.0</td>\n",
              "      <td>6400.000000</td>\n",
              "      <td>3250.0</td>\n",
              "      <td>212.0</td>\n",
              "    </tr>\n",
              "    <tr>\n",
              "      <th>4</th>\n",
              "      <td>76.0</td>\n",
              "      <td>124.0</td>\n",
              "      <td>1370.0</td>\n",
              "      <td>6300.000000</td>\n",
              "      <td>4600.0</td>\n",
              "      <td>189.0</td>\n",
              "    </tr>\n",
              "    <tr>\n",
              "      <th>...</th>\n",
              "      <td>...</td>\n",
              "      <td>...</td>\n",
              "      <td>...</td>\n",
              "      <td>...</td>\n",
              "      <td>...</td>\n",
              "      <td>...</td>\n",
              "    </tr>\n",
              "    <tr>\n",
              "      <th>2372</th>\n",
              "      <td>180.0</td>\n",
              "      <td>400.0</td>\n",
              "      <td>1395.0</td>\n",
              "      <td>5000.000000</td>\n",
              "      <td>1550.0</td>\n",
              "      <td>30.0</td>\n",
              "    </tr>\n",
              "    <tr>\n",
              "      <th>2373</th>\n",
              "      <td>180.0</td>\n",
              "      <td>400.0</td>\n",
              "      <td>1395.0</td>\n",
              "      <td>5000.000000</td>\n",
              "      <td>1550.0</td>\n",
              "      <td>31.0</td>\n",
              "    </tr>\n",
              "    <tr>\n",
              "      <th>2374</th>\n",
              "      <td>103.0</td>\n",
              "      <td>260.0</td>\n",
              "      <td>1333.0</td>\n",
              "      <td>4500.000000</td>\n",
              "      <td>1750.0</td>\n",
              "      <td>134.0</td>\n",
              "    </tr>\n",
              "    <tr>\n",
              "      <th>2375</th>\n",
              "      <td>103.0</td>\n",
              "      <td>260.0</td>\n",
              "      <td>1333.0</td>\n",
              "      <td>4500.000000</td>\n",
              "      <td>1750.0</td>\n",
              "      <td>138.0</td>\n",
              "    </tr>\n",
              "    <tr>\n",
              "      <th>2376</th>\n",
              "      <td>81.0</td>\n",
              "      <td>200.0</td>\n",
              "      <td>999.0</td>\n",
              "      <td>5539.410807</td>\n",
              "      <td>2000.0</td>\n",
              "      <td>126.0</td>\n",
              "    </tr>\n",
              "  </tbody>\n",
              "</table>\n",
              "<p>2377 rows × 6 columns</p>\n",
              "</div>"
            ],
            "text/plain": [
              "      Power(kw)  Max_Torque(nm)  Engine_Capacity(cc)  Max_Power_Rpm  \\\n",
              "0          99.0           206.0               1368.0    5500.000000   \n",
              "1         114.0           201.0               1368.0    5750.000000   \n",
              "2         121.0           250.0               1368.0    5500.000000   \n",
              "3         121.0           206.0               1970.0    6400.000000   \n",
              "4          76.0           124.0               1370.0    6300.000000   \n",
              "...         ...             ...                  ...            ...   \n",
              "2372      180.0           400.0               1395.0    5000.000000   \n",
              "2373      180.0           400.0               1395.0    5000.000000   \n",
              "2374      103.0           260.0               1333.0    4500.000000   \n",
              "2375      103.0           260.0               1333.0    4500.000000   \n",
              "2376       81.0           200.0                999.0    5539.410807   \n",
              "\n",
              "      Max_Torque_Rpm  Co2_Emissions(g/km)  \n",
              "0             3000.0                155.0  \n",
              "1             3000.0                162.0  \n",
              "2             2250.0                142.0  \n",
              "3             3250.0                212.0  \n",
              "4             4600.0                189.0  \n",
              "...              ...                  ...  \n",
              "2372          1550.0                 30.0  \n",
              "2373          1550.0                 31.0  \n",
              "2374          1750.0                134.0  \n",
              "2375          1750.0                138.0  \n",
              "2376          2000.0                126.0  \n",
              "\n",
              "[2377 rows x 6 columns]"
            ]
          },
          "execution_count": 283,
          "metadata": {},
          "output_type": "execute_result"
        }
      ],
      "source": [
        "Numerical_df"
      ]
    },
    {
      "cell_type": "code",
      "execution_count": 284,
      "metadata": {
        "gather": {
          "logged": 1703709331068
        },
        "jupyter": {
          "outputs_hidden": false,
          "source_hidden": false
        },
        "nteract": {
          "transient": {
            "deleting": false
          }
        }
      },
      "outputs": [
        {
          "data": {
            "text/html": [
              "<div>\n",
              "<style scoped>\n",
              "    .dataframe tbody tr th:only-of-type {\n",
              "        vertical-align: middle;\n",
              "    }\n",
              "\n",
              "    .dataframe tbody tr th {\n",
              "        vertical-align: top;\n",
              "    }\n",
              "\n",
              "    .dataframe thead th {\n",
              "        text-align: right;\n",
              "    }\n",
              "</style>\n",
              "<table border=\"1\" class=\"dataframe\">\n",
              "  <thead>\n",
              "    <tr style=\"text-align: right;\">\n",
              "      <th></th>\n",
              "      <th>Fuel_Type</th>\n",
              "      <th>Cylinders</th>\n",
              "      <th>Fuel_System</th>\n",
              "      <th>Turbo</th>\n",
              "    </tr>\n",
              "  </thead>\n",
              "  <tbody>\n",
              "    <tr>\n",
              "      <th>0</th>\n",
              "      <td>gasoline</td>\n",
              "      <td>4, in line</td>\n",
              "      <td>multipoint injection</td>\n",
              "      <td>yes, with intercooler</td>\n",
              "    </tr>\n",
              "    <tr>\n",
              "      <th>1</th>\n",
              "      <td>gasoline</td>\n",
              "      <td>4, in line</td>\n",
              "      <td>multipoint injection</td>\n",
              "      <td>yes, with intercooler</td>\n",
              "    </tr>\n",
              "    <tr>\n",
              "      <th>2</th>\n",
              "      <td>gasoline</td>\n",
              "      <td>4, in line</td>\n",
              "      <td>multipoint injection</td>\n",
              "      <td>yes, with intercooler</td>\n",
              "    </tr>\n",
              "    <tr>\n",
              "      <th>3</th>\n",
              "      <td>gasoline</td>\n",
              "      <td>4, in line</td>\n",
              "      <td>direct injection</td>\n",
              "      <td>no</td>\n",
              "    </tr>\n",
              "    <tr>\n",
              "      <th>4</th>\n",
              "      <td>gasoline</td>\n",
              "      <td>4, in line</td>\n",
              "      <td>multipoint injection</td>\n",
              "      <td>no</td>\n",
              "    </tr>\n",
              "    <tr>\n",
              "      <th>...</th>\n",
              "      <td>...</td>\n",
              "      <td>...</td>\n",
              "      <td>...</td>\n",
              "      <td>...</td>\n",
              "    </tr>\n",
              "    <tr>\n",
              "      <th>2372</th>\n",
              "      <td>gasoline</td>\n",
              "      <td>4, in line</td>\n",
              "      <td>direct injection</td>\n",
              "      <td>yes, with intercooler</td>\n",
              "    </tr>\n",
              "    <tr>\n",
              "      <th>2373</th>\n",
              "      <td>gasoline</td>\n",
              "      <td>4, in line</td>\n",
              "      <td>direct injection</td>\n",
              "      <td>yes, with intercooler</td>\n",
              "    </tr>\n",
              "    <tr>\n",
              "      <th>2374</th>\n",
              "      <td>gasoline</td>\n",
              "      <td>4, in line</td>\n",
              "      <td>direct injection</td>\n",
              "      <td>yes, with intercooler</td>\n",
              "    </tr>\n",
              "    <tr>\n",
              "      <th>2375</th>\n",
              "      <td>gasoline</td>\n",
              "      <td>4, in line</td>\n",
              "      <td>direct injection</td>\n",
              "      <td>yes, with intercooler</td>\n",
              "    </tr>\n",
              "    <tr>\n",
              "      <th>2376</th>\n",
              "      <td>gasoline</td>\n",
              "      <td>3, in line</td>\n",
              "      <td>direct injection</td>\n",
              "      <td>yes, with intercooler</td>\n",
              "    </tr>\n",
              "  </tbody>\n",
              "</table>\n",
              "<p>2377 rows × 4 columns</p>\n",
              "</div>"
            ],
            "text/plain": [
              "     Fuel_Type   Cylinders           Fuel_System                  Turbo\n",
              "0     gasoline  4, in line  multipoint injection  yes, with intercooler\n",
              "1     gasoline  4, in line  multipoint injection  yes, with intercooler\n",
              "2     gasoline  4, in line  multipoint injection  yes, with intercooler\n",
              "3     gasoline  4, in line      direct injection                     no\n",
              "4     gasoline  4, in line  multipoint injection                     no\n",
              "...        ...         ...                   ...                    ...\n",
              "2372  gasoline  4, in line      direct injection  yes, with intercooler\n",
              "2373  gasoline  4, in line      direct injection  yes, with intercooler\n",
              "2374  gasoline  4, in line      direct injection  yes, with intercooler\n",
              "2375  gasoline  4, in line      direct injection  yes, with intercooler\n",
              "2376  gasoline  3, in line      direct injection  yes, with intercooler\n",
              "\n",
              "[2377 rows x 4 columns]"
            ]
          },
          "execution_count": 284,
          "metadata": {},
          "output_type": "execute_result"
        }
      ],
      "source": [
        "Categorical_df"
      ]
    },
    {
      "cell_type": "code",
      "execution_count": 285,
      "metadata": {
        "gather": {
          "logged": 1703709331495
        },
        "jupyter": {
          "outputs_hidden": false,
          "source_hidden": false
        },
        "nteract": {
          "transient": {
            "deleting": false
          }
        }
      },
      "outputs": [],
      "source": [
        "Categorical_Encoded_df = pd.get_dummies(Categorical_df, drop_first=True, dtype = int)"
      ]
    },
    {
      "cell_type": "code",
      "execution_count": 286,
      "metadata": {
        "gather": {
          "logged": 1703709332008
        },
        "jupyter": {
          "outputs_hidden": false,
          "source_hidden": false
        },
        "nteract": {
          "transient": {
            "deleting": false
          }
        }
      },
      "outputs": [
        {
          "data": {
            "text/html": [
              "<div>\n",
              "<style scoped>\n",
              "    .dataframe tbody tr th:only-of-type {\n",
              "        vertical-align: middle;\n",
              "    }\n",
              "\n",
              "    .dataframe tbody tr th {\n",
              "        vertical-align: top;\n",
              "    }\n",
              "\n",
              "    .dataframe thead th {\n",
              "        text-align: right;\n",
              "    }\n",
              "</style>\n",
              "<table border=\"1\" class=\"dataframe\">\n",
              "  <thead>\n",
              "    <tr style=\"text-align: right;\">\n",
              "      <th></th>\n",
              "      <th>Fuel_Type_gasoline</th>\n",
              "      <th>Fuel_Type_gasoline / bio ethanol</th>\n",
              "      <th>Fuel_Type_lpg / gasoline</th>\n",
              "      <th>Cylinders_12, v engine</th>\n",
              "      <th>Cylinders_12, w engine</th>\n",
              "      <th>Cylinders_16, w engine</th>\n",
              "      <th>Cylinders_2, in line</th>\n",
              "      <th>Cylinders_3</th>\n",
              "      <th>Cylinders_3, in line</th>\n",
              "      <th>Cylinders_4</th>\n",
              "      <th>...</th>\n",
              "      <th>Cylinders_8, w engine</th>\n",
              "      <th>Fuel_System_direct injection</th>\n",
              "      <th>Fuel_System_indirect injection</th>\n",
              "      <th>Fuel_System_multijet</th>\n",
              "      <th>Fuel_System_multipoint injection</th>\n",
              "      <th>Fuel_System_singplepoint injection</th>\n",
              "      <th>Turbo_no</th>\n",
              "      <th>Turbo_yes</th>\n",
              "      <th>Turbo_yes, two</th>\n",
              "      <th>Turbo_yes, with intercooler</th>\n",
              "    </tr>\n",
              "  </thead>\n",
              "  <tbody>\n",
              "    <tr>\n",
              "      <th>0</th>\n",
              "      <td>1</td>\n",
              "      <td>0</td>\n",
              "      <td>0</td>\n",
              "      <td>0</td>\n",
              "      <td>0</td>\n",
              "      <td>0</td>\n",
              "      <td>0</td>\n",
              "      <td>0</td>\n",
              "      <td>0</td>\n",
              "      <td>0</td>\n",
              "      <td>...</td>\n",
              "      <td>0</td>\n",
              "      <td>0</td>\n",
              "      <td>0</td>\n",
              "      <td>0</td>\n",
              "      <td>1</td>\n",
              "      <td>0</td>\n",
              "      <td>0</td>\n",
              "      <td>0</td>\n",
              "      <td>0</td>\n",
              "      <td>1</td>\n",
              "    </tr>\n",
              "    <tr>\n",
              "      <th>1</th>\n",
              "      <td>1</td>\n",
              "      <td>0</td>\n",
              "      <td>0</td>\n",
              "      <td>0</td>\n",
              "      <td>0</td>\n",
              "      <td>0</td>\n",
              "      <td>0</td>\n",
              "      <td>0</td>\n",
              "      <td>0</td>\n",
              "      <td>0</td>\n",
              "      <td>...</td>\n",
              "      <td>0</td>\n",
              "      <td>0</td>\n",
              "      <td>0</td>\n",
              "      <td>0</td>\n",
              "      <td>1</td>\n",
              "      <td>0</td>\n",
              "      <td>0</td>\n",
              "      <td>0</td>\n",
              "      <td>0</td>\n",
              "      <td>1</td>\n",
              "    </tr>\n",
              "    <tr>\n",
              "      <th>2</th>\n",
              "      <td>1</td>\n",
              "      <td>0</td>\n",
              "      <td>0</td>\n",
              "      <td>0</td>\n",
              "      <td>0</td>\n",
              "      <td>0</td>\n",
              "      <td>0</td>\n",
              "      <td>0</td>\n",
              "      <td>0</td>\n",
              "      <td>0</td>\n",
              "      <td>...</td>\n",
              "      <td>0</td>\n",
              "      <td>0</td>\n",
              "      <td>0</td>\n",
              "      <td>0</td>\n",
              "      <td>1</td>\n",
              "      <td>0</td>\n",
              "      <td>0</td>\n",
              "      <td>0</td>\n",
              "      <td>0</td>\n",
              "      <td>1</td>\n",
              "    </tr>\n",
              "    <tr>\n",
              "      <th>3</th>\n",
              "      <td>1</td>\n",
              "      <td>0</td>\n",
              "      <td>0</td>\n",
              "      <td>0</td>\n",
              "      <td>0</td>\n",
              "      <td>0</td>\n",
              "      <td>0</td>\n",
              "      <td>0</td>\n",
              "      <td>0</td>\n",
              "      <td>0</td>\n",
              "      <td>...</td>\n",
              "      <td>0</td>\n",
              "      <td>1</td>\n",
              "      <td>0</td>\n",
              "      <td>0</td>\n",
              "      <td>0</td>\n",
              "      <td>0</td>\n",
              "      <td>1</td>\n",
              "      <td>0</td>\n",
              "      <td>0</td>\n",
              "      <td>0</td>\n",
              "    </tr>\n",
              "    <tr>\n",
              "      <th>4</th>\n",
              "      <td>1</td>\n",
              "      <td>0</td>\n",
              "      <td>0</td>\n",
              "      <td>0</td>\n",
              "      <td>0</td>\n",
              "      <td>0</td>\n",
              "      <td>0</td>\n",
              "      <td>0</td>\n",
              "      <td>0</td>\n",
              "      <td>0</td>\n",
              "      <td>...</td>\n",
              "      <td>0</td>\n",
              "      <td>0</td>\n",
              "      <td>0</td>\n",
              "      <td>0</td>\n",
              "      <td>1</td>\n",
              "      <td>0</td>\n",
              "      <td>1</td>\n",
              "      <td>0</td>\n",
              "      <td>0</td>\n",
              "      <td>0</td>\n",
              "    </tr>\n",
              "    <tr>\n",
              "      <th>...</th>\n",
              "      <td>...</td>\n",
              "      <td>...</td>\n",
              "      <td>...</td>\n",
              "      <td>...</td>\n",
              "      <td>...</td>\n",
              "      <td>...</td>\n",
              "      <td>...</td>\n",
              "      <td>...</td>\n",
              "      <td>...</td>\n",
              "      <td>...</td>\n",
              "      <td>...</td>\n",
              "      <td>...</td>\n",
              "      <td>...</td>\n",
              "      <td>...</td>\n",
              "      <td>...</td>\n",
              "      <td>...</td>\n",
              "      <td>...</td>\n",
              "      <td>...</td>\n",
              "      <td>...</td>\n",
              "      <td>...</td>\n",
              "      <td>...</td>\n",
              "    </tr>\n",
              "    <tr>\n",
              "      <th>2372</th>\n",
              "      <td>1</td>\n",
              "      <td>0</td>\n",
              "      <td>0</td>\n",
              "      <td>0</td>\n",
              "      <td>0</td>\n",
              "      <td>0</td>\n",
              "      <td>0</td>\n",
              "      <td>0</td>\n",
              "      <td>0</td>\n",
              "      <td>0</td>\n",
              "      <td>...</td>\n",
              "      <td>0</td>\n",
              "      <td>1</td>\n",
              "      <td>0</td>\n",
              "      <td>0</td>\n",
              "      <td>0</td>\n",
              "      <td>0</td>\n",
              "      <td>0</td>\n",
              "      <td>0</td>\n",
              "      <td>0</td>\n",
              "      <td>1</td>\n",
              "    </tr>\n",
              "    <tr>\n",
              "      <th>2373</th>\n",
              "      <td>1</td>\n",
              "      <td>0</td>\n",
              "      <td>0</td>\n",
              "      <td>0</td>\n",
              "      <td>0</td>\n",
              "      <td>0</td>\n",
              "      <td>0</td>\n",
              "      <td>0</td>\n",
              "      <td>0</td>\n",
              "      <td>0</td>\n",
              "      <td>...</td>\n",
              "      <td>0</td>\n",
              "      <td>1</td>\n",
              "      <td>0</td>\n",
              "      <td>0</td>\n",
              "      <td>0</td>\n",
              "      <td>0</td>\n",
              "      <td>0</td>\n",
              "      <td>0</td>\n",
              "      <td>0</td>\n",
              "      <td>1</td>\n",
              "    </tr>\n",
              "    <tr>\n",
              "      <th>2374</th>\n",
              "      <td>1</td>\n",
              "      <td>0</td>\n",
              "      <td>0</td>\n",
              "      <td>0</td>\n",
              "      <td>0</td>\n",
              "      <td>0</td>\n",
              "      <td>0</td>\n",
              "      <td>0</td>\n",
              "      <td>0</td>\n",
              "      <td>0</td>\n",
              "      <td>...</td>\n",
              "      <td>0</td>\n",
              "      <td>1</td>\n",
              "      <td>0</td>\n",
              "      <td>0</td>\n",
              "      <td>0</td>\n",
              "      <td>0</td>\n",
              "      <td>0</td>\n",
              "      <td>0</td>\n",
              "      <td>0</td>\n",
              "      <td>1</td>\n",
              "    </tr>\n",
              "    <tr>\n",
              "      <th>2375</th>\n",
              "      <td>1</td>\n",
              "      <td>0</td>\n",
              "      <td>0</td>\n",
              "      <td>0</td>\n",
              "      <td>0</td>\n",
              "      <td>0</td>\n",
              "      <td>0</td>\n",
              "      <td>0</td>\n",
              "      <td>0</td>\n",
              "      <td>0</td>\n",
              "      <td>...</td>\n",
              "      <td>0</td>\n",
              "      <td>1</td>\n",
              "      <td>0</td>\n",
              "      <td>0</td>\n",
              "      <td>0</td>\n",
              "      <td>0</td>\n",
              "      <td>0</td>\n",
              "      <td>0</td>\n",
              "      <td>0</td>\n",
              "      <td>1</td>\n",
              "    </tr>\n",
              "    <tr>\n",
              "      <th>2376</th>\n",
              "      <td>1</td>\n",
              "      <td>0</td>\n",
              "      <td>0</td>\n",
              "      <td>0</td>\n",
              "      <td>0</td>\n",
              "      <td>0</td>\n",
              "      <td>0</td>\n",
              "      <td>0</td>\n",
              "      <td>1</td>\n",
              "      <td>0</td>\n",
              "      <td>...</td>\n",
              "      <td>0</td>\n",
              "      <td>1</td>\n",
              "      <td>0</td>\n",
              "      <td>0</td>\n",
              "      <td>0</td>\n",
              "      <td>0</td>\n",
              "      <td>0</td>\n",
              "      <td>0</td>\n",
              "      <td>0</td>\n",
              "      <td>1</td>\n",
              "    </tr>\n",
              "  </tbody>\n",
              "</table>\n",
              "<p>2377 rows × 30 columns</p>\n",
              "</div>"
            ],
            "text/plain": [
              "      Fuel_Type_gasoline  Fuel_Type_gasoline / bio ethanol  \\\n",
              "0                      1                                 0   \n",
              "1                      1                                 0   \n",
              "2                      1                                 0   \n",
              "3                      1                                 0   \n",
              "4                      1                                 0   \n",
              "...                  ...                               ...   \n",
              "2372                   1                                 0   \n",
              "2373                   1                                 0   \n",
              "2374                   1                                 0   \n",
              "2375                   1                                 0   \n",
              "2376                   1                                 0   \n",
              "\n",
              "      Fuel_Type_lpg / gasoline  Cylinders_12, v engine  \\\n",
              "0                            0                       0   \n",
              "1                            0                       0   \n",
              "2                            0                       0   \n",
              "3                            0                       0   \n",
              "4                            0                       0   \n",
              "...                        ...                     ...   \n",
              "2372                         0                       0   \n",
              "2373                         0                       0   \n",
              "2374                         0                       0   \n",
              "2375                         0                       0   \n",
              "2376                         0                       0   \n",
              "\n",
              "      Cylinders_12, w engine  Cylinders_16, w engine  Cylinders_2, in line  \\\n",
              "0                          0                       0                     0   \n",
              "1                          0                       0                     0   \n",
              "2                          0                       0                     0   \n",
              "3                          0                       0                     0   \n",
              "4                          0                       0                     0   \n",
              "...                      ...                     ...                   ...   \n",
              "2372                       0                       0                     0   \n",
              "2373                       0                       0                     0   \n",
              "2374                       0                       0                     0   \n",
              "2375                       0                       0                     0   \n",
              "2376                       0                       0                     0   \n",
              "\n",
              "      Cylinders_3  Cylinders_3, in line  Cylinders_4  ...  \\\n",
              "0               0                     0            0  ...   \n",
              "1               0                     0            0  ...   \n",
              "2               0                     0            0  ...   \n",
              "3               0                     0            0  ...   \n",
              "4               0                     0            0  ...   \n",
              "...           ...                   ...          ...  ...   \n",
              "2372            0                     0            0  ...   \n",
              "2373            0                     0            0  ...   \n",
              "2374            0                     0            0  ...   \n",
              "2375            0                     0            0  ...   \n",
              "2376            0                     1            0  ...   \n",
              "\n",
              "      Cylinders_8, w engine  Fuel_System_direct injection  \\\n",
              "0                         0                             0   \n",
              "1                         0                             0   \n",
              "2                         0                             0   \n",
              "3                         0                             1   \n",
              "4                         0                             0   \n",
              "...                     ...                           ...   \n",
              "2372                      0                             1   \n",
              "2373                      0                             1   \n",
              "2374                      0                             1   \n",
              "2375                      0                             1   \n",
              "2376                      0                             1   \n",
              "\n",
              "      Fuel_System_indirect injection  Fuel_System_multijet  \\\n",
              "0                                  0                     0   \n",
              "1                                  0                     0   \n",
              "2                                  0                     0   \n",
              "3                                  0                     0   \n",
              "4                                  0                     0   \n",
              "...                              ...                   ...   \n",
              "2372                               0                     0   \n",
              "2373                               0                     0   \n",
              "2374                               0                     0   \n",
              "2375                               0                     0   \n",
              "2376                               0                     0   \n",
              "\n",
              "      Fuel_System_multipoint injection  Fuel_System_singplepoint injection  \\\n",
              "0                                    1                                   0   \n",
              "1                                    1                                   0   \n",
              "2                                    1                                   0   \n",
              "3                                    0                                   0   \n",
              "4                                    1                                   0   \n",
              "...                                ...                                 ...   \n",
              "2372                                 0                                   0   \n",
              "2373                                 0                                   0   \n",
              "2374                                 0                                   0   \n",
              "2375                                 0                                   0   \n",
              "2376                                 0                                   0   \n",
              "\n",
              "      Turbo_no  Turbo_yes  Turbo_yes, two  Turbo_yes, with intercooler  \n",
              "0            0          0               0                            1  \n",
              "1            0          0               0                            1  \n",
              "2            0          0               0                            1  \n",
              "3            1          0               0                            0  \n",
              "4            1          0               0                            0  \n",
              "...        ...        ...             ...                          ...  \n",
              "2372         0          0               0                            1  \n",
              "2373         0          0               0                            1  \n",
              "2374         0          0               0                            1  \n",
              "2375         0          0               0                            1  \n",
              "2376         0          0               0                            1  \n",
              "\n",
              "[2377 rows x 30 columns]"
            ]
          },
          "execution_count": 286,
          "metadata": {},
          "output_type": "execute_result"
        }
      ],
      "source": [
        "Categorical_Encoded_df"
      ]
    },
    {
      "cell_type": "code",
      "execution_count": 287,
      "metadata": {
        "gather": {
          "logged": 1703709332514
        },
        "jupyter": {
          "outputs_hidden": false,
          "source_hidden": false
        },
        "nteract": {
          "transient": {
            "deleting": false
          }
        }
      },
      "outputs": [],
      "source": [
        "Final_df = pd.concat((Numerical_df, Categorical_Encoded_df), axis=1)"
      ]
    },
    {
      "cell_type": "code",
      "execution_count": 288,
      "metadata": {
        "gather": {
          "logged": 1703709333382
        },
        "jupyter": {
          "outputs_hidden": false,
          "source_hidden": false
        },
        "nteract": {
          "transient": {
            "deleting": false
          }
        }
      },
      "outputs": [
        {
          "data": {
            "text/html": [
              "<div>\n",
              "<style scoped>\n",
              "    .dataframe tbody tr th:only-of-type {\n",
              "        vertical-align: middle;\n",
              "    }\n",
              "\n",
              "    .dataframe tbody tr th {\n",
              "        vertical-align: top;\n",
              "    }\n",
              "\n",
              "    .dataframe thead th {\n",
              "        text-align: right;\n",
              "    }\n",
              "</style>\n",
              "<table border=\"1\" class=\"dataframe\">\n",
              "  <thead>\n",
              "    <tr style=\"text-align: right;\">\n",
              "      <th></th>\n",
              "      <th>Power(kw)</th>\n",
              "      <th>Max_Torque(nm)</th>\n",
              "      <th>Engine_Capacity(cc)</th>\n",
              "      <th>Max_Power_Rpm</th>\n",
              "      <th>Max_Torque_Rpm</th>\n",
              "      <th>Co2_Emissions(g/km)</th>\n",
              "      <th>Fuel_Type_gasoline</th>\n",
              "      <th>Fuel_Type_gasoline / bio ethanol</th>\n",
              "      <th>Fuel_Type_lpg / gasoline</th>\n",
              "      <th>Cylinders_12, v engine</th>\n",
              "      <th>...</th>\n",
              "      <th>Cylinders_8, w engine</th>\n",
              "      <th>Fuel_System_direct injection</th>\n",
              "      <th>Fuel_System_indirect injection</th>\n",
              "      <th>Fuel_System_multijet</th>\n",
              "      <th>Fuel_System_multipoint injection</th>\n",
              "      <th>Fuel_System_singplepoint injection</th>\n",
              "      <th>Turbo_no</th>\n",
              "      <th>Turbo_yes</th>\n",
              "      <th>Turbo_yes, two</th>\n",
              "      <th>Turbo_yes, with intercooler</th>\n",
              "    </tr>\n",
              "  </thead>\n",
              "  <tbody>\n",
              "    <tr>\n",
              "      <th>0</th>\n",
              "      <td>99.0</td>\n",
              "      <td>206.0</td>\n",
              "      <td>1368.0</td>\n",
              "      <td>5500.0</td>\n",
              "      <td>3000.0</td>\n",
              "      <td>155.0</td>\n",
              "      <td>1</td>\n",
              "      <td>0</td>\n",
              "      <td>0</td>\n",
              "      <td>0</td>\n",
              "      <td>...</td>\n",
              "      <td>0</td>\n",
              "      <td>0</td>\n",
              "      <td>0</td>\n",
              "      <td>0</td>\n",
              "      <td>1</td>\n",
              "      <td>0</td>\n",
              "      <td>0</td>\n",
              "      <td>0</td>\n",
              "      <td>0</td>\n",
              "      <td>1</td>\n",
              "    </tr>\n",
              "    <tr>\n",
              "      <th>1</th>\n",
              "      <td>114.0</td>\n",
              "      <td>201.0</td>\n",
              "      <td>1368.0</td>\n",
              "      <td>5750.0</td>\n",
              "      <td>3000.0</td>\n",
              "      <td>162.0</td>\n",
              "      <td>1</td>\n",
              "      <td>0</td>\n",
              "      <td>0</td>\n",
              "      <td>0</td>\n",
              "      <td>...</td>\n",
              "      <td>0</td>\n",
              "      <td>0</td>\n",
              "      <td>0</td>\n",
              "      <td>0</td>\n",
              "      <td>1</td>\n",
              "      <td>0</td>\n",
              "      <td>0</td>\n",
              "      <td>0</td>\n",
              "      <td>0</td>\n",
              "      <td>1</td>\n",
              "    </tr>\n",
              "  </tbody>\n",
              "</table>\n",
              "<p>2 rows × 36 columns</p>\n",
              "</div>"
            ],
            "text/plain": [
              "   Power(kw)  Max_Torque(nm)  Engine_Capacity(cc)  Max_Power_Rpm  \\\n",
              "0       99.0           206.0               1368.0         5500.0   \n",
              "1      114.0           201.0               1368.0         5750.0   \n",
              "\n",
              "   Max_Torque_Rpm  Co2_Emissions(g/km)  Fuel_Type_gasoline  \\\n",
              "0          3000.0                155.0                   1   \n",
              "1          3000.0                162.0                   1   \n",
              "\n",
              "   Fuel_Type_gasoline / bio ethanol  Fuel_Type_lpg / gasoline  \\\n",
              "0                                 0                         0   \n",
              "1                                 0                         0   \n",
              "\n",
              "   Cylinders_12, v engine  ...  Cylinders_8, w engine  \\\n",
              "0                       0  ...                      0   \n",
              "1                       0  ...                      0   \n",
              "\n",
              "   Fuel_System_direct injection  Fuel_System_indirect injection  \\\n",
              "0                             0                               0   \n",
              "1                             0                               0   \n",
              "\n",
              "   Fuel_System_multijet  Fuel_System_multipoint injection  \\\n",
              "0                     0                                 1   \n",
              "1                     0                                 1   \n",
              "\n",
              "   Fuel_System_singplepoint injection  Turbo_no  Turbo_yes  Turbo_yes, two  \\\n",
              "0                                   0         0          0               0   \n",
              "1                                   0         0          0               0   \n",
              "\n",
              "   Turbo_yes, with intercooler  \n",
              "0                            1  \n",
              "1                            1  \n",
              "\n",
              "[2 rows x 36 columns]"
            ]
          },
          "execution_count": 288,
          "metadata": {},
          "output_type": "execute_result"
        }
      ],
      "source": [
        "Final_df.head(2)"
      ]
    },
    {
      "cell_type": "markdown",
      "metadata": {
        "nteract": {
          "transient": {
            "deleting": false
          }
        }
      },
      "source": [
        "### Model Selection"
      ]
    },
    {
      "cell_type": "code",
      "execution_count": 289,
      "metadata": {
        "gather": {
          "logged": 1703709334426
        },
        "jupyter": {
          "outputs_hidden": false,
          "source_hidden": false
        },
        "nteract": {
          "transient": {
            "deleting": false
          }
        }
      },
      "outputs": [],
      "source": [
        "Model_Error_rates = {}"
      ]
    },
    {
      "cell_type": "markdown",
      "metadata": {
        "nteract": {
          "transient": {
            "deleting": false
          }
        }
      },
      "source": [
        "#### Linear Regression"
      ]
    },
    {
      "cell_type": "markdown",
      "metadata": {
        "nteract": {
          "transient": {
            "deleting": false
          }
        }
      },
      "source": [
        "##### Assumptions Of linear regression"
      ]
    },
    {
      "cell_type": "markdown",
      "metadata": {
        "nteract": {
          "transient": {
            "deleting": false
          }
        }
      },
      "source": [
        "1. Linear relationship between features and target.\n",
        "2. No Multicollinearity between the features.\n",
        "3. Homoscedasticity.\n",
        "4. No Autocorrelation.\n",
        "5. Predictors are distributed normally."
      ]
    },
    {
      "cell_type": "markdown",
      "metadata": {
        "nteract": {
          "transient": {
            "deleting": false
          }
        }
      },
      "source": [
        "1. Linear relationship between features and target\n"
      ]
    },
    {
      "cell_type": "markdown",
      "metadata": {
        "nteract": {
          "transient": {
            "deleting": false
          }
        }
      },
      "source": [
        "To check for linear relationship between features and target we will use Pearson correlation coefficient. "
      ]
    },
    {
      "cell_type": "code",
      "execution_count": 290,
      "metadata": {
        "gather": {
          "logged": 1703709335581
        },
        "jupyter": {
          "outputs_hidden": false,
          "source_hidden": false
        },
        "nteract": {
          "transient": {
            "deleting": false
          }
        }
      },
      "outputs": [
        {
          "data": {
            "text/plain": [
              "Index(['Power(kw)', 'Max_Torque(nm)', 'Engine_Capacity(cc)', 'Max_Power_Rpm',\n",
              "       'Max_Torque_Rpm', 'Co2_Emissions(g/km)', 'Fuel_Type_gasoline',\n",
              "       'Fuel_Type_gasoline / bio ethanol', 'Fuel_Type_lpg / gasoline',\n",
              "       'Cylinders_12, v engine', 'Cylinders_12, w engine',\n",
              "       'Cylinders_16, w engine', 'Cylinders_2, in line', 'Cylinders_3',\n",
              "       'Cylinders_3, in line', 'Cylinders_4', 'Cylinders_4, boxer',\n",
              "       'Cylinders_4, in line', 'Cylinders_4, v engine', 'Cylinders_5, in line',\n",
              "       'Cylinders_6', 'Cylinders_6, boxer', 'Cylinders_6, in line',\n",
              "       'Cylinders_6, v engine', 'Cylinders_8, in line',\n",
              "       'Cylinders_8, v engine', 'Cylinders_8, w engine',\n",
              "       'Fuel_System_direct injection', 'Fuel_System_indirect injection',\n",
              "       'Fuel_System_multijet', 'Fuel_System_multipoint injection',\n",
              "       'Fuel_System_singplepoint injection', 'Turbo_no', 'Turbo_yes',\n",
              "       'Turbo_yes, two', 'Turbo_yes, with intercooler'],\n",
              "      dtype='object')"
            ]
          },
          "execution_count": 290,
          "metadata": {},
          "output_type": "execute_result"
        }
      ],
      "source": [
        "Final_df.columns"
      ]
    },
    {
      "cell_type": "code",
      "execution_count": 291,
      "metadata": {
        "gather": {
          "logged": 1703709335917
        },
        "jupyter": {
          "outputs_hidden": false,
          "source_hidden": false
        },
        "nteract": {
          "transient": {
            "deleting": false
          }
        }
      },
      "outputs": [],
      "source": [
        "def check_linear_relationship(columns):\n",
        "    Result = {}\n",
        "    for column in columns:\n",
        "        if column != \"Co2_Emissions(g/km)\":\n",
        "            Test_Result = pearsonr(df[column], df[\"Co2_Emissions(g/km)\"])\n",
        "            Result[column] = Test_Result\n",
        "    return Result"
      ]
    },
    {
      "cell_type": "code",
      "execution_count": 292,
      "metadata": {
        "gather": {
          "logged": 1703709336369
        },
        "jupyter": {
          "outputs_hidden": false,
          "source_hidden": false
        },
        "nteract": {
          "transient": {
            "deleting": false
          }
        }
      },
      "outputs": [
        {
          "data": {
            "text/plain": [
              "{'Power(kw)': (0.621586371559939, 3.627950253742235e-254),\n",
              " 'Max_Torque(nm)': (0.5799720487666041, 9.756990709361093e-214),\n",
              " 'Engine_Capacity(cc)': (0.8315389329199923, 0.0),\n",
              " 'Max_Power_Rpm': (0.23223131605784547, 1.7911159574183147e-30),\n",
              " 'Max_Torque_Rpm': (0.22433086784710807, 1.7000816098202115e-28)}"
            ]
          },
          "execution_count": 292,
          "metadata": {},
          "output_type": "execute_result"
        }
      ],
      "source": [
        "columns = Numerical_df.columns\n",
        "check_linear_relationship(columns)"
      ]
    },
    {
      "cell_type": "markdown",
      "metadata": {
        "nteract": {
          "transient": {
            "deleting": false
          }
        }
      },
      "source": [
        "2. To check for multi-collinearity"
      ]
    },
    {
      "cell_type": "markdown",
      "metadata": {
        "nteract": {
          "transient": {
            "deleting": false
          }
        }
      },
      "source": [
        "We will use heatmap to detect multicollinearity between features."
      ]
    },
    {
      "cell_type": "code",
      "execution_count": 293,
      "metadata": {
        "gather": {
          "logged": 1703709337328
        },
        "jupyter": {
          "outputs_hidden": false,
          "source_hidden": false
        },
        "nteract": {
          "transient": {
            "deleting": false
          }
        }
      },
      "outputs": [
        {
          "data": {
            "image/png": "[encoded data removed]",
            "text/plain": [
              "<Figure size 640x480 with 2 Axes>"
            ]
          },
          "metadata": {},
          "output_type": "display_data"
        }
      ],
      "source": [
        "Correlation_Matrix = Numerical_df.corr()\n",
        "sns.heatmap(Correlation_Matrix, annot=True, cmap=\"YlGnBu\")\n",
        "plt.show()"
      ]
    },
    {
      "cell_type": "markdown",
      "metadata": {
        "nteract": {
          "transient": {
            "deleting": false
          }
        }
      },
      "source": [
        "<pre>Features with multi-collinearity:\n",
        "1. Power(kw) & Max_Torque(nm) -> 0.92\n",
        "2. Power(kw) & Engine_Capacity(cc) -> 0.85\n",
        "3. Max_Torque(nm) & Engine_Capacity(cc) -> 0.82\n",
        "  "
      ]
    },
    {
      "cell_type": "markdown",
      "metadata": {
        "nteract": {
          "transient": {
            "deleting": false
          }
        }
      },
      "source": [
        "We will remove Power(kw) & Max_Torque(nm) since they have lower correlation than engine capacity(cc) with target feature Co2_Emissions(g/km)\" "
      ]
    },
    {
      "cell_type": "code",
      "execution_count": 294,
      "metadata": {
        "gather": {
          "logged": 1703709337675
        },
        "jupyter": {
          "outputs_hidden": false,
          "source_hidden": false
        },
        "nteract": {
          "transient": {
            "deleting": false
          }
        }
      },
      "outputs": [
        {
          "data": {
            "text/html": [
              "<div>\n",
              "<style scoped>\n",
              "    .dataframe tbody tr th:only-of-type {\n",
              "        vertical-align: middle;\n",
              "    }\n",
              "\n",
              "    .dataframe tbody tr th {\n",
              "        vertical-align: top;\n",
              "    }\n",
              "\n",
              "    .dataframe thead th {\n",
              "        text-align: right;\n",
              "    }\n",
              "</style>\n",
              "<table border=\"1\" class=\"dataframe\">\n",
              "  <thead>\n",
              "    <tr style=\"text-align: right;\">\n",
              "      <th></th>\n",
              "      <th>Engine_Capacity(cc)</th>\n",
              "      <th>Max_Power_Rpm</th>\n",
              "      <th>Max_Torque_Rpm</th>\n",
              "      <th>Co2_Emissions(g/km)</th>\n",
              "      <th>Fuel_Type_gasoline</th>\n",
              "      <th>Fuel_Type_gasoline / bio ethanol</th>\n",
              "      <th>Fuel_Type_lpg / gasoline</th>\n",
              "      <th>Cylinders_12, v engine</th>\n",
              "      <th>Cylinders_12, w engine</th>\n",
              "      <th>Cylinders_16, w engine</th>\n",
              "      <th>...</th>\n",
              "      <th>Cylinders_8, w engine</th>\n",
              "      <th>Fuel_System_direct injection</th>\n",
              "      <th>Fuel_System_indirect injection</th>\n",
              "      <th>Fuel_System_multijet</th>\n",
              "      <th>Fuel_System_multipoint injection</th>\n",
              "      <th>Fuel_System_singplepoint injection</th>\n",
              "      <th>Turbo_no</th>\n",
              "      <th>Turbo_yes</th>\n",
              "      <th>Turbo_yes, two</th>\n",
              "      <th>Turbo_yes, with intercooler</th>\n",
              "    </tr>\n",
              "  </thead>\n",
              "  <tbody>\n",
              "    <tr>\n",
              "      <th>0</th>\n",
              "      <td>1368.0</td>\n",
              "      <td>5500.0</td>\n",
              "      <td>3000.0</td>\n",
              "      <td>155.0</td>\n",
              "      <td>1</td>\n",
              "      <td>0</td>\n",
              "      <td>0</td>\n",
              "      <td>0</td>\n",
              "      <td>0</td>\n",
              "      <td>0</td>\n",
              "      <td>...</td>\n",
              "      <td>0</td>\n",
              "      <td>0</td>\n",
              "      <td>0</td>\n",
              "      <td>0</td>\n",
              "      <td>1</td>\n",
              "      <td>0</td>\n",
              "      <td>0</td>\n",
              "      <td>0</td>\n",
              "      <td>0</td>\n",
              "      <td>1</td>\n",
              "    </tr>\n",
              "    <tr>\n",
              "      <th>1</th>\n",
              "      <td>1368.0</td>\n",
              "      <td>5750.0</td>\n",
              "      <td>3000.0</td>\n",
              "      <td>162.0</td>\n",
              "      <td>1</td>\n",
              "      <td>0</td>\n",
              "      <td>0</td>\n",
              "      <td>0</td>\n",
              "      <td>0</td>\n",
              "      <td>0</td>\n",
              "      <td>...</td>\n",
              "      <td>0</td>\n",
              "      <td>0</td>\n",
              "      <td>0</td>\n",
              "      <td>0</td>\n",
              "      <td>1</td>\n",
              "      <td>0</td>\n",
              "      <td>0</td>\n",
              "      <td>0</td>\n",
              "      <td>0</td>\n",
              "      <td>1</td>\n",
              "    </tr>\n",
              "  </tbody>\n",
              "</table>\n",
              "<p>2 rows × 34 columns</p>\n",
              "</div>"
            ],
            "text/plain": [
              "   Engine_Capacity(cc)  Max_Power_Rpm  Max_Torque_Rpm  Co2_Emissions(g/km)  \\\n",
              "0               1368.0         5500.0          3000.0                155.0   \n",
              "1               1368.0         5750.0          3000.0                162.0   \n",
              "\n",
              "   Fuel_Type_gasoline  Fuel_Type_gasoline / bio ethanol  \\\n",
              "0                   1                                 0   \n",
              "1                   1                                 0   \n",
              "\n",
              "   Fuel_Type_lpg / gasoline  Cylinders_12, v engine  Cylinders_12, w engine  \\\n",
              "0                         0                       0                       0   \n",
              "1                         0                       0                       0   \n",
              "\n",
              "   Cylinders_16, w engine  ...  Cylinders_8, w engine  \\\n",
              "0                       0  ...                      0   \n",
              "1                       0  ...                      0   \n",
              "\n",
              "   Fuel_System_direct injection  Fuel_System_indirect injection  \\\n",
              "0                             0                               0   \n",
              "1                             0                               0   \n",
              "\n",
              "   Fuel_System_multijet  Fuel_System_multipoint injection  \\\n",
              "0                     0                                 1   \n",
              "1                     0                                 1   \n",
              "\n",
              "   Fuel_System_singplepoint injection  Turbo_no  Turbo_yes  Turbo_yes, two  \\\n",
              "0                                   0         0          0               0   \n",
              "1                                   0         0          0               0   \n",
              "\n",
              "   Turbo_yes, with intercooler  \n",
              "0                            1  \n",
              "1                            1  \n",
              "\n",
              "[2 rows x 34 columns]"
            ]
          },
          "execution_count": 294,
          "metadata": {},
          "output_type": "execute_result"
        }
      ],
      "source": [
        "Linear_Reg_df = Final_df.copy()\n",
        "Linear_Reg_df = Linear_Reg_df.drop([\"Power(kw)\",\"Max_Torque(nm)\"], axis = 1)\n",
        "Linear_Reg_df.head(2)"
      ]
    },
    {
      "cell_type": "markdown",
      "metadata": {
        "nteract": {
          "transient": {
            "deleting": false
          }
        }
      },
      "source": [
        "3. To check for Homoscedasticity"
      ]
    },
    {
      "cell_type": "markdown",
      "metadata": {
        "nteract": {
          "transient": {
            "deleting": false
          }
        }
      },
      "source": [
        "Refers to a condition in which variance of the residuals in a regression model is constant. We will check it after building the Linear Regression (OGD) \n",
        "model."
      ]
    },
    {
      "cell_type": "markdown",
      "metadata": {
        "nteract": {
          "transient": {
            "deleting": false
          }
        }
      },
      "source": [
        "4. No auto correlation"
      ]
    },
    {
      "cell_type": "markdown",
      "metadata": {
        "nteract": {
          "transient": {
            "deleting": false
          }
        }
      },
      "source": [
        "Refers to a condition in which residuals are dependent on each other. We will check it after building the Linear Regression (OGD) \n",
        "model."
      ]
    },
    {
      "cell_type": "markdown",
      "metadata": {
        "nteract": {
          "transient": {
            "deleting": false
          }
        }
      },
      "source": [
        "5. Multivariate Normality"
      ]
    },
    {
      "cell_type": "markdown",
      "metadata": {
        "nteract": {
          "transient": {
            "deleting": false
          }
        }
      },
      "source": [
        "We will use Shapiro-Wilks test to check for normality."
      ]
    },
    {
      "cell_type": "markdown",
      "metadata": {
        "nteract": {
          "transient": {
            "deleting": false
          }
        }
      },
      "source": [
        "6. Residuals are normally Distributed."
      ]
    },
    {
      "cell_type": "markdown",
      "metadata": {
        "nteract": {
          "transient": {
            "deleting": false
          }
        }
      },
      "source": [
        "We will use histogram to check for normality of residuals"
      ]
    },
    {
      "cell_type": "code",
      "execution_count": 295,
      "metadata": {
        "gather": {
          "logged": 1703709337983
        },
        "jupyter": {
          "outputs_hidden": false,
          "source_hidden": false
        },
        "nteract": {
          "transient": {
            "deleting": false
          }
        }
      },
      "outputs": [],
      "source": [
        "def Shapiro_Test(columns):\n",
        "    Result = {}\n",
        "    for column in columns:\n",
        "        Test = shapiro(Linear_Reg_df[column])\n",
        "        Result[column] = Test\n",
        "    return Result"
      ]
    },
    {
      "cell_type": "code",
      "execution_count": 296,
      "metadata": {
        "gather": {
          "logged": 1703709338399
        },
        "jupyter": {
          "outputs_hidden": false,
          "source_hidden": false
        },
        "nteract": {
          "transient": {
            "deleting": false
          }
        }
      },
      "outputs": [
        {
          "data": {
            "text/plain": [
              "{'Engine_Capacity(cc)': ShapiroResult(statistic=0.7997592687606812, pvalue=0.0),\n",
              " 'Max_Power_Rpm': ShapiroResult(statistic=0.9482992887496948, pvalue=3.8205741197928733e-28),\n",
              " 'Max_Torque_Rpm': ShapiroResult(statistic=0.9373024106025696, pvalue=1.464045300107336e-30),\n",
              " 'Co2_Emissions(g/km)': ShapiroResult(statistic=0.895675778388977, pvalue=1.9060724034818683e-37)}"
            ]
          },
          "execution_count": 296,
          "metadata": {},
          "output_type": "execute_result"
        }
      ],
      "source": [
        "Numeric_Linear_Reg_df = Linear_Reg_df[[\"Engine_Capacity(cc)\",\"Max_Power_Rpm\",\"Max_Torque_Rpm\",\"Co2_Emissions(g/km)\"]]\n",
        "columns = Numeric_Linear_Reg_df.columns\n",
        "Shapiro_Test(columns)"
      ]
    },
    {
      "cell_type": "markdown",
      "metadata": {
        "nteract": {
          "transient": {
            "deleting": false
          }
        }
      },
      "source": [
        "Since the p-value is less than .05 for all the features, we reject the null hypothesis for every feature. We have sufficient evidence to say that the sample data does not come from a normal distribution for every feature, which means the features are skewed."
      ]
    },
    {
      "cell_type": "markdown",
      "metadata": {
        "nteract": {
          "transient": {
            "deleting": false
          }
        }
      },
      "source": [
        "We will check for Skewness for this features and if the data is skewed then we will use log transform to change it to normal distribution."
      ]
    },
    {
      "cell_type": "markdown",
      "metadata": {
        "nteract": {
          "transient": {
            "deleting": false
          }
        }
      },
      "source": [
        "1.Engine_Capacity(cc)"
      ]
    },
    {
      "cell_type": "code",
      "execution_count": 297,
      "metadata": {
        "gather": {
          "logged": 1703709339049
        },
        "jupyter": {
          "outputs_hidden": false,
          "source_hidden": false
        },
        "nteract": {
          "transient": {
            "deleting": false
          }
        }
      },
      "outputs": [
        {
          "name": "stdout",
          "output_type": "stream",
          "text": [
            "Engine_Capacity(cc) (mean) : 2095.3968075938096\n",
            "Engine_Capacity(cc) (median) : 1796.0\n",
            "Engine_Capacity(cc) (mode) : 1598.0\n",
            "Engine_Capacity(cc) Skewness: 1.983579\n",
            "Engine_Capacity(cc) Kurtosis: 4.650573\n"
          ]
        },
        {
          "data": {
            "image/png": "[encoded data removed]",
            "text/plain": [
              "<Figure size 640x480 with 1 Axes>"
            ]
          },
          "metadata": {},
          "output_type": "display_data"
        }
      ],
      "source": [
        "sns.distplot(Linear_Reg_df[\"Engine_Capacity(cc)\"],bins = 20)\n",
        "plt.title('Engine_Capacity(cc) distribution')\n",
        "mean = statistics.mean(Linear_Reg_df['Engine_Capacity(cc)'])\n",
        "median = statistics.median(Linear_Reg_df['Engine_Capacity(cc)'])\n",
        "mode = statistics.mode(Linear_Reg_df['Engine_Capacity(cc)'])\n",
        "print(\"Engine_Capacity(cc) (mean) :\",mean)\n",
        "print(\"Engine_Capacity(cc) (median) :\",median)\n",
        "print(\"Engine_Capacity(cc) (mode) :\",mode)\n",
        "print(\"Engine_Capacity(cc) Skewness: %f\" % Linear_Reg_df['Engine_Capacity(cc)'].skew())\n",
        "print(\"Engine_Capacity(cc) Kurtosis: %f\" % Linear_Reg_df['Engine_Capacity(cc)'].kurt())"
      ]
    },
    {
      "cell_type": "markdown",
      "metadata": {
        "nteract": {
          "transient": {
            "deleting": false
          }
        }
      },
      "source": [
        "Since the Skewness is more than 1, we have to use Log Transform "
      ]
    },
    {
      "cell_type": "code",
      "execution_count": 298,
      "metadata": {
        "gather": {
          "logged": 1703709339537
        },
        "jupyter": {
          "outputs_hidden": false,
          "source_hidden": false
        },
        "nteract": {
          "transient": {
            "deleting": false
          }
        }
      },
      "outputs": [],
      "source": [
        "Linear_Reg_df[\"Normalized_Engine_Capacity(cc)\"] = np.log1p(Linear_Reg_df[\"Engine_Capacity(cc)\"]) "
      ]
    },
    {
      "cell_type": "code",
      "execution_count": 299,
      "metadata": {
        "gather": {
          "logged": 1703709340035
        },
        "jupyter": {
          "outputs_hidden": false,
          "source_hidden": false
        },
        "nteract": {
          "transient": {
            "deleting": false
          }
        }
      },
      "outputs": [
        {
          "name": "stdout",
          "output_type": "stream",
          "text": [
            "Normalized_Engine_Capacity(cc) (mean) : 7.542871428569795\n",
            "Normalized_Engine_Capacity(cc) (median) : 7.493873886783558\n",
            "Normalized_Engine_Capacity(cc) (mode) : 7.377133712833954\n",
            "Normalized_Engine_Capacity(cc) Skewness: 0.693233\n",
            "Normalized_Engine_Capacity(cc) Kurtosis: 0.315666\n"
          ]
        },
        {
          "data": {
            "image/png": "[encoded data removed]",
            "text/plain": [
              "<Figure size 640x480 with 1 Axes>"
            ]
          },
          "metadata": {},
          "output_type": "display_data"
        }
      ],
      "source": [
        "sns.distplot(Linear_Reg_df[\"Normalized_Engine_Capacity(cc)\"],bins = 20)\n",
        "plt.title('Normalized_Engine_Capacity(cc) distribution')\n",
        "mean = statistics.mean(Linear_Reg_df['Normalized_Engine_Capacity(cc)'])\n",
        "median = statistics.median(Linear_Reg_df['Normalized_Engine_Capacity(cc)'])\n",
        "mode = statistics.mode(Linear_Reg_df['Normalized_Engine_Capacity(cc)'])\n",
        "print(\"Normalized_Engine_Capacity(cc) (mean) :\",mean)\n",
        "print(\"Normalized_Engine_Capacity(cc) (median) :\",median)\n",
        "print(\"Normalized_Engine_Capacity(cc) (mode) :\",mode)\n",
        "print(\"Normalized_Engine_Capacity(cc) Skewness: %f\" % Linear_Reg_df['Normalized_Engine_Capacity(cc)'].skew())\n",
        "print(\"Normalized_Engine_Capacity(cc) Kurtosis: %f\" % Linear_Reg_df['Normalized_Engine_Capacity(cc)'].kurt())"
      ]
    },
    {
      "cell_type": "markdown",
      "metadata": {
        "nteract": {
          "transient": {
            "deleting": false
          }
        }
      },
      "source": [
        "Normalized_Engine_Capacity(cc) has normal distribution."
      ]
    },
    {
      "cell_type": "code",
      "execution_count": 300,
      "metadata": {
        "gather": {
          "logged": 1703709340302
        },
        "jupyter": {
          "outputs_hidden": false,
          "source_hidden": false
        },
        "nteract": {
          "transient": {
            "deleting": false
          }
        }
      },
      "outputs": [
        {
          "data": {
            "text/plain": [
              "Index(['Engine_Capacity(cc)', 'Max_Power_Rpm', 'Max_Torque_Rpm',\n",
              "       'Co2_Emissions(g/km)', 'Fuel_Type_gasoline',\n",
              "       'Fuel_Type_gasoline / bio ethanol', 'Fuel_Type_lpg / gasoline',\n",
              "       'Cylinders_12, v engine', 'Cylinders_12, w engine',\n",
              "       'Cylinders_16, w engine', 'Cylinders_2, in line', 'Cylinders_3',\n",
              "       'Cylinders_3, in line', 'Cylinders_4', 'Cylinders_4, boxer',\n",
              "       'Cylinders_4, in line', 'Cylinders_4, v engine', 'Cylinders_5, in line',\n",
              "       'Cylinders_6', 'Cylinders_6, boxer', 'Cylinders_6, in line',\n",
              "       'Cylinders_6, v engine', 'Cylinders_8, in line',\n",
              "       'Cylinders_8, v engine', 'Cylinders_8, w engine',\n",
              "       'Fuel_System_direct injection', 'Fuel_System_indirect injection',\n",
              "       'Fuel_System_multijet', 'Fuel_System_multipoint injection',\n",
              "       'Fuel_System_singplepoint injection', 'Turbo_no', 'Turbo_yes',\n",
              "       'Turbo_yes, two', 'Turbo_yes, with intercooler',\n",
              "       'Normalized_Engine_Capacity(cc)'],\n",
              "      dtype='object')"
            ]
          },
          "execution_count": 300,
          "metadata": {},
          "output_type": "execute_result"
        }
      ],
      "source": [
        "Linear_Reg_df.columns"
      ]
    },
    {
      "cell_type": "code",
      "execution_count": 301,
      "metadata": {
        "gather": {
          "logged": 1703709341060
        },
        "jupyter": {
          "outputs_hidden": false,
          "source_hidden": false
        },
        "nteract": {
          "transient": {
            "deleting": false
          }
        }
      },
      "outputs": [],
      "source": [
        "Linear_Reg_df= Linear_Reg_df.drop(\"Engine_Capacity(cc)\", axis = 1)"
      ]
    },
    {
      "cell_type": "code",
      "execution_count": 302,
      "metadata": {
        "gather": {
          "logged": 1703709341939
        },
        "jupyter": {
          "outputs_hidden": false,
          "source_hidden": false
        },
        "nteract": {
          "transient": {
            "deleting": false
          }
        }
      },
      "outputs": [
        {
          "data": {
            "text/plain": [
              "Index(['Max_Power_Rpm', 'Max_Torque_Rpm', 'Co2_Emissions(g/km)',\n",
              "       'Fuel_Type_gasoline', 'Fuel_Type_gasoline / bio ethanol',\n",
              "       'Fuel_Type_lpg / gasoline', 'Cylinders_12, v engine',\n",
              "       'Cylinders_12, w engine', 'Cylinders_16, w engine',\n",
              "       'Cylinders_2, in line', 'Cylinders_3', 'Cylinders_3, in line',\n",
              "       'Cylinders_4', 'Cylinders_4, boxer', 'Cylinders_4, in line',\n",
              "       'Cylinders_4, v engine', 'Cylinders_5, in line', 'Cylinders_6',\n",
              "       'Cylinders_6, boxer', 'Cylinders_6, in line', 'Cylinders_6, v engine',\n",
              "       'Cylinders_8, in line', 'Cylinders_8, v engine',\n",
              "       'Cylinders_8, w engine', 'Fuel_System_direct injection',\n",
              "       'Fuel_System_indirect injection', 'Fuel_System_multijet',\n",
              "       'Fuel_System_multipoint injection',\n",
              "       'Fuel_System_singplepoint injection', 'Turbo_no', 'Turbo_yes',\n",
              "       'Turbo_yes, two', 'Turbo_yes, with intercooler',\n",
              "       'Normalized_Engine_Capacity(cc)'],\n",
              "      dtype='object')"
            ]
          },
          "execution_count": 302,
          "metadata": {},
          "output_type": "execute_result"
        }
      ],
      "source": [
        "Linear_Reg_df.columns"
      ]
    },
    {
      "cell_type": "markdown",
      "metadata": {
        "nteract": {
          "transient": {
            "deleting": false
          }
        }
      },
      "source": [
        "2. Max_Power_Rpm"
      ]
    },
    {
      "cell_type": "code",
      "execution_count": 303,
      "metadata": {
        "gather": {
          "logged": 1703709343472
        },
        "jupyter": {
          "outputs_hidden": false,
          "source_hidden": false
        },
        "nteract": {
          "transient": {
            "deleting": false
          }
        }
      },
      "outputs": [
        {
          "name": "stdout",
          "output_type": "stream",
          "text": [
            "Max_Power_Rpm (mean) : 5526.097272253191\n",
            "Max_Power_Rpm (median) : 5600.0\n",
            "Max_Power_Rpm (mode) : 6000.0\n",
            "Max_Power_Rpm Skewness: -0.233971\n",
            "Max_Power_Rpm Kurtosis: 1.272961\n"
          ]
        },
        {
          "data": {
            "image/png": "[encoded data removed]",
            "text/plain": [
              "<Figure size 640x480 with 1 Axes>"
            ]
          },
          "metadata": {},
          "output_type": "display_data"
        }
      ],
      "source": [
        "sns.distplot(Linear_Reg_df[\"Max_Power_Rpm\"],bins = 20)\n",
        "plt.title('Max_Power_Rpm distribution')\n",
        "mean = statistics.mean(Linear_Reg_df['Max_Power_Rpm'])\n",
        "median = statistics.median(Linear_Reg_df['Max_Power_Rpm'])\n",
        "mode = statistics.mode(Linear_Reg_df['Max_Power_Rpm'])\n",
        "print(\"Max_Power_Rpm (mean) :\",mean)\n",
        "print(\"Max_Power_Rpm (median) :\",median)\n",
        "print(\"Max_Power_Rpm (mode) :\",mode)\n",
        "print(\"Max_Power_Rpm Skewness: %f\" % Linear_Reg_df['Max_Power_Rpm'].skew())\n",
        "print(\"Max_Power_Rpm Kurtosis: %f\" % Linear_Reg_df['Max_Power_Rpm'].kurt())"
      ]
    },
    {
      "cell_type": "markdown",
      "metadata": {
        "nteract": {
          "transient": {
            "deleting": false
          }
        }
      },
      "source": [
        "Max_Power_Rpm follows normal distribution."
      ]
    },
    {
      "cell_type": "markdown",
      "metadata": {
        "nteract": {
          "transient": {
            "deleting": false
          }
        }
      },
      "source": [
        "3. Max_Torque_Rpm"
      ]
    },
    {
      "cell_type": "code",
      "execution_count": 304,
      "metadata": {
        "gather": {
          "logged": 1703709344571
        },
        "jupyter": {
          "outputs_hidden": false,
          "source_hidden": false
        },
        "nteract": {
          "transient": {
            "deleting": false
          }
        }
      },
      "outputs": [
        {
          "name": "stdout",
          "output_type": "stream",
          "text": [
            "Max_Torque_Rpm (mean) : 3053.0685893836685\n",
            "Max_Torque_Rpm (median) : 3138.226329442283\n",
            "Max_Torque_Rpm (mode) : 4000.0\n",
            "Max_Torque_Rpm Skewness: 0.088857\n",
            "Max_Torque_Rpm Kurtosis: -0.988788\n"
          ]
        },
        {
          "data": {
            "image/png": "[encoded data removed]",
            "text/plain": [
              "<Figure size 640x480 with 1 Axes>"
            ]
          },
          "metadata": {},
          "output_type": "display_data"
        }
      ],
      "source": [
        "sns.distplot(Linear_Reg_df[\"Max_Torque_Rpm\"],bins = 20)\n",
        "plt.title('Max_Torque_Rpm distribution')\n",
        "mean = statistics.mean(Linear_Reg_df['Max_Torque_Rpm'])\n",
        "median = statistics.median(Linear_Reg_df['Max_Torque_Rpm'])\n",
        "mode = statistics.mode(Linear_Reg_df['Max_Torque_Rpm'])\n",
        "print(\"Max_Torque_Rpm (mean) :\",mean)\n",
        "print(\"Max_Torque_Rpm (median) :\",median)\n",
        "print(\"Max_Torque_Rpm (mode) :\",mode)\n",
        "print(\"Max_Torque_Rpm Skewness: %f\" % Linear_Reg_df['Max_Torque_Rpm'].skew())\n",
        "print(\"Max_Torque_Rpm Kurtosis: %f\" % Linear_Reg_df['Max_Torque_Rpm'].kurt())"
      ]
    },
    {
      "cell_type": "markdown",
      "metadata": {
        "nteract": {
          "transient": {
            "deleting": false
          }
        }
      },
      "source": [
        "Since this feature follows Bimodal distribution we will remove this feature.\n"
      ]
    },
    {
      "cell_type": "code",
      "execution_count": 305,
      "metadata": {
        "gather": {
          "logged": 1703709345181
        },
        "jupyter": {
          "outputs_hidden": false,
          "source_hidden": false
        },
        "nteract": {
          "transient": {
            "deleting": false
          }
        }
      },
      "outputs": [
        {
          "data": {
            "text/plain": [
              "Index(['Max_Power_Rpm', 'Co2_Emissions(g/km)', 'Fuel_Type_gasoline',\n",
              "       'Fuel_Type_gasoline / bio ethanol', 'Fuel_Type_lpg / gasoline',\n",
              "       'Cylinders_12, v engine', 'Cylinders_12, w engine',\n",
              "       'Cylinders_16, w engine', 'Cylinders_2, in line', 'Cylinders_3',\n",
              "       'Cylinders_3, in line', 'Cylinders_4', 'Cylinders_4, boxer',\n",
              "       'Cylinders_4, in line', 'Cylinders_4, v engine', 'Cylinders_5, in line',\n",
              "       'Cylinders_6', 'Cylinders_6, boxer', 'Cylinders_6, in line',\n",
              "       'Cylinders_6, v engine', 'Cylinders_8, in line',\n",
              "       'Cylinders_8, v engine', 'Cylinders_8, w engine',\n",
              "       'Fuel_System_direct injection', 'Fuel_System_indirect injection',\n",
              "       'Fuel_System_multijet', 'Fuel_System_multipoint injection',\n",
              "       'Fuel_System_singplepoint injection', 'Turbo_no', 'Turbo_yes',\n",
              "       'Turbo_yes, two', 'Turbo_yes, with intercooler',\n",
              "       'Normalized_Engine_Capacity(cc)'],\n",
              "      dtype='object')"
            ]
          },
          "execution_count": 305,
          "metadata": {},
          "output_type": "execute_result"
        }
      ],
      "source": [
        "Linear_Reg_df = Linear_Reg_df.drop(\"Max_Torque_Rpm\", axis = 1)\n",
        "Linear_Reg_df.columns"
      ]
    },
    {
      "cell_type": "markdown",
      "metadata": {
        "nteract": {
          "transient": {
            "deleting": false
          }
        }
      },
      "source": [
        "4. Co2_Emissions(g/km)"
      ]
    },
    {
      "cell_type": "code",
      "execution_count": 306,
      "metadata": {
        "gather": {
          "logged": 1703709346683
        },
        "jupyter": {
          "outputs_hidden": false,
          "source_hidden": false
        },
        "nteract": {
          "transient": {
            "deleting": false
          }
        }
      },
      "outputs": [
        {
          "name": "stdout",
          "output_type": "stream",
          "text": [
            "Co2_Emissions(g/km) (mean) : 186.13840976020194\n",
            "Co2_Emissions(g/km) (median) : 172.0\n",
            "Co2_Emissions(g/km) (mode) : 139.0\n",
            "Co2_Emissions(g/km) Skewness: 1.544662\n",
            "Co2_Emissions(g/km) Kurtosis: 4.148374\n"
          ]
        },
        {
          "data": {
            "image/png": "[encoded data removed]",
            "text/plain": [
              "<Figure size 640x480 with 1 Axes>"
            ]
          },
          "metadata": {},
          "output_type": "display_data"
        }
      ],
      "source": [
        "sns.distplot(Linear_Reg_df[\"Co2_Emissions(g/km)\"],bins = 20)\n",
        "plt.title('Co2_Emissions(g/km) distribution')\n",
        "mean = statistics.mean(Linear_Reg_df['Co2_Emissions(g/km)'])\n",
        "median = statistics.median(Linear_Reg_df['Co2_Emissions(g/km)'])\n",
        "mode = statistics.mode(Linear_Reg_df['Co2_Emissions(g/km)'])\n",
        "print(\"Co2_Emissions(g/km) (mean) :\",mean)\n",
        "print(\"Co2_Emissions(g/km) (median) :\",median)\n",
        "print(\"Co2_Emissions(g/km) (mode) :\",mode)\n",
        "print(\"Co2_Emissions(g/km) Skewness: %f\" % Linear_Reg_df['Co2_Emissions(g/km)'].skew())\n",
        "print(\"Co2_Emissions(g/km) Kurtosis: %f\" % Linear_Reg_df['Co2_Emissions(g/km)'].kurt())"
      ]
    },
    {
      "cell_type": "markdown",
      "metadata": {
        "nteract": {
          "transient": {
            "deleting": false
          }
        }
      },
      "source": [
        "Since the Skewness is more than 1, we have to use Log Transform "
      ]
    },
    {
      "cell_type": "code",
      "execution_count": 307,
      "metadata": {
        "gather": {
          "logged": 1703709346977
        },
        "jupyter": {
          "outputs_hidden": false,
          "source_hidden": false
        },
        "nteract": {
          "transient": {
            "deleting": false
          }
        }
      },
      "outputs": [],
      "source": [
        "Linear_Reg_df[\"Normalized_Co2_Emissions(g/km)\"] = np.log1p(Linear_Reg_df[\"Co2_Emissions(g/km)\"]) "
      ]
    },
    {
      "cell_type": "code",
      "execution_count": 308,
      "metadata": {
        "gather": {
          "logged": 1703709347427
        },
        "jupyter": {
          "outputs_hidden": false,
          "source_hidden": false
        },
        "nteract": {
          "transient": {
            "deleting": false
          }
        }
      },
      "outputs": [
        {
          "name": "stdout",
          "output_type": "stream",
          "text": [
            "Normalized_Co2_Emissions(g/km) (mean) : 5.170881913945962\n",
            "Normalized_Co2_Emissions(g/km) (median) : 5.153291594497778\n",
            "Normalized_Co2_Emissions(g/km) (mode) : 4.941642422609304\n",
            "Normalized_Co2_Emissions(g/km) Skewness: -0.430782\n",
            "Normalized_Co2_Emissions(g/km) Kurtosis: 3.917156\n"
          ]
        },
        {
          "data": {
            "image/png": "[encoded data removed]",
            "text/plain": [
              "<Figure size 640x480 with 1 Axes>"
            ]
          },
          "metadata": {},
          "output_type": "display_data"
        }
      ],
      "source": [
        "sns.distplot(Linear_Reg_df[\"Normalized_Co2_Emissions(g/km)\"],bins = 20)\n",
        "plt.title('Normalized_Co2_Emissions(g/km) distribution')\n",
        "mean = statistics.mean(Linear_Reg_df['Normalized_Co2_Emissions(g/km)'])\n",
        "median = statistics.median(Linear_Reg_df['Normalized_Co2_Emissions(g/km)'])\n",
        "mode = statistics.mode(Linear_Reg_df['Normalized_Co2_Emissions(g/km)'])\n",
        "print(\"Normalized_Co2_Emissions(g/km) (mean) :\",mean)\n",
        "print(\"Normalized_Co2_Emissions(g/km) (median) :\",median)\n",
        "print(\"Normalized_Co2_Emissions(g/km) (mode) :\",mode)\n",
        "print(\"Normalized_Co2_Emissions(g/km) Skewness: %f\" % Linear_Reg_df['Normalized_Co2_Emissions(g/km)'].skew())\n",
        "print(\"Normalized_Co2_Emissions(g/km) Kurtosis: %f\" % Linear_Reg_df['Normalized_Co2_Emissions(g/km)'].kurt())"
      ]
    },
    {
      "cell_type": "code",
      "execution_count": 309,
      "metadata": {
        "gather": {
          "logged": 1703709347745
        },
        "jupyter": {
          "outputs_hidden": false,
          "source_hidden": false
        },
        "nteract": {
          "transient": {
            "deleting": false
          }
        }
      },
      "outputs": [
        {
          "data": {
            "text/plain": [
              "Index(['Max_Power_Rpm', 'Co2_Emissions(g/km)', 'Fuel_Type_gasoline',\n",
              "       'Fuel_Type_gasoline / bio ethanol', 'Fuel_Type_lpg / gasoline',\n",
              "       'Cylinders_12, v engine', 'Cylinders_12, w engine',\n",
              "       'Cylinders_16, w engine', 'Cylinders_2, in line', 'Cylinders_3',\n",
              "       'Cylinders_3, in line', 'Cylinders_4', 'Cylinders_4, boxer',\n",
              "       'Cylinders_4, in line', 'Cylinders_4, v engine', 'Cylinders_5, in line',\n",
              "       'Cylinders_6', 'Cylinders_6, boxer', 'Cylinders_6, in line',\n",
              "       'Cylinders_6, v engine', 'Cylinders_8, in line',\n",
              "       'Cylinders_8, v engine', 'Cylinders_8, w engine',\n",
              "       'Fuel_System_direct injection', 'Fuel_System_indirect injection',\n",
              "       'Fuel_System_multijet', 'Fuel_System_multipoint injection',\n",
              "       'Fuel_System_singplepoint injection', 'Turbo_no', 'Turbo_yes',\n",
              "       'Turbo_yes, two', 'Turbo_yes, with intercooler',\n",
              "       'Normalized_Engine_Capacity(cc)', 'Normalized_Co2_Emissions(g/km)'],\n",
              "      dtype='object')"
            ]
          },
          "execution_count": 309,
          "metadata": {},
          "output_type": "execute_result"
        }
      ],
      "source": [
        "Linear_Reg_df.columns"
      ]
    },
    {
      "cell_type": "code",
      "execution_count": 310,
      "metadata": {
        "gather": {
          "logged": 1703709348265
        },
        "jupyter": {
          "outputs_hidden": false,
          "source_hidden": false
        },
        "nteract": {
          "transient": {
            "deleting": false
          }
        }
      },
      "outputs": [],
      "source": [
        "Linear_Reg_df= Linear_Reg_df.drop(\"Co2_Emissions(g/km)\", axis = 1)"
      ]
    },
    {
      "cell_type": "code",
      "execution_count": 311,
      "metadata": {
        "gather": {
          "logged": 1703709348696
        },
        "jupyter": {
          "outputs_hidden": false,
          "source_hidden": false
        },
        "nteract": {
          "transient": {
            "deleting": false
          }
        }
      },
      "outputs": [
        {
          "data": {
            "text/plain": [
              "Index(['Max_Power_Rpm', 'Fuel_Type_gasoline',\n",
              "       'Fuel_Type_gasoline / bio ethanol', 'Fuel_Type_lpg / gasoline',\n",
              "       'Cylinders_12, v engine', 'Cylinders_12, w engine',\n",
              "       'Cylinders_16, w engine', 'Cylinders_2, in line', 'Cylinders_3',\n",
              "       'Cylinders_3, in line', 'Cylinders_4', 'Cylinders_4, boxer',\n",
              "       'Cylinders_4, in line', 'Cylinders_4, v engine', 'Cylinders_5, in line',\n",
              "       'Cylinders_6', 'Cylinders_6, boxer', 'Cylinders_6, in line',\n",
              "       'Cylinders_6, v engine', 'Cylinders_8, in line',\n",
              "       'Cylinders_8, v engine', 'Cylinders_8, w engine',\n",
              "       'Fuel_System_direct injection', 'Fuel_System_indirect injection',\n",
              "       'Fuel_System_multijet', 'Fuel_System_multipoint injection',\n",
              "       'Fuel_System_singplepoint injection', 'Turbo_no', 'Turbo_yes',\n",
              "       'Turbo_yes, two', 'Turbo_yes, with intercooler',\n",
              "       'Normalized_Engine_Capacity(cc)', 'Normalized_Co2_Emissions(g/km)'],\n",
              "      dtype='object')"
            ]
          },
          "execution_count": 311,
          "metadata": {},
          "output_type": "execute_result"
        }
      ],
      "source": [
        "Linear_Reg_df.columns"
      ]
    },
    {
      "cell_type": "markdown",
      "metadata": {
        "nteract": {
          "transient": {
            "deleting": false
          }
        }
      },
      "source": [
        "Our Data is ready for Linear Regression model and satisfies 3 out of 5 assumptions. The other 2 assumptions will be tested after model training."
      ]
    },
    {
      "cell_type": "code",
      "execution_count": 312,
      "metadata": {
        "gather": {
          "logged": 1703709349169
        },
        "jupyter": {
          "outputs_hidden": false,
          "source_hidden": false
        },
        "nteract": {
          "transient": {
            "deleting": false
          }
        }
      },
      "outputs": [
        {
          "data": {
            "text/html": [
              "<div>\n",
              "<style scoped>\n",
              "    .dataframe tbody tr th:only-of-type {\n",
              "        vertical-align: middle;\n",
              "    }\n",
              "\n",
              "    .dataframe tbody tr th {\n",
              "        vertical-align: top;\n",
              "    }\n",
              "\n",
              "    .dataframe thead th {\n",
              "        text-align: right;\n",
              "    }\n",
              "</style>\n",
              "<table border=\"1\" class=\"dataframe\">\n",
              "  <thead>\n",
              "    <tr style=\"text-align: right;\">\n",
              "      <th></th>\n",
              "      <th>Max_Power_Rpm</th>\n",
              "      <th>Fuel_Type_gasoline</th>\n",
              "      <th>Fuel_Type_gasoline / bio ethanol</th>\n",
              "      <th>Fuel_Type_lpg / gasoline</th>\n",
              "      <th>Cylinders_12, v engine</th>\n",
              "      <th>Cylinders_12, w engine</th>\n",
              "      <th>Cylinders_16, w engine</th>\n",
              "      <th>Cylinders_2, in line</th>\n",
              "      <th>Cylinders_3</th>\n",
              "      <th>Cylinders_3, in line</th>\n",
              "      <th>...</th>\n",
              "      <th>Fuel_System_indirect injection</th>\n",
              "      <th>Fuel_System_multijet</th>\n",
              "      <th>Fuel_System_multipoint injection</th>\n",
              "      <th>Fuel_System_singplepoint injection</th>\n",
              "      <th>Turbo_no</th>\n",
              "      <th>Turbo_yes</th>\n",
              "      <th>Turbo_yes, two</th>\n",
              "      <th>Turbo_yes, with intercooler</th>\n",
              "      <th>Normalized_Engine_Capacity(cc)</th>\n",
              "      <th>Normalized_Co2_Emissions(g/km)</th>\n",
              "    </tr>\n",
              "  </thead>\n",
              "  <tbody>\n",
              "    <tr>\n",
              "      <th>0</th>\n",
              "      <td>5500.0</td>\n",
              "      <td>1</td>\n",
              "      <td>0</td>\n",
              "      <td>0</td>\n",
              "      <td>0</td>\n",
              "      <td>0</td>\n",
              "      <td>0</td>\n",
              "      <td>0</td>\n",
              "      <td>0</td>\n",
              "      <td>0</td>\n",
              "      <td>...</td>\n",
              "      <td>0</td>\n",
              "      <td>0</td>\n",
              "      <td>1</td>\n",
              "      <td>0</td>\n",
              "      <td>0</td>\n",
              "      <td>0</td>\n",
              "      <td>0</td>\n",
              "      <td>1</td>\n",
              "      <td>7.221836</td>\n",
              "      <td>5.049856</td>\n",
              "    </tr>\n",
              "    <tr>\n",
              "      <th>1</th>\n",
              "      <td>5750.0</td>\n",
              "      <td>1</td>\n",
              "      <td>0</td>\n",
              "      <td>0</td>\n",
              "      <td>0</td>\n",
              "      <td>0</td>\n",
              "      <td>0</td>\n",
              "      <td>0</td>\n",
              "      <td>0</td>\n",
              "      <td>0</td>\n",
              "      <td>...</td>\n",
              "      <td>0</td>\n",
              "      <td>0</td>\n",
              "      <td>1</td>\n",
              "      <td>0</td>\n",
              "      <td>0</td>\n",
              "      <td>0</td>\n",
              "      <td>0</td>\n",
              "      <td>1</td>\n",
              "      <td>7.221836</td>\n",
              "      <td>5.093750</td>\n",
              "    </tr>\n",
              "  </tbody>\n",
              "</table>\n",
              "<p>2 rows × 33 columns</p>\n",
              "</div>"
            ],
            "text/plain": [
              "   Max_Power_Rpm  Fuel_Type_gasoline  Fuel_Type_gasoline / bio ethanol  \\\n",
              "0         5500.0                   1                                 0   \n",
              "1         5750.0                   1                                 0   \n",
              "\n",
              "   Fuel_Type_lpg / gasoline  Cylinders_12, v engine  Cylinders_12, w engine  \\\n",
              "0                         0                       0                       0   \n",
              "1                         0                       0                       0   \n",
              "\n",
              "   Cylinders_16, w engine  Cylinders_2, in line  Cylinders_3  \\\n",
              "0                       0                     0            0   \n",
              "1                       0                     0            0   \n",
              "\n",
              "   Cylinders_3, in line  ...  Fuel_System_indirect injection  \\\n",
              "0                     0  ...                               0   \n",
              "1                     0  ...                               0   \n",
              "\n",
              "   Fuel_System_multijet  Fuel_System_multipoint injection  \\\n",
              "0                     0                                 1   \n",
              "1                     0                                 1   \n",
              "\n",
              "   Fuel_System_singplepoint injection  Turbo_no  Turbo_yes  Turbo_yes, two  \\\n",
              "0                                   0         0          0               0   \n",
              "1                                   0         0          0               0   \n",
              "\n",
              "   Turbo_yes, with intercooler  Normalized_Engine_Capacity(cc)  \\\n",
              "0                            1                        7.221836   \n",
              "1                            1                        7.221836   \n",
              "\n",
              "   Normalized_Co2_Emissions(g/km)  \n",
              "0                        5.049856  \n",
              "1                        5.093750  \n",
              "\n",
              "[2 rows x 33 columns]"
            ]
          },
          "execution_count": 312,
          "metadata": {},
          "output_type": "execute_result"
        }
      ],
      "source": [
        "Linear_Reg_df.head(2)"
      ]
    },
    {
      "cell_type": "code",
      "execution_count": 313,
      "metadata": {
        "gather": {
          "logged": 1703709349579
        },
        "jupyter": {
          "outputs_hidden": false,
          "source_hidden": false
        },
        "nteract": {
          "transient": {
            "deleting": false
          }
        }
      },
      "outputs": [],
      "source": [
        "y = Linear_Reg_df[\"Normalized_Co2_Emissions(g/km)\"]\n",
        "X = Linear_Reg_df.drop(\"Normalized_Co2_Emissions(g/km)\", axis = 1)"
      ]
    },
    {
      "cell_type": "code",
      "execution_count": 314,
      "metadata": {
        "gather": {
          "logged": 1703709349948
        },
        "jupyter": {
          "outputs_hidden": false,
          "source_hidden": false
        },
        "nteract": {
          "transient": {
            "deleting": false
          }
        }
      },
      "outputs": [],
      "source": [
        "X_train, X_test, y_train, y_test = train_test_split(\n",
        "    X,\n",
        "    y,\n",
        "    test_size=0.20,\n",
        "    random_state = 101\n",
        ")"
      ]
    },
    {
      "cell_type": "markdown",
      "metadata": {
        "nteract": {
          "transient": {
            "deleting": false
          }
        }
      },
      "source": [
        "If features are on different scales certain weights may update faster than the other ones, so they should be roughly on the same scale."
      ]
    },
    {
      "cell_type": "code",
      "execution_count": 315,
      "metadata": {
        "gather": {
          "logged": 1703709350447
        },
        "jupyter": {
          "outputs_hidden": false,
          "source_hidden": false
        },
        "nteract": {
          "transient": {
            "deleting": false
          }
        }
      },
      "outputs": [],
      "source": [
        "scaler = StandardScaler()\n",
        "scaler.fit(X_train)\n",
        "scaled_X_train = scaler.transform(X_train)\n",
        "scaled_X_test = scaler.transform(X_test)"
      ]
    },
    {
      "cell_type": "code",
      "execution_count": 316,
      "metadata": {
        "gather": {
          "logged": 1703709351083
        },
        "jupyter": {
          "outputs_hidden": false,
          "source_hidden": false
        },
        "nteract": {
          "transient": {
            "deleting": false
          }
        }
      },
      "outputs": [],
      "source": [
        "# set name for logging\n",
        "mlflow.set_experiment(\"Co2 Emission Prediction\")\n",
        "# enable autologging with MLflow\n",
        "mlflow.sklearn.autolog()"
      ]
    },
    {
      "cell_type": "code",
      "execution_count": 317,
      "metadata": {
        "gather": {
          "logged": 1703709357319
        },
        "jupyter": {
          "outputs_hidden": false,
          "source_hidden": false
        },
        "nteract": {
          "transient": {
            "deleting": false
          }
        }
      },
      "outputs": [
        {
          "name": "stderr",
          "output_type": "stream",
          "text": [
            "2023/12/27 20:35:49 WARNING mlflow.sklearn: Failed to log training dataset information to MLflow Tracking. Reason: 'Series' object has no attribute 'flatten'\n"
          ]
        },
        {
          "name": "stdout",
          "output_type": "stream",
          "text": [
            "Training Completed.\n",
            "scaled_X_test values predicted. Saved in test_predictions\n",
            "test_residuals found.\n",
            "MAE: 24.365882653160188\n",
            "MSE: 1398.7986853834627\n",
            "RMSE: 37.40051718069501\n"
          ]
        }
      ],
      "source": [
        "# Train with Linear Regression\n",
        "mlflow.start_run()\n",
        "model = LinearRegression()\n",
        "model.fit(scaled_X_train, y_train)\n",
        "print(\"Training Completed.\")\n",
        "\n",
        "test_predictions = model.predict(scaled_X_test)\n",
        "print(\"scaled_X_test values predicted. Saved in test_predictions\")\n",
        "\n",
        "#Return to original unit\n",
        "y_test = np.exp(y_test)\n",
        "test_predictions = np.exp(test_predictions)\n",
        "\n",
        "test_residuals = y_test - test_predictions\n",
        "print(\"test_residuals found.\")\n",
        "\n",
        "MAE = mean_absolute_error(y_test, test_predictions)\n",
        "MSE = mean_squared_error(y_test,test_predictions)\n",
        "RMSE = np.sqrt(MSE)\n",
        "\n",
        "# Stop logging for this model\n",
        "mlflow.end_run()\n",
        "\n",
        "print(\"MAE:\", MAE)\n",
        "print(\"MSE:\", MSE)\n",
        "print(\"RMSE:\", RMSE)"
      ]
    },
    {
      "cell_type": "code",
      "execution_count": 318,
      "metadata": {
        "gather": {
          "logged": 1703709357602
        },
        "jupyter": {
          "outputs_hidden": false,
          "source_hidden": false
        },
        "nteract": {
          "transient": {
            "deleting": false
          }
        }
      },
      "outputs": [],
      "source": [
        "Model_Error_rates[\"Linear Regression\"] = RMSE"
      ]
    },
    {
      "cell_type": "code",
      "execution_count": 319,
      "metadata": {
        "gather": {
          "logged": 1703709357896
        },
        "jupyter": {
          "outputs_hidden": false,
          "source_hidden": false
        },
        "nteract": {
          "transient": {
            "deleting": false
          }
        }
      },
      "outputs": [
        {
          "name": "stdout",
          "output_type": "stream",
          "text": [
            "1123 -> Actual value - 219.00000000000003, Predicted value - 200.43198235334344\n",
            "2169 -> Actual value - 221.99999999999997, Predicted value - 186.57545641768866\n",
            "2286 -> Actual value - 122.00000000000003, Predicted value - 105.79589994859906\n",
            "2050 -> Actual value - 208.99999999999997, Predicted value - 207.77212427363534\n",
            "1265 -> Actual value - 170.99999999999991, Predicted value - 168.3797019830885\n",
            "2322 -> Actual value - 71.0, Predicted value - 154.25401321780572\n",
            "459 -> Actual value - 139.99999999999994, Predicted value - 153.2236435104551\n",
            "1360 -> Actual value - 266.0, Predicted value - 223.34573236436944\n",
            "1694 -> Actual value - 156.0, Predicted value - 189.08769049801572\n",
            "126 -> Actual value - 195.0, Predicted value - 189.26837737324936\n",
            "1955 -> Actual value - 219.00000000000003, Predicted value - 207.86795940459854\n"
          ]
        }
      ],
      "source": [
        "Count = 0\n",
        "for index, value in y_test.items():\n",
        "    print(f\"{index} -> Actual value - {value}, Predicted value - {test_predictions[Count]}\")\n",
        "    Count += 1\n",
        "    if Count == 11:\n",
        "        break"
      ]
    },
    {
      "cell_type": "markdown",
      "metadata": {
        "nteract": {
          "transient": {
            "deleting": false
          }
        }
      },
      "source": [
        "Assumption 3 -> Homoscedasticity"
      ]
    },
    {
      "cell_type": "code",
      "execution_count": 320,
      "metadata": {
        "gather": {
          "logged": 1703709358381
        },
        "jupyter": {
          "outputs_hidden": false,
          "source_hidden": false
        },
        "nteract": {
          "transient": {
            "deleting": false
          }
        }
      },
      "outputs": [
        {
          "data": {
            "image/png": "[encoded data removed]",
            "text/plain": [
              "<Figure size 640x480 with 1 Axes>"
            ]
          },
          "metadata": {},
          "output_type": "display_data"
        }
      ],
      "source": [
        "sns.scatterplot(x = test_predictions, y = test_residuals)\n",
        "plt.axhline(y = 0, color = \"pink\")\n",
        "plt.show()"
      ]
    },
    {
      "cell_type": "markdown",
      "metadata": {
        "nteract": {
          "transient": {
            "deleting": false
          }
        }
      },
      "source": [
        "The residuals are good for most of the predictions, only few points have high error rate.  There are equal no of points in both side of the axis y = 0 & but there is some kind of pattern so we will do a test for homoscedasticity."
      ]
    },
    {
      "cell_type": "markdown",
      "metadata": {
        "nteract": {
          "transient": {
            "deleting": false
          }
        }
      },
      "source": [
        "Assumption 6. Normality of residuals"
      ]
    },
    {
      "cell_type": "code",
      "execution_count": 321,
      "metadata": {
        "gather": {
          "logged": 1703709358766
        },
        "jupyter": {
          "outputs_hidden": false,
          "source_hidden": false
        },
        "nteract": {
          "transient": {
            "deleting": false
          }
        }
      },
      "outputs": [
        {
          "data": {
            "text/plain": [
              "[]"
            ]
          },
          "execution_count": 321,
          "metadata": {},
          "output_type": "execute_result"
        },
        {
          "data": {
            "image/png": "[encoded data removed]",
            "text/plain": [
              "<Figure size 640x480 with 1 Axes>"
            ]
          },
          "metadata": {},
          "output_type": "display_data"
        }
      ],
      "source": [
        "sns.distplot(test_residuals)\n",
        "plt.plot()"
      ]
    },
    {
      "cell_type": "markdown",
      "metadata": {
        "nteract": {
          "transient": {
            "deleting": false
          }
        }
      },
      "source": [
        "Since the residuals have few high errors, the distribution is in the right side of the graph with mean, median, mode in the same range."
      ]
    },
    {
      "cell_type": "code",
      "execution_count": 322,
      "metadata": {
        "gather": {
          "logged": 1703709359082
        },
        "jupyter": {
          "outputs_hidden": false,
          "source_hidden": false
        },
        "nteract": {
          "transient": {
            "deleting": false
          }
        }
      },
      "outputs": [
        {
          "name": "stdout",
          "output_type": "stream",
          "text": [
            "Max_Power_Rpm (mean) : 3.457589236426908\n",
            "Max_Power_Rpm (median) : 3.503484340310095\n",
            "Max_Power_Rpm (mode) : 2.8236493404114356\n"
          ]
        }
      ],
      "source": [
        "mean = statistics.mean(test_residuals)\n",
        "median = statistics.median(test_residuals)\n",
        "mode = statistics.mode(test_residuals)\n",
        "print(\"Max_Power_Rpm (mean) :\",mean)\n",
        "print(\"Max_Power_Rpm (median) :\",median)\n",
        "print(\"Max_Power_Rpm (mode) :\",mode)"
      ]
    },
    {
      "cell_type": "markdown",
      "metadata": {
        "nteract": {
          "transient": {
            "deleting": false
          }
        }
      },
      "source": [
        "<pre>Assumption 4. No Auto correlation\n",
        "We will use Durbin Watson test to check if there is auto correlation.\n",
        "If the value is around 2, then no auto correlation."
      ]
    },
    {
      "cell_type": "code",
      "execution_count": 323,
      "metadata": {
        "gather": {
          "logged": 1703709359420
        },
        "jupyter": {
          "outputs_hidden": false,
          "source_hidden": false
        },
        "nteract": {
          "transient": {
            "deleting": false
          }
        }
      },
      "outputs": [
        {
          "data": {
            "text/plain": [
              "2.0334871539507717"
            ]
          },
          "execution_count": 323,
          "metadata": {},
          "output_type": "execute_result"
        }
      ],
      "source": [
        "from statsmodels.stats.stattools import durbin_watson\n",
        "durbin_watson(test_residuals)"
      ]
    },
    {
      "cell_type": "markdown",
      "metadata": {
        "nteract": {
          "transient": {
            "deleting": false
          }
        }
      },
      "source": [
        "The value is 1.9946414838284126. So no auto correlation."
      ]
    },
    {
      "cell_type": "markdown",
      "metadata": {
        "nteract": {
          "transient": {
            "deleting": false
          }
        }
      },
      "source": [
        "#### Support Vector Regression"
      ]
    },
    {
      "cell_type": "code",
      "execution_count": 324,
      "metadata": {
        "gather": {
          "logged": 1703709359755
        },
        "jupyter": {
          "outputs_hidden": false,
          "source_hidden": false
        },
        "nteract": {
          "transient": {
            "deleting": false
          }
        }
      },
      "outputs": [],
      "source": [
        "SVR_df = Final_df.copy()"
      ]
    },
    {
      "cell_type": "code",
      "execution_count": 325,
      "metadata": {
        "gather": {
          "logged": 1703709360146
        },
        "jupyter": {
          "outputs_hidden": false,
          "source_hidden": false
        },
        "nteract": {
          "transient": {
            "deleting": false
          }
        }
      },
      "outputs": [
        {
          "data": {
            "text/html": [
              "<div>\n",
              "<style scoped>\n",
              "    .dataframe tbody tr th:only-of-type {\n",
              "        vertical-align: middle;\n",
              "    }\n",
              "\n",
              "    .dataframe tbody tr th {\n",
              "        vertical-align: top;\n",
              "    }\n",
              "\n",
              "    .dataframe thead th {\n",
              "        text-align: right;\n",
              "    }\n",
              "</style>\n",
              "<table border=\"1\" class=\"dataframe\">\n",
              "  <thead>\n",
              "    <tr style=\"text-align: right;\">\n",
              "      <th></th>\n",
              "      <th>Power(kw)</th>\n",
              "      <th>Max_Torque(nm)</th>\n",
              "      <th>Engine_Capacity(cc)</th>\n",
              "      <th>Max_Power_Rpm</th>\n",
              "      <th>Max_Torque_Rpm</th>\n",
              "      <th>Co2_Emissions(g/km)</th>\n",
              "      <th>Fuel_Type_gasoline</th>\n",
              "      <th>Fuel_Type_gasoline / bio ethanol</th>\n",
              "      <th>Fuel_Type_lpg / gasoline</th>\n",
              "      <th>Cylinders_12, v engine</th>\n",
              "      <th>...</th>\n",
              "      <th>Cylinders_8, w engine</th>\n",
              "      <th>Fuel_System_direct injection</th>\n",
              "      <th>Fuel_System_indirect injection</th>\n",
              "      <th>Fuel_System_multijet</th>\n",
              "      <th>Fuel_System_multipoint injection</th>\n",
              "      <th>Fuel_System_singplepoint injection</th>\n",
              "      <th>Turbo_no</th>\n",
              "      <th>Turbo_yes</th>\n",
              "      <th>Turbo_yes, two</th>\n",
              "      <th>Turbo_yes, with intercooler</th>\n",
              "    </tr>\n",
              "  </thead>\n",
              "  <tbody>\n",
              "    <tr>\n",
              "      <th>0</th>\n",
              "      <td>99.0</td>\n",
              "      <td>206.0</td>\n",
              "      <td>1368.0</td>\n",
              "      <td>5500.0</td>\n",
              "      <td>3000.0</td>\n",
              "      <td>155.0</td>\n",
              "      <td>1</td>\n",
              "      <td>0</td>\n",
              "      <td>0</td>\n",
              "      <td>0</td>\n",
              "      <td>...</td>\n",
              "      <td>0</td>\n",
              "      <td>0</td>\n",
              "      <td>0</td>\n",
              "      <td>0</td>\n",
              "      <td>1</td>\n",
              "      <td>0</td>\n",
              "      <td>0</td>\n",
              "      <td>0</td>\n",
              "      <td>0</td>\n",
              "      <td>1</td>\n",
              "    </tr>\n",
              "    <tr>\n",
              "      <th>1</th>\n",
              "      <td>114.0</td>\n",
              "      <td>201.0</td>\n",
              "      <td>1368.0</td>\n",
              "      <td>5750.0</td>\n",
              "      <td>3000.0</td>\n",
              "      <td>162.0</td>\n",
              "      <td>1</td>\n",
              "      <td>0</td>\n",
              "      <td>0</td>\n",
              "      <td>0</td>\n",
              "      <td>...</td>\n",
              "      <td>0</td>\n",
              "      <td>0</td>\n",
              "      <td>0</td>\n",
              "      <td>0</td>\n",
              "      <td>1</td>\n",
              "      <td>0</td>\n",
              "      <td>0</td>\n",
              "      <td>0</td>\n",
              "      <td>0</td>\n",
              "      <td>1</td>\n",
              "    </tr>\n",
              "  </tbody>\n",
              "</table>\n",
              "<p>2 rows × 36 columns</p>\n",
              "</div>"
            ],
            "text/plain": [
              "   Power(kw)  Max_Torque(nm)  Engine_Capacity(cc)  Max_Power_Rpm  \\\n",
              "0       99.0           206.0               1368.0         5500.0   \n",
              "1      114.0           201.0               1368.0         5750.0   \n",
              "\n",
              "   Max_Torque_Rpm  Co2_Emissions(g/km)  Fuel_Type_gasoline  \\\n",
              "0          3000.0                155.0                   1   \n",
              "1          3000.0                162.0                   1   \n",
              "\n",
              "   Fuel_Type_gasoline / bio ethanol  Fuel_Type_lpg / gasoline  \\\n",
              "0                                 0                         0   \n",
              "1                                 0                         0   \n",
              "\n",
              "   Cylinders_12, v engine  ...  Cylinders_8, w engine  \\\n",
              "0                       0  ...                      0   \n",
              "1                       0  ...                      0   \n",
              "\n",
              "   Fuel_System_direct injection  Fuel_System_indirect injection  \\\n",
              "0                             0                               0   \n",
              "1                             0                               0   \n",
              "\n",
              "   Fuel_System_multijet  Fuel_System_multipoint injection  \\\n",
              "0                     0                                 1   \n",
              "1                     0                                 1   \n",
              "\n",
              "   Fuel_System_singplepoint injection  Turbo_no  Turbo_yes  Turbo_yes, two  \\\n",
              "0                                   0         0          0               0   \n",
              "1                                   0         0          0               0   \n",
              "\n",
              "   Turbo_yes, with intercooler  \n",
              "0                            1  \n",
              "1                            1  \n",
              "\n",
              "[2 rows x 36 columns]"
            ]
          },
          "execution_count": 325,
          "metadata": {},
          "output_type": "execute_result"
        }
      ],
      "source": [
        "SVR_df.head(2)"
      ]
    },
    {
      "cell_type": "code",
      "execution_count": 326,
      "metadata": {
        "gather": {
          "logged": 1703709440097
        },
        "jupyter": {
          "outputs_hidden": false,
          "source_hidden": false
        },
        "nteract": {
          "transient": {
            "deleting": false
          }
        }
      },
      "outputs": [
        {
          "name": "stderr",
          "output_type": "stream",
          "text": [
            "2023/12/27 20:35:56 WARNING mlflow.sklearn: Failed to log training dataset information to MLflow Tracking. Reason: 'Series' object has no attribute 'flatten'\n",
            "2023/12/27 20:37:15 INFO mlflow.sklearn.utils: Logging the 5 best runs, 51 runs will be omitted.\n"
          ]
        },
        {
          "name": "stdout",
          "output_type": "stream",
          "text": [
            "{'C': 1000, 'gamma': 'auto', 'kernel': 'rbf'}\n",
            "MSE: 1064.2439861686137\n",
            "RMSE 32.62275258417986\n"
          ]
        }
      ],
      "source": [
        "y = SVR_df[\"Co2_Emissions(g/km)\"]\n",
        "X = SVR_df.drop(\"Co2_Emissions(g/km)\", axis = 1)\n",
        "\n",
        "X_train, X_test, y_train, y_test = train_test_split(X,y,test_size=0.20,random_state = 101)\n",
        "\n",
        "scaler = StandardScaler()\n",
        "scaler.fit(X_train)\n",
        "scaled_X_train = scaler.transform(X_train)\n",
        "scaled_X_test = scaler.transform(X_test)\n",
        "\n",
        "mlflow.start_run()\n",
        "param_grid = {'C':[0.01,0.1,1,5,10,100,1000],'gamma':['auto','scale'], \"kernel\" : ['linear', 'poly', 'rbf', 'sigmoid']}\n",
        "svr_model = SVR()\n",
        "\n",
        "grid_model = GridSearchCV(estimator=svr_model,\n",
        "                          param_grid=param_grid,\n",
        "                          scoring='neg_mean_squared_error')\n",
        "\n",
        "grid_model.fit(scaled_X_train,y_train)\n",
        "\n",
        "print(grid_model.best_params_)\n",
        "\n",
        "test_predictions = grid_model.predict(scaled_X_test)\n",
        "Test_Residuals = y_test - test_predictions\n",
        "\n",
        "MSE = mean_squared_error(y_test,test_predictions)\n",
        "RMSE = np.sqrt(mean_squared_error(y_test,test_predictions))\n",
        "\n",
        "mlflow.end_run()\n",
        "\n",
        "print(\"MSE:\",MSE)\n",
        "print(\"RMSE\",RMSE)"
      ]
    },
    {
      "cell_type": "code",
      "execution_count": 327,
      "metadata": {
        "gather": {
          "logged": 1703709440475
        },
        "jupyter": {
          "outputs_hidden": false,
          "source_hidden": false
        },
        "nteract": {
          "transient": {
            "deleting": false
          }
        }
      },
      "outputs": [],
      "source": [
        "Model_Error_rates[\"SVM\"] = RMSE"
      ]
    },
    {
      "cell_type": "code",
      "execution_count": 328,
      "metadata": {
        "gather": {
          "logged": 1703709440785
        },
        "jupyter": {
          "outputs_hidden": false,
          "source_hidden": false
        },
        "nteract": {
          "transient": {
            "deleting": false
          }
        }
      },
      "outputs": [
        {
          "name": "stdout",
          "output_type": "stream",
          "text": [
            "1123 -> Actual value - 218.0, Predicted value - 199.31139839999526\n",
            "2169 -> Actual value - 221.0, Predicted value - 196.54493360865365\n",
            "2286 -> Actual value - 121.0, Predicted value - 119.28055136771627\n",
            "2050 -> Actual value - 208.0, Predicted value - 203.71208220850016\n",
            "1265 -> Actual value - 170.0, Predicted value - 167.21932826838804\n",
            "2322 -> Actual value - 70.0, Predicted value - 172.70865230823523\n",
            "459 -> Actual value - 139.0, Predicted value - 154.68682409743235\n",
            "1360 -> Actual value - 265.0, Predicted value - 231.45242815214965\n",
            "1694 -> Actual value - 155.0, Predicted value - 187.604663893336\n",
            "126 -> Actual value - 194.0, Predicted value - 190.2020566778731\n",
            "1955 -> Actual value - 218.0, Predicted value - 160.82165711239017\n"
          ]
        }
      ],
      "source": [
        "Count = 0\n",
        "for index, value in y_test.items():\n",
        "    print(f\"{index} -> Actual value - {value}, Predicted value - {test_predictions[Count]}\")\n",
        "    Count += 1\n",
        "    if Count == 11:\n",
        "        break"
      ]
    },
    {
      "cell_type": "markdown",
      "metadata": {
        "nteract": {
          "transient": {
            "deleting": false
          }
        }
      },
      "source": [
        "#### KNN Regression"
      ]
    },
    {
      "cell_type": "code",
      "execution_count": 329,
      "metadata": {
        "gather": {
          "logged": 1703709441070
        },
        "jupyter": {
          "outputs_hidden": false,
          "source_hidden": false
        },
        "nteract": {
          "transient": {
            "deleting": false
          }
        }
      },
      "outputs": [],
      "source": [
        "KNN_df = Final_df.copy()"
      ]
    },
    {
      "cell_type": "code",
      "execution_count": 330,
      "metadata": {
        "gather": {
          "logged": 1703709441382
        },
        "jupyter": {
          "outputs_hidden": false,
          "source_hidden": false
        },
        "nteract": {
          "transient": {
            "deleting": false
          }
        }
      },
      "outputs": [
        {
          "data": {
            "text/html": [
              "<div>\n",
              "<style scoped>\n",
              "    .dataframe tbody tr th:only-of-type {\n",
              "        vertical-align: middle;\n",
              "    }\n",
              "\n",
              "    .dataframe tbody tr th {\n",
              "        vertical-align: top;\n",
              "    }\n",
              "\n",
              "    .dataframe thead th {\n",
              "        text-align: right;\n",
              "    }\n",
              "</style>\n",
              "<table border=\"1\" class=\"dataframe\">\n",
              "  <thead>\n",
              "    <tr style=\"text-align: right;\">\n",
              "      <th></th>\n",
              "      <th>Power(kw)</th>\n",
              "      <th>Max_Torque(nm)</th>\n",
              "      <th>Engine_Capacity(cc)</th>\n",
              "      <th>Max_Power_Rpm</th>\n",
              "      <th>Max_Torque_Rpm</th>\n",
              "      <th>Co2_Emissions(g/km)</th>\n",
              "      <th>Fuel_Type_gasoline</th>\n",
              "      <th>Fuel_Type_gasoline / bio ethanol</th>\n",
              "      <th>Fuel_Type_lpg / gasoline</th>\n",
              "      <th>Cylinders_12, v engine</th>\n",
              "      <th>...</th>\n",
              "      <th>Cylinders_8, w engine</th>\n",
              "      <th>Fuel_System_direct injection</th>\n",
              "      <th>Fuel_System_indirect injection</th>\n",
              "      <th>Fuel_System_multijet</th>\n",
              "      <th>Fuel_System_multipoint injection</th>\n",
              "      <th>Fuel_System_singplepoint injection</th>\n",
              "      <th>Turbo_no</th>\n",
              "      <th>Turbo_yes</th>\n",
              "      <th>Turbo_yes, two</th>\n",
              "      <th>Turbo_yes, with intercooler</th>\n",
              "    </tr>\n",
              "  </thead>\n",
              "  <tbody>\n",
              "    <tr>\n",
              "      <th>0</th>\n",
              "      <td>99.0</td>\n",
              "      <td>206.0</td>\n",
              "      <td>1368.0</td>\n",
              "      <td>5500.0</td>\n",
              "      <td>3000.0</td>\n",
              "      <td>155.0</td>\n",
              "      <td>1</td>\n",
              "      <td>0</td>\n",
              "      <td>0</td>\n",
              "      <td>0</td>\n",
              "      <td>...</td>\n",
              "      <td>0</td>\n",
              "      <td>0</td>\n",
              "      <td>0</td>\n",
              "      <td>0</td>\n",
              "      <td>1</td>\n",
              "      <td>0</td>\n",
              "      <td>0</td>\n",
              "      <td>0</td>\n",
              "      <td>0</td>\n",
              "      <td>1</td>\n",
              "    </tr>\n",
              "    <tr>\n",
              "      <th>1</th>\n",
              "      <td>114.0</td>\n",
              "      <td>201.0</td>\n",
              "      <td>1368.0</td>\n",
              "      <td>5750.0</td>\n",
              "      <td>3000.0</td>\n",
              "      <td>162.0</td>\n",
              "      <td>1</td>\n",
              "      <td>0</td>\n",
              "      <td>0</td>\n",
              "      <td>0</td>\n",
              "      <td>...</td>\n",
              "      <td>0</td>\n",
              "      <td>0</td>\n",
              "      <td>0</td>\n",
              "      <td>0</td>\n",
              "      <td>1</td>\n",
              "      <td>0</td>\n",
              "      <td>0</td>\n",
              "      <td>0</td>\n",
              "      <td>0</td>\n",
              "      <td>1</td>\n",
              "    </tr>\n",
              "  </tbody>\n",
              "</table>\n",
              "<p>2 rows × 36 columns</p>\n",
              "</div>"
            ],
            "text/plain": [
              "   Power(kw)  Max_Torque(nm)  Engine_Capacity(cc)  Max_Power_Rpm  \\\n",
              "0       99.0           206.0               1368.0         5500.0   \n",
              "1      114.0           201.0               1368.0         5750.0   \n",
              "\n",
              "   Max_Torque_Rpm  Co2_Emissions(g/km)  Fuel_Type_gasoline  \\\n",
              "0          3000.0                155.0                   1   \n",
              "1          3000.0                162.0                   1   \n",
              "\n",
              "   Fuel_Type_gasoline / bio ethanol  Fuel_Type_lpg / gasoline  \\\n",
              "0                                 0                         0   \n",
              "1                                 0                         0   \n",
              "\n",
              "   Cylinders_12, v engine  ...  Cylinders_8, w engine  \\\n",
              "0                       0  ...                      0   \n",
              "1                       0  ...                      0   \n",
              "\n",
              "   Fuel_System_direct injection  Fuel_System_indirect injection  \\\n",
              "0                             0                               0   \n",
              "1                             0                               0   \n",
              "\n",
              "   Fuel_System_multijet  Fuel_System_multipoint injection  \\\n",
              "0                     0                                 1   \n",
              "1                     0                                 1   \n",
              "\n",
              "   Fuel_System_singplepoint injection  Turbo_no  Turbo_yes  Turbo_yes, two  \\\n",
              "0                                   0         0          0               0   \n",
              "1                                   0         0          0               0   \n",
              "\n",
              "   Turbo_yes, with intercooler  \n",
              "0                            1  \n",
              "1                            1  \n",
              "\n",
              "[2 rows x 36 columns]"
            ]
          },
          "execution_count": 330,
          "metadata": {},
          "output_type": "execute_result"
        }
      ],
      "source": [
        "KNN_df.head(2)"
      ]
    },
    {
      "cell_type": "code",
      "execution_count": 331,
      "metadata": {
        "gather": {
          "logged": 1703709447333
        },
        "jupyter": {
          "outputs_hidden": false,
          "source_hidden": false
        },
        "nteract": {
          "transient": {
            "deleting": false
          }
        }
      },
      "outputs": [
        {
          "name": "stderr",
          "output_type": "stream",
          "text": [
            "2023/12/27 20:37:18 WARNING mlflow.sklearn: Failed to log training dataset information to MLflow Tracking. Reason: 'Series' object has no attribute 'flatten'\n",
            "2023/12/27 20:37:23 INFO mlflow.sklearn.utils: Logging the 5 best runs, no runs will be omitted.\n"
          ]
        },
        {
          "name": "stdout",
          "output_type": "stream",
          "text": [
            "{'n_neighbors': 5}\n",
            "MSE: 994.0272268907562\n",
            "RMSE 31.528197330179793\n"
          ]
        }
      ],
      "source": [
        "y = KNN_df[\"Co2_Emissions(g/km)\"]\n",
        "X = KNN_df.drop(\"Co2_Emissions(g/km)\", axis = 1)\n",
        "\n",
        "X_train, X_test, y_train, y_test = train_test_split(X,y,test_size=0.20,random_state = 101)\n",
        "\n",
        "scaler = StandardScaler()\n",
        "scaler.fit(X_train)\n",
        "scaled_X_train = scaler.transform(X_train)\n",
        "scaled_X_test = scaler.transform(X_test)\n",
        "\n",
        "mlflow.start_run()\n",
        "\n",
        "param_grid = {\"n_neighbors\" : [1,5,10]}\n",
        "knn_model = KNeighborsRegressor()\n",
        "\n",
        "grid_model = GridSearchCV(estimator=knn_model,param_grid=param_grid,scoring='neg_mean_squared_error')\n",
        "\n",
        "grid_model.fit(scaled_X_train,y_train)\n",
        "\n",
        "print(grid_model.best_params_)\n",
        "\n",
        "test_predictions = grid_model.predict(scaled_X_test)\n",
        "Test_Residuals = y_test - test_predictions\n",
        "\n",
        "MSE = mean_squared_error(y_test,test_predictions)\n",
        "RMSE = np.sqrt(mean_squared_error(y_test,test_predictions))\n",
        "\n",
        "mlflow.end_run()\n",
        "\n",
        "print(\"MSE:\",MSE)\n",
        "print(\"RMSE\",RMSE)"
      ]
    },
    {
      "cell_type": "code",
      "execution_count": 332,
      "metadata": {
        "gather": {
          "logged": 1703709447692
        },
        "jupyter": {
          "outputs_hidden": false,
          "source_hidden": false
        },
        "nteract": {
          "transient": {
            "deleting": false
          }
        }
      },
      "outputs": [],
      "source": [
        "Model_Error_rates[\"KNN\"] = RMSE"
      ]
    },
    {
      "cell_type": "code",
      "execution_count": 333,
      "metadata": {
        "gather": {
          "logged": 1703709448101
        },
        "jupyter": {
          "outputs_hidden": false,
          "source_hidden": false
        },
        "nteract": {
          "transient": {
            "deleting": false
          }
        }
      },
      "outputs": [
        {
          "name": "stdout",
          "output_type": "stream",
          "text": [
            "1123 -> Actual value - 218.0, Predicted value - 192.4\n",
            "2169 -> Actual value - 221.0, Predicted value - 202.6\n",
            "2286 -> Actual value - 121.0, Predicted value - 108.6\n",
            "2050 -> Actual value - 208.0, Predicted value - 207.6\n",
            "1265 -> Actual value - 170.0, Predicted value - 173.4\n",
            "2322 -> Actual value - 70.0, Predicted value - 122.6\n",
            "459 -> Actual value - 139.0, Predicted value - 165.8\n",
            "1360 -> Actual value - 265.0, Predicted value - 213.0\n",
            "1694 -> Actual value - 155.0, Predicted value - 167.8\n",
            "126 -> Actual value - 194.0, Predicted value - 198.6\n",
            "1955 -> Actual value - 218.0, Predicted value - 207.6\n"
          ]
        }
      ],
      "source": [
        "Count = 0\n",
        "for index, value in y_test.items():\n",
        "    print(f\"{index} -> Actual value - {value}, Predicted value - {test_predictions[Count]}\")\n",
        "    Count += 1\n",
        "    if Count == 11:\n",
        "        break"
      ]
    },
    {
      "cell_type": "markdown",
      "metadata": {
        "nteract": {
          "transient": {
            "deleting": false
          }
        }
      },
      "source": [
        "Decision Tree Regression"
      ]
    },
    {
      "cell_type": "code",
      "execution_count": 334,
      "metadata": {
        "gather": {
          "logged": 1703709448409
        },
        "jupyter": {
          "outputs_hidden": false,
          "source_hidden": false
        },
        "nteract": {
          "transient": {
            "deleting": false
          }
        }
      },
      "outputs": [],
      "source": [
        "DT_df = Final_df.copy()"
      ]
    },
    {
      "cell_type": "code",
      "execution_count": 335,
      "metadata": {
        "gather": {
          "logged": 1703709448767
        },
        "jupyter": {
          "outputs_hidden": false,
          "source_hidden": false
        },
        "nteract": {
          "transient": {
            "deleting": false
          }
        }
      },
      "outputs": [
        {
          "data": {
            "text/html": [
              "<div>\n",
              "<style scoped>\n",
              "    .dataframe tbody tr th:only-of-type {\n",
              "        vertical-align: middle;\n",
              "    }\n",
              "\n",
              "    .dataframe tbody tr th {\n",
              "        vertical-align: top;\n",
              "    }\n",
              "\n",
              "    .dataframe thead th {\n",
              "        text-align: right;\n",
              "    }\n",
              "</style>\n",
              "<table border=\"1\" class=\"dataframe\">\n",
              "  <thead>\n",
              "    <tr style=\"text-align: right;\">\n",
              "      <th></th>\n",
              "      <th>Power(kw)</th>\n",
              "      <th>Max_Torque(nm)</th>\n",
              "      <th>Engine_Capacity(cc)</th>\n",
              "      <th>Max_Power_Rpm</th>\n",
              "      <th>Max_Torque_Rpm</th>\n",
              "      <th>Co2_Emissions(g/km)</th>\n",
              "      <th>Fuel_Type_gasoline</th>\n",
              "      <th>Fuel_Type_gasoline / bio ethanol</th>\n",
              "      <th>Fuel_Type_lpg / gasoline</th>\n",
              "      <th>Cylinders_12, v engine</th>\n",
              "      <th>...</th>\n",
              "      <th>Cylinders_8, w engine</th>\n",
              "      <th>Fuel_System_direct injection</th>\n",
              "      <th>Fuel_System_indirect injection</th>\n",
              "      <th>Fuel_System_multijet</th>\n",
              "      <th>Fuel_System_multipoint injection</th>\n",
              "      <th>Fuel_System_singplepoint injection</th>\n",
              "      <th>Turbo_no</th>\n",
              "      <th>Turbo_yes</th>\n",
              "      <th>Turbo_yes, two</th>\n",
              "      <th>Turbo_yes, with intercooler</th>\n",
              "    </tr>\n",
              "  </thead>\n",
              "  <tbody>\n",
              "    <tr>\n",
              "      <th>0</th>\n",
              "      <td>99.0</td>\n",
              "      <td>206.0</td>\n",
              "      <td>1368.0</td>\n",
              "      <td>5500.0</td>\n",
              "      <td>3000.0</td>\n",
              "      <td>155.0</td>\n",
              "      <td>1</td>\n",
              "      <td>0</td>\n",
              "      <td>0</td>\n",
              "      <td>0</td>\n",
              "      <td>...</td>\n",
              "      <td>0</td>\n",
              "      <td>0</td>\n",
              "      <td>0</td>\n",
              "      <td>0</td>\n",
              "      <td>1</td>\n",
              "      <td>0</td>\n",
              "      <td>0</td>\n",
              "      <td>0</td>\n",
              "      <td>0</td>\n",
              "      <td>1</td>\n",
              "    </tr>\n",
              "    <tr>\n",
              "      <th>1</th>\n",
              "      <td>114.0</td>\n",
              "      <td>201.0</td>\n",
              "      <td>1368.0</td>\n",
              "      <td>5750.0</td>\n",
              "      <td>3000.0</td>\n",
              "      <td>162.0</td>\n",
              "      <td>1</td>\n",
              "      <td>0</td>\n",
              "      <td>0</td>\n",
              "      <td>0</td>\n",
              "      <td>...</td>\n",
              "      <td>0</td>\n",
              "      <td>0</td>\n",
              "      <td>0</td>\n",
              "      <td>0</td>\n",
              "      <td>1</td>\n",
              "      <td>0</td>\n",
              "      <td>0</td>\n",
              "      <td>0</td>\n",
              "      <td>0</td>\n",
              "      <td>1</td>\n",
              "    </tr>\n",
              "  </tbody>\n",
              "</table>\n",
              "<p>2 rows × 36 columns</p>\n",
              "</div>"
            ],
            "text/plain": [
              "   Power(kw)  Max_Torque(nm)  Engine_Capacity(cc)  Max_Power_Rpm  \\\n",
              "0       99.0           206.0               1368.0         5500.0   \n",
              "1      114.0           201.0               1368.0         5750.0   \n",
              "\n",
              "   Max_Torque_Rpm  Co2_Emissions(g/km)  Fuel_Type_gasoline  \\\n",
              "0          3000.0                155.0                   1   \n",
              "1          3000.0                162.0                   1   \n",
              "\n",
              "   Fuel_Type_gasoline / bio ethanol  Fuel_Type_lpg / gasoline  \\\n",
              "0                                 0                         0   \n",
              "1                                 0                         0   \n",
              "\n",
              "   Cylinders_12, v engine  ...  Cylinders_8, w engine  \\\n",
              "0                       0  ...                      0   \n",
              "1                       0  ...                      0   \n",
              "\n",
              "   Fuel_System_direct injection  Fuel_System_indirect injection  \\\n",
              "0                             0                               0   \n",
              "1                             0                               0   \n",
              "\n",
              "   Fuel_System_multijet  Fuel_System_multipoint injection  \\\n",
              "0                     0                                 1   \n",
              "1                     0                                 1   \n",
              "\n",
              "   Fuel_System_singplepoint injection  Turbo_no  Turbo_yes  Turbo_yes, two  \\\n",
              "0                                   0         0          0               0   \n",
              "1                                   0         0          0               0   \n",
              "\n",
              "   Turbo_yes, with intercooler  \n",
              "0                            1  \n",
              "1                            1  \n",
              "\n",
              "[2 rows x 36 columns]"
            ]
          },
          "execution_count": 335,
          "metadata": {},
          "output_type": "execute_result"
        }
      ],
      "source": [
        "DT_df.head(2)"
      ]
    },
    {
      "cell_type": "code",
      "execution_count": 336,
      "metadata": {
        "gather": {
          "logged": 1703709454133
        },
        "jupyter": {
          "outputs_hidden": false,
          "source_hidden": false
        },
        "nteract": {
          "transient": {
            "deleting": false
          }
        }
      },
      "outputs": [
        {
          "name": "stderr",
          "output_type": "stream",
          "text": [
            "2023/12/27 20:37:25 WARNING mlflow.sklearn: Failed to log training dataset information to MLflow Tracking. Reason: 'Series' object has no attribute 'flatten'\n",
            "2023/12/27 20:37:30 INFO mlflow.sklearn.utils: Logging the 5 best runs, no runs will be omitted.\n"
          ]
        },
        {
          "name": "stdout",
          "output_type": "stream",
          "text": [
            "{}\n",
            "MSE: 1090.7829761948506\n",
            "RMSE 33.02700374231442\n"
          ]
        }
      ],
      "source": [
        "y = DT_df[\"Co2_Emissions(g/km)\"]\n",
        "X = DT_df.drop(\"Co2_Emissions(g/km)\", axis = 1)\n",
        "\n",
        "X_train, X_test, y_train, y_test = train_test_split(X,y,test_size=0.20,random_state = 101)\n",
        "\n",
        "scaler = StandardScaler()\n",
        "scaler.fit(X_train)\n",
        "scaled_X_train = scaler.transform(X_train)\n",
        "scaled_X_test = scaler.transform(X_test)\n",
        "\n",
        "mlflow.start_run()\n",
        "param_grid = {}\n",
        "DT_model = DecisionTreeRegressor()\n",
        "\n",
        "grid_model = GridSearchCV(estimator=DT_model,param_grid=param_grid,scoring='neg_mean_squared_error')\n",
        "\n",
        "grid_model.fit(scaled_X_train,y_train)\n",
        "\n",
        "print(grid_model.best_params_)\n",
        "\n",
        "test_predictions = grid_model.predict(scaled_X_test)\n",
        "Test_Residuals = y_test - test_predictions\n",
        "\n",
        "MSE = mean_squared_error(y_test,test_predictions)\n",
        "RMSE = np.sqrt(mean_squared_error(y_test,test_predictions))\n",
        "\n",
        "mlflow.end_run()\n",
        "\n",
        "print(\"MSE:\",MSE)\n",
        "print(\"RMSE\",RMSE)"
      ]
    },
    {
      "cell_type": "code",
      "execution_count": 337,
      "metadata": {
        "gather": {
          "logged": 1703709454519
        },
        "jupyter": {
          "outputs_hidden": false,
          "source_hidden": false
        },
        "nteract": {
          "transient": {
            "deleting": false
          }
        }
      },
      "outputs": [],
      "source": [
        "Model_Error_rates[\"DT\"] = RMSE"
      ]
    },
    {
      "cell_type": "code",
      "execution_count": 338,
      "metadata": {
        "gather": {
          "logged": 1703709454828
        },
        "jupyter": {
          "outputs_hidden": false,
          "source_hidden": false
        },
        "nteract": {
          "transient": {
            "deleting": false
          }
        }
      },
      "outputs": [
        {
          "name": "stdout",
          "output_type": "stream",
          "text": [
            "1123 -> Actual value - 218.0, Predicted value - 218.5\n",
            "2169 -> Actual value - 221.0, Predicted value - 203.0\n",
            "2286 -> Actual value - 121.0, Predicted value - 125.0\n",
            "2050 -> Actual value - 208.0, Predicted value - 175.0\n",
            "1265 -> Actual value - 170.0, Predicted value - 175.5\n",
            "2322 -> Actual value - 70.0, Predicted value - 166.25\n",
            "459 -> Actual value - 139.0, Predicted value - 119.0\n",
            "1360 -> Actual value - 265.0, Predicted value - 236.0\n",
            "1694 -> Actual value - 155.0, Predicted value - 219.0\n",
            "126 -> Actual value - 194.0, Predicted value - 192.0\n",
            "1955 -> Actual value - 218.0, Predicted value - 235.5\n"
          ]
        }
      ],
      "source": [
        "Count = 0\n",
        "for index, value in y_test.items():\n",
        "    print(f\"{index} -> Actual value - {value}, Predicted value - {test_predictions[Count]}\")\n",
        "    Count += 1\n",
        "    if Count == 11:\n",
        "        break"
      ]
    },
    {
      "cell_type": "markdown",
      "metadata": {
        "nteract": {
          "transient": {
            "deleting": false
          }
        }
      },
      "source": [
        "#### Random Forest"
      ]
    },
    {
      "cell_type": "code",
      "execution_count": 339,
      "metadata": {
        "gather": {
          "logged": 1703709455135
        },
        "jupyter": {
          "outputs_hidden": false,
          "source_hidden": false
        },
        "nteract": {
          "transient": {
            "deleting": false
          }
        }
      },
      "outputs": [],
      "source": [
        "RF_df = Final_df.copy()"
      ]
    },
    {
      "cell_type": "code",
      "execution_count": 340,
      "metadata": {
        "gather": {
          "logged": 1703709455463
        },
        "jupyter": {
          "outputs_hidden": false,
          "source_hidden": false
        },
        "nteract": {
          "transient": {
            "deleting": false
          }
        }
      },
      "outputs": [
        {
          "data": {
            "text/html": [
              "<div>\n",
              "<style scoped>\n",
              "    .dataframe tbody tr th:only-of-type {\n",
              "        vertical-align: middle;\n",
              "    }\n",
              "\n",
              "    .dataframe tbody tr th {\n",
              "        vertical-align: top;\n",
              "    }\n",
              "\n",
              "    .dataframe thead th {\n",
              "        text-align: right;\n",
              "    }\n",
              "</style>\n",
              "<table border=\"1\" class=\"dataframe\">\n",
              "  <thead>\n",
              "    <tr style=\"text-align: right;\">\n",
              "      <th></th>\n",
              "      <th>Power(kw)</th>\n",
              "      <th>Max_Torque(nm)</th>\n",
              "      <th>Engine_Capacity(cc)</th>\n",
              "      <th>Max_Power_Rpm</th>\n",
              "      <th>Max_Torque_Rpm</th>\n",
              "      <th>Co2_Emissions(g/km)</th>\n",
              "      <th>Fuel_Type_gasoline</th>\n",
              "      <th>Fuel_Type_gasoline / bio ethanol</th>\n",
              "      <th>Fuel_Type_lpg / gasoline</th>\n",
              "      <th>Cylinders_12, v engine</th>\n",
              "      <th>...</th>\n",
              "      <th>Cylinders_8, w engine</th>\n",
              "      <th>Fuel_System_direct injection</th>\n",
              "      <th>Fuel_System_indirect injection</th>\n",
              "      <th>Fuel_System_multijet</th>\n",
              "      <th>Fuel_System_multipoint injection</th>\n",
              "      <th>Fuel_System_singplepoint injection</th>\n",
              "      <th>Turbo_no</th>\n",
              "      <th>Turbo_yes</th>\n",
              "      <th>Turbo_yes, two</th>\n",
              "      <th>Turbo_yes, with intercooler</th>\n",
              "    </tr>\n",
              "  </thead>\n",
              "  <tbody>\n",
              "    <tr>\n",
              "      <th>0</th>\n",
              "      <td>99.0</td>\n",
              "      <td>206.0</td>\n",
              "      <td>1368.0</td>\n",
              "      <td>5500.0</td>\n",
              "      <td>3000.0</td>\n",
              "      <td>155.0</td>\n",
              "      <td>1</td>\n",
              "      <td>0</td>\n",
              "      <td>0</td>\n",
              "      <td>0</td>\n",
              "      <td>...</td>\n",
              "      <td>0</td>\n",
              "      <td>0</td>\n",
              "      <td>0</td>\n",
              "      <td>0</td>\n",
              "      <td>1</td>\n",
              "      <td>0</td>\n",
              "      <td>0</td>\n",
              "      <td>0</td>\n",
              "      <td>0</td>\n",
              "      <td>1</td>\n",
              "    </tr>\n",
              "    <tr>\n",
              "      <th>1</th>\n",
              "      <td>114.0</td>\n",
              "      <td>201.0</td>\n",
              "      <td>1368.0</td>\n",
              "      <td>5750.0</td>\n",
              "      <td>3000.0</td>\n",
              "      <td>162.0</td>\n",
              "      <td>1</td>\n",
              "      <td>0</td>\n",
              "      <td>0</td>\n",
              "      <td>0</td>\n",
              "      <td>...</td>\n",
              "      <td>0</td>\n",
              "      <td>0</td>\n",
              "      <td>0</td>\n",
              "      <td>0</td>\n",
              "      <td>1</td>\n",
              "      <td>0</td>\n",
              "      <td>0</td>\n",
              "      <td>0</td>\n",
              "      <td>0</td>\n",
              "      <td>1</td>\n",
              "    </tr>\n",
              "  </tbody>\n",
              "</table>\n",
              "<p>2 rows × 36 columns</p>\n",
              "</div>"
            ],
            "text/plain": [
              "   Power(kw)  Max_Torque(nm)  Engine_Capacity(cc)  Max_Power_Rpm  \\\n",
              "0       99.0           206.0               1368.0         5500.0   \n",
              "1      114.0           201.0               1368.0         5750.0   \n",
              "\n",
              "   Max_Torque_Rpm  Co2_Emissions(g/km)  Fuel_Type_gasoline  \\\n",
              "0          3000.0                155.0                   1   \n",
              "1          3000.0                162.0                   1   \n",
              "\n",
              "   Fuel_Type_gasoline / bio ethanol  Fuel_Type_lpg / gasoline  \\\n",
              "0                                 0                         0   \n",
              "1                                 0                         0   \n",
              "\n",
              "   Cylinders_12, v engine  ...  Cylinders_8, w engine  \\\n",
              "0                       0  ...                      0   \n",
              "1                       0  ...                      0   \n",
              "\n",
              "   Fuel_System_direct injection  Fuel_System_indirect injection  \\\n",
              "0                             0                               0   \n",
              "1                             0                               0   \n",
              "\n",
              "   Fuel_System_multijet  Fuel_System_multipoint injection  \\\n",
              "0                     0                                 1   \n",
              "1                     0                                 1   \n",
              "\n",
              "   Fuel_System_singplepoint injection  Turbo_no  Turbo_yes  Turbo_yes, two  \\\n",
              "0                                   0         0          0               0   \n",
              "1                                   0         0          0               0   \n",
              "\n",
              "   Turbo_yes, with intercooler  \n",
              "0                            1  \n",
              "1                            1  \n",
              "\n",
              "[2 rows x 36 columns]"
            ]
          },
          "execution_count": 340,
          "metadata": {},
          "output_type": "execute_result"
        }
      ],
      "source": [
        "RF_df.head(2)"
      ]
    },
    {
      "cell_type": "code",
      "execution_count": 341,
      "metadata": {
        "gather": {
          "logged": 1703709467586
        },
        "jupyter": {
          "outputs_hidden": false,
          "source_hidden": false
        },
        "nteract": {
          "transient": {
            "deleting": false
          }
        }
      },
      "outputs": [
        {
          "name": "stderr",
          "output_type": "stream",
          "text": [
            "2023/12/27 20:37:32 WARNING mlflow.sklearn: Failed to log training dataset information to MLflow Tracking. Reason: 'Series' object has no attribute 'flatten'\n",
            "2023/12/27 20:37:43 INFO mlflow.sklearn.utils: Logging the 5 best runs, no runs will be omitted.\n"
          ]
        },
        {
          "name": "stdout",
          "output_type": "stream",
          "text": [
            "{'n_estimators': 25}\n",
            "MSE: 690.1782197560149\n",
            "RMSE 26.271243209182447\n"
          ]
        }
      ],
      "source": [
        "y = RF_df[\"Co2_Emissions(g/km)\"]\n",
        "X = RF_df.drop(\"Co2_Emissions(g/km)\", axis = 1)\n",
        "\n",
        "X_train, X_test, y_train, y_test = train_test_split(X,y,test_size=0.20,random_state = 101)\n",
        "\n",
        "scaler = StandardScaler()\n",
        "scaler.fit(X_train)\n",
        "scaled_X_train = scaler.transform(X_train)\n",
        "scaled_X_test = scaler.transform(X_test)\n",
        "\n",
        "mlflow.start_run()\n",
        "\n",
        "RF_model = RandomForestRegressor()\n",
        "\n",
        "param_grid = {\"n_estimators\": [10,25,50,75,100]}\n",
        "grid_model = GridSearchCV(estimator = RF_model, param_grid=param_grid,scoring='neg_mean_squared_error')\n",
        "\n",
        "grid_model.fit(scaled_X_train,y_train)\n",
        "\n",
        "print(grid_model.best_params_)\n",
        "\n",
        "test_predictions = grid_model.predict(scaled_X_test)\n",
        "Test_Residuals = y_test - test_predictions\n",
        "\n",
        "MSE = mean_squared_error(y_test,test_predictions)\n",
        "RMSE = np.sqrt(mean_squared_error(y_test,test_predictions))\n",
        "\n",
        "mlflow.end_run()\n",
        "\n",
        "print(\"MSE:\",MSE)\n",
        "print(\"RMSE\",RMSE)"
      ]
    },
    {
      "cell_type": "code",
      "execution_count": 342,
      "metadata": {
        "gather": {
          "logged": 1703709467876
        },
        "jupyter": {
          "outputs_hidden": false,
          "source_hidden": false
        },
        "nteract": {
          "transient": {
            "deleting": false
          }
        }
      },
      "outputs": [],
      "source": [
        "Model_Error_rates[\"RF\"] = RMSE"
      ]
    },
    {
      "cell_type": "code",
      "execution_count": 343,
      "metadata": {
        "gather": {
          "logged": 1703709468250
        },
        "jupyter": {
          "outputs_hidden": false,
          "source_hidden": false
        },
        "nteract": {
          "transient": {
            "deleting": false
          }
        }
      },
      "outputs": [
        {
          "name": "stdout",
          "output_type": "stream",
          "text": [
            "1123 -> Actual value - 218.0, Predicted value - 213.944\n",
            "2169 -> Actual value - 221.0, Predicted value - 201.53400000000002\n",
            "2286 -> Actual value - 121.0, Predicted value - 121.55333333333333\n",
            "2050 -> Actual value - 208.0, Predicted value - 185.49666666666667\n",
            "1265 -> Actual value - 170.0, Predicted value - 175.58333333333337\n",
            "2322 -> Actual value - 70.0, Predicted value - 156.39666666666665\n",
            "459 -> Actual value - 139.0, Predicted value - 149.38\n",
            "1360 -> Actual value - 265.0, Predicted value - 262.28\n",
            "1694 -> Actual value - 155.0, Predicted value - 195.59999999999997\n",
            "126 -> Actual value - 194.0, Predicted value - 197.64\n",
            "1955 -> Actual value - 218.0, Predicted value - 215.09866666666665\n"
          ]
        }
      ],
      "source": [
        "Count = 0\n",
        "for index, value in y_test.items():\n",
        "    print(f\"{index} -> Actual value - {value}, Predicted value - {test_predictions[Count]}\")\n",
        "    Count += 1\n",
        "    if Count == 11:\n",
        "        break"
      ]
    },
    {
      "cell_type": "markdown",
      "metadata": {
        "nteract": {
          "transient": {
            "deleting": false
          }
        }
      },
      "source": [
        "#### Best Model"
      ]
    },
    {
      "cell_type": "code",
      "execution_count": 344,
      "metadata": {
        "gather": {
          "logged": 1703709468533
        },
        "jupyter": {
          "outputs_hidden": false,
          "source_hidden": false
        },
        "nteract": {
          "transient": {
            "deleting": false
          }
        }
      },
      "outputs": [],
      "source": [
        "Best_Model = sorted(Model_Error_rates.items(), key=lambda item: item[1])"
      ]
    },
    {
      "cell_type": "code",
      "execution_count": 345,
      "metadata": {
        "gather": {
          "logged": 1703709468837
        },
        "jupyter": {
          "outputs_hidden": false,
          "source_hidden": false
        },
        "nteract": {
          "transient": {
            "deleting": false
          }
        }
      },
      "outputs": [
        {
          "data": {
            "text/plain": [
              "[('RF', 26.271243209182447),\n",
              " ('KNN', 31.528197330179793),\n",
              " ('SVM', 32.62275258417986),\n",
              " ('DT', 33.02700374231442),\n",
              " ('Linear Regression', 37.40051718069501)]"
            ]
          },
          "execution_count": 345,
          "metadata": {},
          "output_type": "execute_result"
        }
      ],
      "source": [
        "Best_Model"
      ]
    },
    {
      "cell_type": "markdown",
      "metadata": {
        "nteract": {
          "transient": {
            "deleting": false
          }
        }
      },
      "source": [
        "Random Forest is the best model with the lowest RMSE value."
      ]
    },
    {
      "cell_type": "markdown",
      "metadata": {},
      "source": [
        "<center>\n",
        "<h3>Thank You!</h3>\n",
        "</center>"
      ]
    }
  ],
  "metadata": {
    "kernel_info": {
      "name": "workstation_env"
    },
    "kernelspec": {
      "display_name": "C02_Emission_Prediction-env",
      "language": "python",
      "name": "workstation_env"
    },
    "language_info": {
      "codemirror_mode": {
        "name": "ipython",
        "version": 3
      },
      "file_extension": ".py",
      "mimetype": "text/x-python",
      "name": "python",
      "nbconvert_exporter": "python",
      "pygments_lexer": "ipython3",
      "version": "3.8.18"
    },
    "microsoft": {
      "host": {
        "AzureML": {
          "notebookHasBeenCompleted": true
        }
      },
      "ms_spell_check": {
        "ms_spell_check_language": "en"
      }
    },
    "nteract": {
      "version": "nteract-front-end@1.0.0"
    }
  },
  "nbformat": 4,
  "nbformat_minor": 2
}
