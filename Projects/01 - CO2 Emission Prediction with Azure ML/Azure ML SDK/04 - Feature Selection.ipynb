{
  "cells": [
    {
      "cell_type": "markdown",
      "metadata": {},
      "source": [
        "<h2>Feature Engineering & Feature Selection</h2>"
      ]
    },
    {
      "cell_type": "markdown",
      "metadata": {},
      "source": [
        "<h3>Importing Libraries</h3>"
      ]
    },
    {
      "cell_type": "code",
      "execution_count": 2,
      "metadata": {
        "gather": {
          "logged": 1703608757236
        }
      },
      "outputs": [
        {
          "name": "stderr",
          "output_type": "stream",
          "text": [
            "/anaconda/envs/workstation_env/lib/python3.8/site-packages/scipy/__init__.py:146: UserWarning: A NumPy version >=1.16.5 and <1.23.0 is required for this version of SciPy (detected version 1.24.3\n",
            "  warnings.warn(f\"A NumPy version >={np_minversion} and <{np_maxversion}\"\n"
          ]
        }
      ],
      "source": [
        "import numpy as np\n",
        "import pandas as pd\n",
        "import matplotlib.pyplot as plt\n",
        "import seaborn as sns\n",
        "import warnings\n",
        "%matplotlib inline\n",
        "warnings.filterwarnings(\"ignore\")\n",
        "from scipy.stats import pearsonr, spearmanr\n",
        "from scipy.stats import f_oneway\n",
        "from scipy.stats import shapiro \n",
        "from azure.ai.ml import MLClient\n",
        "from azure.identity import DefaultAzureCredential\n",
        "from azure.ai.ml.entities import Data\n",
        "from azure.ai.ml.constants import AssetTypes\n"
      ]
    },
    {
      "cell_type": "markdown",
      "metadata": {},
      "source": [
        "<h3>Reading Data</h3>"
      ]
    },
    {
      "cell_type": "code",
      "execution_count": 3,
      "metadata": {
        "gather": {
          "logged": 1703608757391
        }
      },
      "outputs": [],
      "source": [
        "# authenticate\n",
        "credential = DefaultAzureCredential()\n",
        "\n",
        "# Get a handle to the workspace\n",
        "ml_client = MLClient(\n",
        "    credential=credential,\n",
        "    subscription_id=\"###\",\n",
        "    resource_group_name=\"###\",\n",
        "    workspace_name=\"###\",\n",
        ")"
      ]
    },
    {
      "cell_type": "code",
      "execution_count": 4,
      "metadata": {
        "gather": {
          "logged": 1703608758532
        },
        "jupyter": {
          "outputs_hidden": false,
          "source_hidden": false
        },
        "nteract": {
          "transient": {
            "deleting": false
          }
        }
      },
      "outputs": [
        {
          "name": "stdout",
          "output_type": "stream",
          "text": [
            "Data asset URI: azureml://subscriptions/144c7089-5d3d-40fa-bfaf-6ffb69774b59/resourcegroups/AML-sdk-v2-RG1/workspaces/AML-sdk-v2-RG1-WS1/datastores/workspaceblobstore/paths/LocalUpload/1355fe348222a2929bf9227df96c0c27/Outlier_Cleaned_Data.csv\n"
          ]
        }
      ],
      "source": [
        "version = \"Outlier_Cleaned_Data\"\n",
        "# get a handle of the data asset and print the URI\n",
        "data_asset = ml_client.data.get(name=\"Car-Data\", version=version)\n",
        "print(f\"Data asset URI: {data_asset.path}\")\n",
        "\n",
        "# read into pandas - note that you will see 2 headers in your data frame - that is ok, for now\n",
        "\n",
        "df = pd.read_csv(data_asset.path)"
      ]
    },
    {
      "cell_type": "code",
      "execution_count": 5,
      "metadata": {
        "gather": {
          "logged": 1703608758685
        }
      },
      "outputs": [
        {
          "data": {
            "text/plain": [
              "Index(['Unnamed: 0', 'Fuel_Type', 'Power(kw)', 'Max_Torque(nm)', 'Cylinders',\n",
              "       'Valves_Per_Cylinder', 'Engine_Capacity(cc)', 'Max_Power_Rpm',\n",
              "       'Max_Torque_Rpm', 'Fuel_System', 'Turbo', 'Co2_Emissions(g/km)',\n",
              "       'Compression_Ratio'],\n",
              "      dtype='object')"
            ]
          },
          "execution_count": 5,
          "metadata": {},
          "output_type": "execute_result"
        }
      ],
      "source": [
        "df.columns"
      ]
    },
    {
      "cell_type": "code",
      "execution_count": 6,
      "metadata": {
        "gather": {
          "logged": 1703608758831
        },
        "jupyter": {
          "outputs_hidden": false,
          "source_hidden": false
        },
        "nteract": {
          "transient": {
            "deleting": false
          }
        }
      },
      "outputs": [],
      "source": [
        "df = df.drop(\"Unnamed: 0\", axis = 1)"
      ]
    },
    {
      "cell_type": "markdown",
      "metadata": {},
      "source": [
        "<h3>Feature Selection</h3>"
      ]
    },
    {
      "cell_type": "code",
      "execution_count": 7,
      "metadata": {
        "gather": {
          "logged": 1703608758955
        }
      },
      "outputs": [],
      "source": [
        "Numerical_df = df.select_dtypes(include=['int', 'float'])\n",
        "Categorical_df = df.select_dtypes(include=['object'])"
      ]
    },
    {
      "cell_type": "markdown",
      "metadata": {},
      "source": [
        "<pre>Our dependent feature or target feature is 'Co2_Emissions(g/km)' which is numerical data type. </pre>"
      ]
    },
    {
      "cell_type": "markdown",
      "metadata": {},
      "source": [
        "<pre>Numerical I/P vs Numerical O/P ('Co2_Emissions(g/km)')</pre>"
      ]
    },
    {
      "cell_type": "code",
      "execution_count": 8,
      "metadata": {
        "gather": {
          "logged": 1703608759101
        }
      },
      "outputs": [
        {
          "data": {
            "text/plain": [
              "Index(['Power(kw)', 'Max_Torque(nm)', 'Valves_Per_Cylinder',\n",
              "       'Engine_Capacity(cc)', 'Max_Power_Rpm', 'Max_Torque_Rpm',\n",
              "       'Co2_Emissions(g/km)', 'Compression_Ratio'],\n",
              "      dtype='object')"
            ]
          },
          "execution_count": 8,
          "metadata": {},
          "output_type": "execute_result"
        }
      ],
      "source": [
        "Numerical_df.columns"
      ]
    },
    {
      "cell_type": "markdown",
      "metadata": {},
      "source": [
        "<pre>\n",
        "We will use Pearson correlation coefficient test to check if the Numerical features \n",
        "has linear relationship with Target feature.\n",
        "We will use Spearman's rank correlation coefficient test to check if the Numerical features \n",
        "has non-linear relationship with Target feature.\n",
        "</pre>"
      ]
    },
    {
      "cell_type": "code",
      "execution_count": 9,
      "metadata": {
        "gather": {
          "logged": 1703608759236
        }
      },
      "outputs": [],
      "source": [
        "def Num_vs_Num_Stat_test(columns):\n",
        "    Pearson = {}\n",
        "    Spearman = {}\n",
        "    for column in columns:\n",
        "        if column != \"Co2_Emissions(g/km)\":\n",
        "            Pearson_test = pearsonr(df[column], df[\"Co2_Emissions(g/km)\"])\n",
        "            Spearman_test = spearmanr(df[column], df[\"Co2_Emissions(g/km)\"])\n",
        "            Pearson[column] = Pearson_test\n",
        "            Spearman[column] = Spearman_test\n",
        "    return Pearson, Spearman "
      ]
    },
    {
      "cell_type": "code",
      "execution_count": 10,
      "metadata": {
        "gather": {
          "logged": 1703608759374
        }
      },
      "outputs": [
        {
          "data": {
            "text/plain": [
              "({'Power(kw)': (0.621586371559939, 3.627950253742235e-254),\n",
              "  'Max_Torque(nm)': (0.5799720487666042, 9.756990709358874e-214),\n",
              "  'Valves_Per_Cylinder': (-0.045869675125203624, 0.025328640410985988),\n",
              "  'Engine_Capacity(cc)': (0.831538932919992, 0.0),\n",
              "  'Max_Power_Rpm': (0.23223131605784547, 1.7911159574183147e-30),\n",
              "  'Max_Torque_Rpm': (0.2243308678471081, 1.7000816098202115e-28),\n",
              "  'Compression_Ratio': (-0.045142640714099486, 0.027745186962266757)},\n",
              " {'Power(kw)': SpearmanrResult(correlation=0.5987928129129545, pvalue=2.7543453333030585e-231),\n",
              "  'Max_Torque(nm)': SpearmanrResult(correlation=0.5452618348665828, pvalue=3.2259926566812656e-184),\n",
              "  'Valves_Per_Cylinder': SpearmanrResult(correlation=0.009162154688796657, pvalue=0.6552573742917072),\n",
              "  'Engine_Capacity(cc)': SpearmanrResult(correlation=0.7999453371071605, pvalue=0.0),\n",
              "  'Max_Power_Rpm': SpearmanrResult(correlation=0.19437809114571428, pvalue=1.1420443359462157e-21),\n",
              "  'Max_Torque_Rpm': SpearmanrResult(correlation=0.204227603897692, pvalue=8.473579980024337e-24),\n",
              "  'Compression_Ratio': SpearmanrResult(correlation=-0.10977247326358243, pvalue=8.081198932762439e-08)})"
            ]
          },
          "execution_count": 10,
          "metadata": {},
          "output_type": "execute_result"
        }
      ],
      "source": [
        "columns = Numerical_df.columns\n",
        "Num_vs_Num_Stat_test(columns)"
      ]
    },
    {
      "cell_type": "markdown",
      "metadata": {},
      "source": [
        "<pre>\n",
        "Pearson Correlation Co-efficient ->\n",
        "High degree: If the coefficient value lies between ± 0.50 and ± 1, then it is said to be a strong correlation. \n",
        "Moderate degree: If the value lies between ± 0.30 and ± 0.49, then it is said to be a medium correlation. \n",
        "Low degree: When the value lies below + . 29, then it is said to be a small correlation.\n",
        "\n",
        "Spearman Rank Correlation -> \n",
        "1.0 (a perfect positive correlation) and -1.0 (a perfect negative correlation).\n",
        "0 indicates no association between ranks.\n",
        "</pre>"
      ]
    },
    {
      "cell_type": "markdown",
      "metadata": {},
      "source": [
        "<pre>\n",
        "Analysing the above results, we can say that the following features have no linear or non linear relationship\n",
        "with the target feature.\n",
        "1. Valves_Per_Cylinder\n",
        "2. Compression_Ratio\n",
        "</pre>"
      ]
    },
    {
      "cell_type": "code",
      "execution_count": 11,
      "metadata": {
        "gather": {
          "logged": 1703608759577
        }
      },
      "outputs": [],
      "source": [
        "df = df.drop(columns=[\"Valves_Per_Cylinder\",\"Compression_Ratio\"], axis = 1)"
      ]
    },
    {
      "cell_type": "markdown",
      "metadata": {},
      "source": [
        "<pre>Categorical I/P vs Numerical O/P ('Co2_Emissions(g/km)')</pre>"
      ]
    },
    {
      "cell_type": "code",
      "execution_count": 12,
      "metadata": {
        "gather": {
          "logged": 1703608759720
        }
      },
      "outputs": [
        {
          "data": {
            "text/html": [
              "<div>\n",
              "<style scoped>\n",
              "    .dataframe tbody tr th:only-of-type {\n",
              "        vertical-align: middle;\n",
              "    }\n",
              "\n",
              "    .dataframe tbody tr th {\n",
              "        vertical-align: top;\n",
              "    }\n",
              "\n",
              "    .dataframe thead th {\n",
              "        text-align: right;\n",
              "    }\n",
              "</style>\n",
              "<table border=\"1\" class=\"dataframe\">\n",
              "  <thead>\n",
              "    <tr style=\"text-align: right;\">\n",
              "      <th></th>\n",
              "      <th>Fuel_Type</th>\n",
              "      <th>Cylinders</th>\n",
              "      <th>Fuel_System</th>\n",
              "      <th>Turbo</th>\n",
              "    </tr>\n",
              "  </thead>\n",
              "  <tbody>\n",
              "    <tr>\n",
              "      <th>0</th>\n",
              "      <td>gasoline</td>\n",
              "      <td>4, in line</td>\n",
              "      <td>multipoint injection</td>\n",
              "      <td>yes, with intercooler</td>\n",
              "    </tr>\n",
              "    <tr>\n",
              "      <th>1</th>\n",
              "      <td>gasoline</td>\n",
              "      <td>4, in line</td>\n",
              "      <td>multipoint injection</td>\n",
              "      <td>yes, with intercooler</td>\n",
              "    </tr>\n",
              "    <tr>\n",
              "      <th>2</th>\n",
              "      <td>gasoline</td>\n",
              "      <td>4, in line</td>\n",
              "      <td>multipoint injection</td>\n",
              "      <td>yes, with intercooler</td>\n",
              "    </tr>\n",
              "    <tr>\n",
              "      <th>3</th>\n",
              "      <td>gasoline</td>\n",
              "      <td>4, in line</td>\n",
              "      <td>direct injection</td>\n",
              "      <td>no</td>\n",
              "    </tr>\n",
              "    <tr>\n",
              "      <th>4</th>\n",
              "      <td>gasoline</td>\n",
              "      <td>4, in line</td>\n",
              "      <td>multipoint injection</td>\n",
              "      <td>no</td>\n",
              "    </tr>\n",
              "    <tr>\n",
              "      <th>...</th>\n",
              "      <td>...</td>\n",
              "      <td>...</td>\n",
              "      <td>...</td>\n",
              "      <td>...</td>\n",
              "    </tr>\n",
              "    <tr>\n",
              "      <th>2372</th>\n",
              "      <td>gasoline</td>\n",
              "      <td>4, in line</td>\n",
              "      <td>direct injection</td>\n",
              "      <td>yes, with intercooler</td>\n",
              "    </tr>\n",
              "    <tr>\n",
              "      <th>2373</th>\n",
              "      <td>gasoline</td>\n",
              "      <td>4, in line</td>\n",
              "      <td>direct injection</td>\n",
              "      <td>yes, with intercooler</td>\n",
              "    </tr>\n",
              "    <tr>\n",
              "      <th>2374</th>\n",
              "      <td>gasoline</td>\n",
              "      <td>4, in line</td>\n",
              "      <td>direct injection</td>\n",
              "      <td>yes, with intercooler</td>\n",
              "    </tr>\n",
              "    <tr>\n",
              "      <th>2375</th>\n",
              "      <td>gasoline</td>\n",
              "      <td>4, in line</td>\n",
              "      <td>direct injection</td>\n",
              "      <td>yes, with intercooler</td>\n",
              "    </tr>\n",
              "    <tr>\n",
              "      <th>2376</th>\n",
              "      <td>gasoline</td>\n",
              "      <td>3, in line</td>\n",
              "      <td>direct injection</td>\n",
              "      <td>yes, with intercooler</td>\n",
              "    </tr>\n",
              "  </tbody>\n",
              "</table>\n",
              "<p>2377 rows × 4 columns</p>\n",
              "</div>"
            ],
            "text/plain": [
              "     Fuel_Type   Cylinders           Fuel_System                  Turbo\n",
              "0     gasoline  4, in line  multipoint injection  yes, with intercooler\n",
              "1     gasoline  4, in line  multipoint injection  yes, with intercooler\n",
              "2     gasoline  4, in line  multipoint injection  yes, with intercooler\n",
              "3     gasoline  4, in line      direct injection                     no\n",
              "4     gasoline  4, in line  multipoint injection                     no\n",
              "...        ...         ...                   ...                    ...\n",
              "2372  gasoline  4, in line      direct injection  yes, with intercooler\n",
              "2373  gasoline  4, in line      direct injection  yes, with intercooler\n",
              "2374  gasoline  4, in line      direct injection  yes, with intercooler\n",
              "2375  gasoline  4, in line      direct injection  yes, with intercooler\n",
              "2376  gasoline  3, in line      direct injection  yes, with intercooler\n",
              "\n",
              "[2377 rows x 4 columns]"
            ]
          },
          "execution_count": 12,
          "metadata": {},
          "output_type": "execute_result"
        }
      ],
      "source": [
        "Categorical_df"
      ]
    },
    {
      "cell_type": "markdown",
      "metadata": {},
      "source": [
        "<pre>\n",
        "To perform statistical test let's check how many unique categories are present within each categorical feature.\n",
        "</pre>"
      ]
    },
    {
      "cell_type": "code",
      "execution_count": 13,
      "metadata": {
        "gather": {
          "logged": 1703608759858
        }
      },
      "outputs": [],
      "source": [
        "def unique_categories_func(columns):\n",
        "    Result = {}\n",
        "    for column in columns:\n",
        "        Uniques = df[column].unique()\n",
        "        Result[column] = len(Uniques)\n",
        "    return  Result"
      ]
    },
    {
      "cell_type": "code",
      "execution_count": 14,
      "metadata": {
        "gather": {
          "logged": 1703608760004
        }
      },
      "outputs": [
        {
          "data": {
            "text/plain": [
              "{'Fuel_Type': 4, 'Cylinders': 19, 'Fuel_System': 6, 'Turbo': 5}"
            ]
          },
          "execution_count": 14,
          "metadata": {},
          "output_type": "execute_result"
        }
      ],
      "source": [
        "columns = Categorical_df.columns\n",
        "unique_categories_func(columns)"
      ]
    },
    {
      "cell_type": "markdown",
      "metadata": {},
      "source": [
        "<pre>\n",
        "Since every categorical feature has more than 2 unique values we will use Anova test.\n",
        "Also before performing the test we have to check for assumption of normality.\n",
        "</pre>"
      ]
    },
    {
      "cell_type": "markdown",
      "metadata": {},
      "source": [
        "<pre>We will use Shapiro-Wilk Test to check normality of the feature.\n",
        "If the p-value of the test is greater than α = .05, then the data is assumed to be normally distributed.\n",
        "</pre>"
      ]
    },
    {
      "cell_type": "code",
      "execution_count": 15,
      "metadata": {
        "gather": {
          "logged": 1703608760159
        }
      },
      "outputs": [
        {
          "data": {
            "text/plain": [
              "ShapiroResult(statistic=0.895675778388977, pvalue=1.9060724034818683e-37)"
            ]
          },
          "execution_count": 15,
          "metadata": {},
          "output_type": "execute_result"
        }
      ],
      "source": [
        "shapiro(df[\"Co2_Emissions(g/km)\"])"
      ]
    },
    {
      "cell_type": "markdown",
      "metadata": {},
      "source": [
        "<pre>\n",
        "The data is normally distributed.\n",
        "</pre>"
      ]
    },
    {
      "cell_type": "code",
      "execution_count": 16,
      "metadata": {
        "gather": {
          "logged": 1703608760297
        }
      },
      "outputs": [],
      "source": [
        "def Anova_func(columns):\n",
        "    for column in columns:\n",
        "        All_Groups = []\n",
        "        for group in df[column].unique():\n",
        "            Group = df[df[column] == group][\"Co2_Emissions(g/km)\"]\n",
        "            All_Groups.append(Group)\n",
        "        print(column,\":\")\n",
        "        print(f_oneway(*All_Groups))"
      ]
    },
    {
      "cell_type": "code",
      "execution_count": 17,
      "metadata": {
        "gather": {
          "logged": 1703608760423
        }
      },
      "outputs": [
        {
          "name": "stdout",
          "output_type": "stream",
          "text": [
            "Fuel_Type :\n",
            "F_onewayResult(statistic=1.0433715907928685, pvalue=0.3722030255702256)\n",
            "Cylinders :\n",
            "F_onewayResult(statistic=226.5972394872426, pvalue=0.0)\n",
            "Fuel_System :\n",
            "F_onewayResult(statistic=18.12008365993093, pvalue=1.1066299620038037e-17)\n",
            "Turbo :\n",
            "F_onewayResult(statistic=26.591601701080272, pvalue=1.3209604920022089e-21)\n"
          ]
        }
      ],
      "source": [
        "columns = Categorical_df.columns\n",
        "Anova_func(columns) "
      ]
    },
    {
      "cell_type": "markdown",
      "metadata": {},
      "source": [
        "<pre>\n",
        "Based on the Analysis, the feature Fuel_Type fails to reject the null hypothesis, since pvalue > 0.05 which means \n",
        "there is no difference between groups. \n",
        "</pre>"
      ]
    },
    {
      "cell_type": "code",
      "execution_count": 17,
      "metadata": {
        "gather": {
          "logged": 1703607950329
        }
      },
      "outputs": [],
      "source": [
        "df = df.drop(\"Fuel_Type\", axis = 1)"
      ]
    },
    {
      "cell_type": "markdown",
      "metadata": {},
      "source": [
        "<h3>Save Data</h3>"
      ]
    },
    {
      "cell_type": "code",
      "execution_count": 18,
      "metadata": {
        "gather": {
          "logged": 1703608760548
        }
      },
      "outputs": [],
      "source": [
        "df.to_csv(\"../Data/Feature_Selected_Data.csv\")"
      ]
    },
    {
      "cell_type": "markdown",
      "metadata": {
        "nteract": {
          "transient": {
            "deleting": false
          }
        }
      },
      "source": [
        "### Upload data to cloud storage"
      ]
    },
    {
      "cell_type": "code",
      "execution_count": 19,
      "metadata": {
        "gather": {
          "logged": 1703608789959
        },
        "jupyter": {
          "outputs_hidden": false,
          "source_hidden": false
        },
        "nteract": {
          "transient": {
            "deleting": false
          }
        }
      },
      "outputs": [
        {
          "name": "stderr",
          "output_type": "stream",
          "text": [
            "\r\u001b[32mUploading Feature_Selected_Data.csv\u001b[32m (< 1 MB): 0.00B [00:00, ?B/s]\r\u001b[32mUploading Feature_Selected_Data.csv\u001b[32m (< 1 MB): 100%|██████████| 226k/226k [00:00<00:00, 14.4MB/s]\n",
            "\u001b[39m\n",
            "\n"
          ]
        },
        {
          "name": "stdout",
          "output_type": "stream",
          "text": [
            "Data asset created. Name: Car-Data, version: Feature_Selected_Data\n"
          ]
        }
      ],
      "source": [
        "# update the 'my_path' variable to match the location of where you downloaded the data on your\n",
        "# local filesystem\n",
        "\n",
        "my_path = \"../Data/Feature_Selected_Data.csv\"\n",
        "# set the version number of the data asset\n",
        "version = \"Feature_Selected_Data\"\n",
        "\n",
        "my_data = Data(\n",
        "    name=\"Car-Data\",\n",
        "    version=version,\n",
        "    description=\"Co2 Emissions Prediction - Car Data\",\n",
        "    path=my_path,\n",
        "    type=AssetTypes.URI_FILE,\n",
        ")\n",
        "\n",
        "## create data asset if it doesn't already exist:\n",
        "ml_client.data.create_or_update(my_data)\n",
        "print(f\"Data asset created. Name: {my_data.name}, version: {my_data.version}\")"
      ]
    }
  ],
  "metadata": {
    "kernel_info": {
      "name": "workstation_env"
    },
    "kernelspec": {
      "display_name": "C02_Emission_Prediction-env",
      "language": "python",
      "name": "workstation_env"
    },
    "language_info": {
      "codemirror_mode": {
        "name": "ipython",
        "version": 3
      },
      "file_extension": ".py",
      "mimetype": "text/x-python",
      "name": "python",
      "nbconvert_exporter": "python",
      "pygments_lexer": "ipython3",
      "version": "3.8.18"
    },
    "microsoft": {
      "host": {
        "AzureML": {
          "notebookHasBeenCompleted": true
        }
      },
      "ms_spell_check": {
        "ms_spell_check_language": "en"
      }
    },
    "nteract": {
      "version": "nteract-front-end@1.0.0"
    }
  },
  "nbformat": 4,
  "nbformat_minor": 2
}
